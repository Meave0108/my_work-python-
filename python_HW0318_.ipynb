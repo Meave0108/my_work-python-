{
  "nbformat": 4,
  "nbformat_minor": 0,
  "metadata": {
    "colab": {
      "name": "python HW0318 .ipynb",
      "provenance": [],
      "authorship_tag": "ABX9TyNbgNchNasXxKCxUCRC9XaD",
      "include_colab_link": true
    },
    "kernelspec": {
      "name": "python3",
      "display_name": "Python 3"
    }
  },
  "cells": [
    {
      "cell_type": "markdown",
      "metadata": {
        "id": "view-in-github",
        "colab_type": "text"
      },
      "source": [
        "<a href=\"https://colab.research.google.com/github/Meave0108/my_work-python-/blob/master/python_HW0318_.ipynb\" target=\"_parent\"><img src=\"https://colab.research.google.com/assets/colab-badge.svg\" alt=\"Open In Colab\"/></a>"
      ]
    },
    {
      "cell_type": "code",
      "metadata": {
        "id": "kKUtTBTBcO1n",
        "colab_type": "code",
        "outputId": "e8dacdd4-fad1-485d-ccec-65fd95cee5cc",
        "colab": {
          "base_uri": "https://localhost:8080/",
          "height": 87
        }
      },
      "source": [
        "%tensorflow_version"
      ],
      "execution_count": 0,
      "outputs": [
        {
          "output_type": "stream",
          "text": [
            "Currently selected TF version: 1.x\n",
            "Available versions:\n",
            "* 1.x\n",
            "* 2.x\n"
          ],
          "name": "stdout"
        }
      ]
    },
    {
      "cell_type": "code",
      "metadata": {
        "id": "fFMyqrBmcivw",
        "colab_type": "code",
        "outputId": "0fe1cf15-b291-4a69-b718-1f55d1943fad",
        "colab": {
          "base_uri": "https://localhost:8080/",
          "height": 35
        }
      },
      "source": [
        "%tensorflow_version 2.x"
      ],
      "execution_count": 0,
      "outputs": [
        {
          "output_type": "stream",
          "text": [
            "ERROR! Session/line number was not unique in database. History logging moved to new session 67\n"
          ],
          "name": "stdout"
        }
      ]
    },
    {
      "cell_type": "code",
      "metadata": {
        "id": "rz7YQC2Vci5B",
        "colab_type": "code",
        "colab": {}
      },
      "source": [
        "import tensorflow as tf\n",
        "%matplotlib inline\n",
        "import numpy as np\n",
        "import matplotlib.pyplot as plt\n",
        "import pandas as pd"
      ],
      "execution_count": 0,
      "outputs": []
    },
    {
      "cell_type": "markdown",
      "metadata": {
        "id": "yEvYBbh5dQpj",
        "colab_type": "text"
      },
      "source": [
        "## 讀入資料__fashion\n"
      ]
    },
    {
      "cell_type": "code",
      "metadata": {
        "id": "PZ7LPGZUci8s",
        "colab_type": "code",
        "colab": {}
      },
      "source": [
        "from tensorflow.keras.datasets import fashion_mnist"
      ],
      "execution_count": 0,
      "outputs": []
    },
    {
      "cell_type": "code",
      "metadata": {
        "id": "bLSy389_ci_x",
        "colab_type": "code",
        "colab": {}
      },
      "source": [
        "(x_train,y_train),(x_test,y_test)=fashion_mnist.load_data()"
      ],
      "execution_count": 0,
      "outputs": []
    },
    {
      "cell_type": "markdown",
      "metadata": {
        "id": "mxgaFTPOeOxz",
        "colab_type": "text"
      },
      "source": [
        "## 數據集內容\n"
      ]
    },
    {
      "cell_type": "code",
      "metadata": {
        "id": "qCh0XSaHgkls",
        "colab_type": "code",
        "outputId": "d0386b3b-7ad6-4320-8f34-00f7219dd677",
        "colab": {
          "base_uri": "https://localhost:8080/",
          "height": 35
        }
      },
      "source": [
        ""
      ],
      "execution_count": 0,
      "outputs": [
        {
          "output_type": "stream",
          "text": [
            "<function load_data at 0x7f83b29768c8>\n"
          ],
          "name": "stdout"
        }
      ]
    },
    {
      "cell_type": "markdown",
      "metadata": {
        "id": "cFgbuQfbgT4h",
        "colab_type": "text"
      },
      "source": [
        "#### Labels\n",
        "\n",
        "* T-shirt/top -->0\n",
        "* Trouser -->1\n",
        "* Pullover -->2\n",
        "* Dress -->3\n",
        "* Coat -->4\n",
        "* Sandal -->5\n",
        "* Shirt -->6\n",
        "* Sneaker -->7\n",
        "* Bag -->8\n",
        "* Ankle boot -->9\n",
        "\n",
        "\n",
        "\n",
        "\n"
      ]
    },
    {
      "cell_type": "code",
      "metadata": {
        "id": "qFEa6km5cjCY",
        "colab_type": "code",
        "outputId": "950c3dc7-7610-45b3-e1ae-28edddfa6e82",
        "colab": {
          "base_uri": "https://localhost:8080/",
          "height": 35
        }
      },
      "source": [
        "len(x_train)"
      ],
      "execution_count": 0,
      "outputs": [
        {
          "output_type": "execute_result",
          "data": {
            "text/plain": [
              "60000"
            ]
          },
          "metadata": {
            "tags": []
          },
          "execution_count": 373
        }
      ]
    },
    {
      "cell_type": "code",
      "metadata": {
        "id": "gtlsuS7_cjFH",
        "colab_type": "code",
        "outputId": "662594db-e374-448a-84f1-e33af12a3c6b",
        "colab": {
          "base_uri": "https://localhost:8080/",
          "height": 35
        }
      },
      "source": [
        "len(x_test)"
      ],
      "execution_count": 0,
      "outputs": [
        {
          "output_type": "execute_result",
          "data": {
            "text/plain": [
              "10000"
            ]
          },
          "metadata": {
            "tags": []
          },
          "execution_count": 374
        }
      ]
    },
    {
      "cell_type": "code",
      "metadata": {
        "id": "UiwVcWNLcjH8",
        "colab_type": "code",
        "outputId": "60915857-1112-479c-d75e-dea6d203510c",
        "colab": {
          "base_uri": "https://localhost:8080/",
          "height": 283
        }
      },
      "source": [
        "n=108\n",
        "plt.imshow(x_train[n],cmap='Greys')\n",
        "print('正確答案',y_train[n])"
      ],
      "execution_count": 0,
      "outputs": [
        {
          "output_type": "stream",
          "text": [
            "正確答案 7\n"
          ],
          "name": "stdout"
        },
        {
          "output_type": "display_data",
          "data": {
            "image/png": "[encoded data removed]",
            "text/plain": [
              "<Figure size 432x288 with 1 Axes>"
            ]
          },
          "metadata": {
            "tags": []
          }
        }
      ]
    },
    {
      "cell_type": "code",
      "metadata": {
        "id": "4Ktq9mXccjKk",
        "colab_type": "code",
        "colab": {}
      },
      "source": [
        ""
      ],
      "execution_count": 0,
      "outputs": []
    },
    {
      "cell_type": "markdown",
      "metadata": {
        "id": "yJl6yTJ3k2nd",
        "colab_type": "text"
      },
      "source": [
        "## 資料整理\n"
      ]
    },
    {
      "cell_type": "code",
      "metadata": {
        "id": "CVdFcK1WcjNM",
        "colab_type": "code",
        "colab": {}
      },
      "source": [
        "x_train=x_train*100/255\n",
        "x_test=x_test*100/255"
      ],
      "execution_count": 0,
      "outputs": []
    },
    {
      "cell_type": "code",
      "metadata": {
        "id": "wDD7960rcjPk",
        "colab_type": "code",
        "outputId": "1bc105e1-ea02-4060-e5de-9dec483ff0ae",
        "colab": {
          "base_uri": "https://localhost:8080/",
          "height": 35
        }
      },
      "source": [
        "x_train.shape"
      ],
      "execution_count": 0,
      "outputs": [
        {
          "output_type": "execute_result",
          "data": {
            "text/plain": [
              "(60000, 28, 28)"
            ]
          },
          "metadata": {
            "tags": []
          },
          "execution_count": 377
        }
      ]
    },
    {
      "cell_type": "code",
      "metadata": {
        "id": "VSBJNCzRcjR_",
        "colab_type": "code",
        "outputId": "aeee9529-6e18-4690-83ec-a484b297b558",
        "colab": {
          "base_uri": "https://localhost:8080/",
          "height": 139
        }
      },
      "source": [
        "x_train=x_train.reshape(60000,28*28)\n",
        "x_train"
      ],
      "execution_count": 0,
      "outputs": [
        {
          "output_type": "execute_result",
          "data": {
            "text/plain": [
              "array([[0., 0., 0., ..., 0., 0., 0.],\n",
              "       [0., 0., 0., ..., 0., 0., 0.],\n",
              "       [0., 0., 0., ..., 0., 0., 0.],\n",
              "       ...,\n",
              "       [0., 0., 0., ..., 0., 0., 0.],\n",
              "       [0., 0., 0., ..., 0., 0., 0.],\n",
              "       [0., 0., 0., ..., 0., 0., 0.]])"
            ]
          },
          "metadata": {
            "tags": []
          },
          "execution_count": 378
        }
      ]
    },
    {
      "cell_type": "code",
      "metadata": {
        "id": "T2LPJfPTlh0t",
        "colab_type": "code",
        "colab": {}
      },
      "source": [
        "x_test=x_test.reshape(10000,28*28)"
      ],
      "execution_count": 0,
      "outputs": []
    },
    {
      "cell_type": "code",
      "metadata": {
        "id": "0r34fdtelh7g",
        "colab_type": "code",
        "colab": {}
      },
      "source": [
        "from tensorflow.keras.utils import to_categorical"
      ],
      "execution_count": 0,
      "outputs": []
    },
    {
      "cell_type": "code",
      "metadata": {
        "id": "q1i9fWaLlh-x",
        "colab_type": "code",
        "colab": {}
      },
      "source": [
        "y_train[108]\n",
        "y_train=to_categorical(y_train,10)"
      ],
      "execution_count": 0,
      "outputs": []
    },
    {
      "cell_type": "code",
      "metadata": {
        "id": "1twknxoeliBP",
        "colab_type": "code",
        "colab": {}
      },
      "source": [
        "y_test=to_categorical(y_test,10)"
      ],
      "execution_count": 0,
      "outputs": []
    },
    {
      "cell_type": "code",
      "metadata": {
        "id": "rAAONplVliEX",
        "colab_type": "code",
        "outputId": "faa75e01-6252-4534-ad58-de01daf058a2",
        "colab": {
          "base_uri": "https://localhost:8080/",
          "height": 35
        }
      },
      "source": [
        "y_train[108]\n"
      ],
      "execution_count": 0,
      "outputs": [
        {
          "output_type": "execute_result",
          "data": {
            "text/plain": [
              "array([0., 0., 0., 0., 0., 0., 0., 1., 0., 0.], dtype=float32)"
            ]
          },
          "metadata": {
            "tags": []
          },
          "execution_count": 383
        }
      ]
    },
    {
      "cell_type": "markdown",
      "metadata": {
        "id": "tVydXfkSrq04",
        "colab_type": "text"
      },
      "source": [
        "## 打造神經網路"
      ]
    },
    {
      "cell_type": "code",
      "metadata": {
        "id": "GLmdm9v2rvdb",
        "colab_type": "code",
        "colab": {}
      },
      "source": [
        "from tensorflow.keras.models import Sequential\n",
        "from tensorflow.keras.layers import Dense\n",
        "from tensorflow.keras.optimizers import SGD"
      ],
      "execution_count": 0,
      "outputs": []
    },
    {
      "cell_type": "code",
      "metadata": {
        "id": "-lM3Cpsbr5Go",
        "colab_type": "code",
        "colab": {}
      },
      "source": [
        "model=Sequential()  #開空的函數學習機"
      ],
      "execution_count": 0,
      "outputs": []
    },
    {
      "cell_type": "code",
      "metadata": {
        "id": "v4xnUrKCr5V9",
        "colab_type": "code",
        "colab": {}
      },
      "source": [
        "model.add(Dense(90,input_dim=784,activation='relu'))"
      ],
      "execution_count": 0,
      "outputs": []
    },
    {
      "cell_type": "code",
      "metadata": {
        "id": "jKYpT0J5r5eR",
        "colab_type": "code",
        "colab": {}
      },
      "source": [
        "model.add(Dense(90,activation='relu'))"
      ],
      "execution_count": 0,
      "outputs": []
    },
    {
      "cell_type": "code",
      "metadata": {
        "id": "WWgx28risTI8",
        "colab_type": "code",
        "colab": {}
      },
      "source": [
        "#model.add(Dense(64,activation='relu'))"
      ],
      "execution_count": 0,
      "outputs": []
    },
    {
      "cell_type": "code",
      "metadata": {
        "id": "xcLsBwY5sXxR",
        "colab_type": "code",
        "colab": {}
      },
      "source": [
        "model.add(Dense(67,activation='relu'))"
      ],
      "execution_count": 0,
      "outputs": []
    },
    {
      "cell_type": "code",
      "metadata": {
        "id": "4ADHORQcr5ob",
        "colab_type": "code",
        "colab": {}
      },
      "source": [
        "model.add(Dense(10,activation='softmax'))"
      ],
      "execution_count": 0,
      "outputs": []
    },
    {
      "cell_type": "code",
      "metadata": {
        "id": "6jLiAXzxr50J",
        "colab_type": "code",
        "colab": {}
      },
      "source": [
        ""
      ],
      "execution_count": 0,
      "outputs": []
    },
    {
      "cell_type": "markdown",
      "metadata": {
        "id": "NlcYV1QxmWtd",
        "colab_type": "text"
      },
      "source": [
        "## 組裝神經網路"
      ]
    },
    {
      "cell_type": "code",
      "metadata": {
        "id": "toQnDdqSliGO",
        "colab_type": "code",
        "colab": {}
      },
      "source": [
        "model.compile(loss='mse',optimizer=SGD(lr=0.087),metrics=['accuracy'])"
      ],
      "execution_count": 0,
      "outputs": []
    },
    {
      "cell_type": "code",
      "metadata": {
        "id": "VgS4CQ3rliIz",
        "colab_type": "code",
        "outputId": "2ece679a-188a-4024-e15a-1044e99b99aa",
        "colab": {
          "base_uri": "https://localhost:8080/",
          "height": 295
        }
      },
      "source": [
        "model.summary()"
      ],
      "execution_count": 0,
      "outputs": [
        {
          "output_type": "stream",
          "text": [
            "Model: \"sequential_35\"\n",
            "_________________________________________________________________\n",
            "Layer (type)                 Output Shape              Param #   \n",
            "=================================================================\n",
            "dense_145 (Dense)            (None, 90)                70650     \n",
            "_________________________________________________________________\n",
            "dense_146 (Dense)            (None, 90)                8190      \n",
            "_________________________________________________________________\n",
            "dense_147 (Dense)            (None, 67)                6097      \n",
            "_________________________________________________________________\n",
            "dense_148 (Dense)            (None, 10)                680       \n",
            "=================================================================\n",
            "Total params: 85,617\n",
            "Trainable params: 85,617\n",
            "Non-trainable params: 0\n",
            "_________________________________________________________________\n"
          ],
          "name": "stdout"
        }
      ]
    },
    {
      "cell_type": "markdown",
      "metadata": {
        "id": "87qAr3BqmtNd",
        "colab_type": "text"
      },
      "source": [
        "## 訓練神經網路"
      ]
    },
    {
      "cell_type": "code",
      "metadata": {
        "id": "jKS33GDIliLl",
        "colab_type": "code",
        "outputId": "21fc77ac-aa0d-4ab7-83b5-8d6fb0cf3f7a",
        "colab": {
          "base_uri": "https://localhost:8080/",
          "height": 919
        }
      },
      "source": [
        "model.fit(x_train,y_train,batch_size=80,epochs=25)"
      ],
      "execution_count": 0,
      "outputs": [
        {
          "output_type": "stream",
          "text": [
            "Train on 60000 samples\n",
            "Epoch 1/25\n",
            "60000/60000 [==============================] - 3s 56us/sample - loss: 0.0870 - acc: 0.2212\n",
            "Epoch 2/25\n",
            "60000/60000 [==============================] - 3s 54us/sample - loss: 0.0693 - acc: 0.4633\n",
            "Epoch 3/25\n",
            "60000/60000 [==============================] - 3s 51us/sample - loss: 0.0496 - acc: 0.6302\n",
            "Epoch 4/25\n",
            "60000/60000 [==============================] - 3s 49us/sample - loss: 0.0418 - acc: 0.7030\n",
            "Epoch 5/25\n",
            "60000/60000 [==============================] - 3s 49us/sample - loss: 0.0374 - acc: 0.7372\n",
            "Epoch 6/25\n",
            "60000/60000 [==============================] - 3s 49us/sample - loss: 0.0346 - acc: 0.7553\n",
            "Epoch 7/25\n",
            "60000/60000 [==============================] - 3s 48us/sample - loss: 0.0327 - acc: 0.7689\n",
            "Epoch 8/25\n",
            "60000/60000 [==============================] - 3s 47us/sample - loss: 0.0314 - acc: 0.7784\n",
            "Epoch 9/25\n",
            "60000/60000 [==============================] - 3s 49us/sample - loss: 0.0303 - acc: 0.7850\n",
            "Epoch 10/25\n",
            "60000/60000 [==============================] - 3s 49us/sample - loss: 0.0295 - acc: 0.7920\n",
            "Epoch 11/25\n",
            "60000/60000 [==============================] - 3s 50us/sample - loss: 0.0288 - acc: 0.7968\n",
            "Epoch 12/25\n",
            "60000/60000 [==============================] - 3s 45us/sample - loss: 0.0282 - acc: 0.8007\n",
            "Epoch 13/25\n",
            "60000/60000 [==============================] - 3s 44us/sample - loss: 0.0278 - acc: 0.8041\n",
            "Epoch 14/25\n",
            "60000/60000 [==============================] - 3s 44us/sample - loss: 0.0273 - acc: 0.8077\n",
            "Epoch 15/25\n",
            "60000/60000 [==============================] - 3s 45us/sample - loss: 0.0269 - acc: 0.8114\n",
            "Epoch 16/25\n",
            "60000/60000 [==============================] - 3s 45us/sample - loss: 0.0265 - acc: 0.8132\n",
            "Epoch 17/25\n",
            "60000/60000 [==============================] - 3s 46us/sample - loss: 0.0262 - acc: 0.8162\n",
            "Epoch 18/25\n",
            "60000/60000 [==============================] - 3s 45us/sample - loss: 0.0259 - acc: 0.8183\n",
            "Epoch 19/25\n",
            "60000/60000 [==============================] - 3s 45us/sample - loss: 0.0257 - acc: 0.8217\n",
            "Epoch 20/25\n",
            "60000/60000 [==============================] - 3s 44us/sample - loss: 0.0254 - acc: 0.8230\n",
            "Epoch 21/25\n",
            "60000/60000 [==============================] - 3s 45us/sample - loss: 0.0252 - acc: 0.8245\n",
            "Epoch 22/25\n",
            "60000/60000 [==============================] - 3s 43us/sample - loss: 0.0249 - acc: 0.8265\n",
            "Epoch 23/25\n",
            "60000/60000 [==============================] - 3s 47us/sample - loss: 0.0247 - acc: 0.8280\n",
            "Epoch 24/25\n",
            "60000/60000 [==============================] - 3s 46us/sample - loss: 0.0245 - acc: 0.8297\n",
            "Epoch 25/25\n",
            "60000/60000 [==============================] - 3s 45us/sample - loss: 0.0243 - acc: 0.8321\n"
          ],
          "name": "stdout"
        },
        {
          "output_type": "execute_result",
          "data": {
            "text/plain": [
              "<tensorflow.python.keras.callbacks.History at 0x7f019c7fecc0>"
            ]
          },
          "metadata": {
            "tags": []
          },
          "execution_count": 395
        }
      ]
    },
    {
      "cell_type": "markdown",
      "metadata": {
        "id": "l9VnZd0xnVvd",
        "colab_type": "text"
      },
      "source": [
        "## 訓練結果"
      ]
    },
    {
      "cell_type": "code",
      "metadata": {
        "id": "siX7qNH6liN3",
        "colab_type": "code",
        "colab": {}
      },
      "source": [
        "a=model.predict(x_test)\n",
        "y_test_classes = np.argmax(y_test, axis=1)\n",
        "y_pred_classes = np.argmax(a, axis=1)"
      ],
      "execution_count": 0,
      "outputs": []
    },
    {
      "cell_type": "code",
      "metadata": {
        "id": "vmSEi5JRliQV",
        "colab_type": "code",
        "colab": {}
      },
      "source": [
        "def show_predict(n):\n",
        "  print('神經網路預測是:',result[n])\n",
        "  plt.imshow(x_test[n].reshape(28,28),cmap='Greys')\n",
        "\n",
        "show_predict(2000)"
      ],
      "execution_count": 0,
      "outputs": []
    },
    {
      "cell_type": "markdown",
      "metadata": {
        "id": "NXXKFP9Qpgcg",
        "colab_type": "text"
      },
      "source": [
        "### 檢查是否有overfitting的狀況"
      ]
    },
    {
      "cell_type": "code",
      "metadata": {
        "id": "-_qi3eOeprTx",
        "colab_type": "code",
        "colab": {}
      },
      "source": [
        "loss,accuracy = model.evaluate(x_test, y_test)\n",
        "print('result')\n",
        "print(f'loss：{loss}\\n acccuracy: {accuracy}')"
      ],
      "execution_count": 0,
      "outputs": []
    },
    {
      "cell_type": "markdown",
      "metadata": {
        "id": "DxCMZcCuoLA0",
        "colab_type": "text"
      },
      "source": [
        "### 利用混淆矩陣看預測準確度"
      ]
    },
    {
      "cell_type": "code",
      "metadata": {
        "id": "x1FxG34JliTT",
        "colab_type": "code",
        "outputId": "94b2f9c5-8290-49a3-f19b-b152f878dc2a",
        "colab": {
          "base_uri": "https://localhost:8080/",
          "height": 131
        }
      },
      "source": [
        "\n",
        "\n",
        "\n",
        "from sklearn.metrics import confusion_matrix\n",
        "\n",
        "\n",
        "print (confusion_matrix(y_test_classes,y_pred_classes))"
      ],
      "execution_count": 0,
      "outputs": [
        {
          "output_type": "error",
          "ename": "SyntaxError",
          "evalue": "ignored",
          "traceback": [
            "\u001b[0;36m  File \u001b[0;32m\"<ipython-input-369-d3123edb3dc9>\"\u001b[0;36m, line \u001b[0;32m7\u001b[0m\n\u001b[0;31m    print conconfusion_matrix(y_test_classes,y_pred_classes)\u001b[0m\n\u001b[0m                            ^\u001b[0m\n\u001b[0;31mSyntaxError\u001b[0m\u001b[0;31m:\u001b[0m invalid syntax\n"
          ]
        }
      ]
    },
    {
      "cell_type": "code",
      "metadata": {
        "id": "5wJkp5z3liVE",
        "colab_type": "code",
        "colab": {}
      },
      "source": [
        ""
      ],
      "execution_count": 0,
      "outputs": []
    },
    {
      "cell_type": "code",
      "metadata": {
        "id": "BFSiZBeZpAWW",
        "colab_type": "code",
        "colab": {}
      },
      "source": [
        ""
      ],
      "execution_count": 0,
      "outputs": []
    },
    {
      "cell_type": "code",
      "metadata": {
        "id": "nbJgsGq8pAZQ",
        "colab_type": "code",
        "colab": {}
      },
      "source": [
        ""
      ],
      "execution_count": 0,
      "outputs": []
    },
    {
      "cell_type": "code",
      "metadata": {
        "id": "Yx5D6ObkpAb2",
        "colab_type": "code",
        "colab": {}
      },
      "source": [
        ""
      ],
      "execution_count": 0,
      "outputs": []
    }
  ]
}