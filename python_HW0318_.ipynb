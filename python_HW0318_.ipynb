{
  "nbformat": 4,
  "nbformat_minor": 0,
  "metadata": {
    "colab": {
      "name": "python HW0318 .ipynb",
      "provenance": [],
      "authorship_tag": "ABX9TyMQk++8HhN7ULdnHvee3mGM",
      "include_colab_link": true
    },
    "kernelspec": {
      "name": "python3",
      "display_name": "Python 3"
    }
  },
  "cells": [
    {
      "cell_type": "markdown",
      "metadata": {
        "id": "view-in-github",
        "colab_type": "text"
      },
      "source": [
        "<a href=\"https://colab.research.google.com/github/Meave0108/my_work-python-/blob/master/python_HW0318_.ipynb\" target=\"_parent\"><img src=\"https://colab.research.google.com/assets/colab-badge.svg\" alt=\"Open In Colab\"/></a>"
      ]
    },
    {
      "cell_type": "code",
      "metadata": {
        "id": "kKUtTBTBcO1n",
        "colab_type": "code",
        "outputId": "350b8f0d-d80e-4e54-dc7f-ac8b461bce70",
        "colab": {
          "base_uri": "https://localhost:8080/",
          "height": 87
        }
      },
      "source": [
        "%tensorflow_version"
      ],
      "execution_count": 48,
      "outputs": [
        {
          "output_type": "stream",
          "text": [
            "Currently selected TF version: 2.x\n",
            "Available versions:\n",
            "* 1.x\n",
            "* 2.x\n"
          ],
          "name": "stdout"
        }
      ]
    },
    {
      "cell_type": "code",
      "metadata": {
        "id": "fFMyqrBmcivw",
        "colab_type": "code",
        "colab": {}
      },
      "source": [
        "%tensorflow_version 2.x"
      ],
      "execution_count": 0,
      "outputs": []
    },
    {
      "cell_type": "code",
      "metadata": {
        "id": "rz7YQC2Vci5B",
        "colab_type": "code",
        "colab": {}
      },
      "source": [
        "import tensorflow as tf\n",
        "%matplotlib inline\n",
        "import numpy as np\n",
        "import matplotlib.pyplot as plt\n",
        "import pandas as pd"
      ],
      "execution_count": 0,
      "outputs": []
    },
    {
      "cell_type": "markdown",
      "metadata": {
        "id": "yEvYBbh5dQpj",
        "colab_type": "text"
      },
      "source": [
        "## 讀入資料__fashion\n"
      ]
    },
    {
      "cell_type": "code",
      "metadata": {
        "id": "PZ7LPGZUci8s",
        "colab_type": "code",
        "colab": {}
      },
      "source": [
        "from tensorflow.keras.datasets import fashion_mnist"
      ],
      "execution_count": 0,
      "outputs": []
    },
    {
      "cell_type": "code",
      "metadata": {
        "id": "bLSy389_ci_x",
        "colab_type": "code",
        "colab": {}
      },
      "source": [
        "(x_train,y_train),(x_test,y_test)=fashion_mnist.load_data()"
      ],
      "execution_count": 0,
      "outputs": []
    },
    {
      "cell_type": "markdown",
      "metadata": {
        "id": "mxgaFTPOeOxz",
        "colab_type": "text"
      },
      "source": [
        "## 數據集內容\n"
      ]
    },
    {
      "cell_type": "code",
      "metadata": {
        "id": "qCh0XSaHgkls",
        "colab_type": "code",
        "colab": {}
      },
      "source": [
        ""
      ],
      "execution_count": 0,
      "outputs": []
    },
    {
      "cell_type": "markdown",
      "metadata": {
        "id": "cFgbuQfbgT4h",
        "colab_type": "text"
      },
      "source": [
        "#### Labels\n",
        "\n",
        "* T-shirt/top -->0\n",
        "* Trouser -->1\n",
        "* Pullover -->2\n",
        "* Dress -->3\n",
        "* Coat -->4\n",
        "* Sandal -->5\n",
        "* Shirt -->6\n",
        "* Sneaker -->7\n",
        "* Bag -->8\n",
        "* Ankle boot -->9\n",
        "\n",
        "\n",
        "\n",
        "\n"
      ]
    },
    {
      "cell_type": "code",
      "metadata": {
        "id": "qFEa6km5cjCY",
        "colab_type": "code",
        "outputId": "87e103cf-6fbb-45df-fa54-5199c9f5ca14",
        "colab": {
          "base_uri": "https://localhost:8080/",
          "height": 35
        }
      },
      "source": [
        "len(x_train)"
      ],
      "execution_count": 56,
      "outputs": [
        {
          "output_type": "execute_result",
          "data": {
            "text/plain": [
              "60000"
            ]
          },
          "metadata": {
            "tags": []
          },
          "execution_count": 56
        }
      ]
    },
    {
      "cell_type": "code",
      "metadata": {
        "id": "gtlsuS7_cjFH",
        "colab_type": "code",
        "outputId": "2a4f49f2-5748-4894-c737-5c39853fa975",
        "colab": {
          "base_uri": "https://localhost:8080/",
          "height": 35
        }
      },
      "source": [
        "len(x_test)"
      ],
      "execution_count": 57,
      "outputs": [
        {
          "output_type": "execute_result",
          "data": {
            "text/plain": [
              "10000"
            ]
          },
          "metadata": {
            "tags": []
          },
          "execution_count": 57
        }
      ]
    },
    {
      "cell_type": "code",
      "metadata": {
        "id": "UiwVcWNLcjH8",
        "colab_type": "code",
        "outputId": "6694f377-366f-4220-961e-c357ee4e04da",
        "colab": {
          "base_uri": "https://localhost:8080/",
          "height": 283
        }
      },
      "source": [
        "n=108\n",
        "plt.imshow(x_train[n],cmap='Greys')\n",
        "print('正確答案',y_train[n])"
      ],
      "execution_count": 58,
      "outputs": [
        {
          "output_type": "stream",
          "text": [
            "正確答案 7\n"
          ],
          "name": "stdout"
        },
        {
          "output_type": "display_data",
          "data": {
            "image/png": "[encoded data removed]",
            "text/plain": [
              "<Figure size 432x288 with 1 Axes>"
            ]
          },
          "metadata": {
            "tags": []
          }
        }
      ]
    },
    {
      "cell_type": "code",
      "metadata": {
        "id": "4Ktq9mXccjKk",
        "colab_type": "code",
        "colab": {}
      },
      "source": [
        ""
      ],
      "execution_count": 0,
      "outputs": []
    },
    {
      "cell_type": "markdown",
      "metadata": {
        "id": "yJl6yTJ3k2nd",
        "colab_type": "text"
      },
      "source": [
        "## 資料整理\n"
      ]
    },
    {
      "cell_type": "code",
      "metadata": {
        "id": "CVdFcK1WcjNM",
        "colab_type": "code",
        "colab": {}
      },
      "source": [
        "x_train=x_train*100/255\n",
        "x_test=x_test*100/255"
      ],
      "execution_count": 0,
      "outputs": []
    },
    {
      "cell_type": "code",
      "metadata": {
        "id": "wDD7960rcjPk",
        "colab_type": "code",
        "outputId": "ad3ad362-5d7c-40b4-8f44-b01995b92613",
        "colab": {
          "base_uri": "https://localhost:8080/",
          "height": 35
        }
      },
      "source": [
        "x_train.shape"
      ],
      "execution_count": 60,
      "outputs": [
        {
          "output_type": "execute_result",
          "data": {
            "text/plain": [
              "(60000, 28, 28)"
            ]
          },
          "metadata": {
            "tags": []
          },
          "execution_count": 60
        }
      ]
    },
    {
      "cell_type": "code",
      "metadata": {
        "id": "VSBJNCzRcjR_",
        "colab_type": "code",
        "outputId": "012950ef-b21d-4c4f-e8f9-8f67811c4f64",
        "colab": {
          "base_uri": "https://localhost:8080/",
          "height": 139
        }
      },
      "source": [
        "x_train=x_train.reshape(60000,28*28)\n",
        "x_train"
      ],
      "execution_count": 61,
      "outputs": [
        {
          "output_type": "execute_result",
          "data": {
            "text/plain": [
              "array([[0., 0., 0., ..., 0., 0., 0.],\n",
              "       [0., 0., 0., ..., 0., 0., 0.],\n",
              "       [0., 0., 0., ..., 0., 0., 0.],\n",
              "       ...,\n",
              "       [0., 0., 0., ..., 0., 0., 0.],\n",
              "       [0., 0., 0., ..., 0., 0., 0.],\n",
              "       [0., 0., 0., ..., 0., 0., 0.]])"
            ]
          },
          "metadata": {
            "tags": []
          },
          "execution_count": 61
        }
      ]
    },
    {
      "cell_type": "code",
      "metadata": {
        "id": "T2LPJfPTlh0t",
        "colab_type": "code",
        "colab": {}
      },
      "source": [
        "x_test=x_test.reshape(10000,28*28)"
      ],
      "execution_count": 0,
      "outputs": []
    },
    {
      "cell_type": "code",
      "metadata": {
        "id": "0r34fdtelh7g",
        "colab_type": "code",
        "colab": {}
      },
      "source": [
        "from tensorflow.keras.utils import to_categorical"
      ],
      "execution_count": 0,
      "outputs": []
    },
    {
      "cell_type": "code",
      "metadata": {
        "id": "q1i9fWaLlh-x",
        "colab_type": "code",
        "colab": {}
      },
      "source": [
        "y_train[108]\n",
        "y_train=to_categorical(y_train,10)"
      ],
      "execution_count": 0,
      "outputs": []
    },
    {
      "cell_type": "code",
      "metadata": {
        "id": "1twknxoeliBP",
        "colab_type": "code",
        "colab": {}
      },
      "source": [
        "y_test=to_categorical(y_test,10)"
      ],
      "execution_count": 0,
      "outputs": []
    },
    {
      "cell_type": "code",
      "metadata": {
        "id": "rAAONplVliEX",
        "colab_type": "code",
        "outputId": "60c9dde3-346f-4f8a-971e-624c6c58d937",
        "colab": {
          "base_uri": "https://localhost:8080/",
          "height": 35
        }
      },
      "source": [
        "y_train[108]\n"
      ],
      "execution_count": 66,
      "outputs": [
        {
          "output_type": "execute_result",
          "data": {
            "text/plain": [
              "array([0., 0., 0., 0., 0., 0., 0., 1., 0., 0.], dtype=float32)"
            ]
          },
          "metadata": {
            "tags": []
          },
          "execution_count": 66
        }
      ]
    },
    {
      "cell_type": "markdown",
      "metadata": {
        "id": "tVydXfkSrq04",
        "colab_type": "text"
      },
      "source": [
        "## 打造神經網路"
      ]
    },
    {
      "cell_type": "code",
      "metadata": {
        "id": "GLmdm9v2rvdb",
        "colab_type": "code",
        "colab": {}
      },
      "source": [
        "from tensorflow.keras.models import Sequential\n",
        "from tensorflow.keras.layers import Dense\n",
        "from tensorflow.keras.optimizers import SGD"
      ],
      "execution_count": 0,
      "outputs": []
    },
    {
      "cell_type": "code",
      "metadata": {
        "id": "-lM3Cpsbr5Go",
        "colab_type": "code",
        "colab": {}
      },
      "source": [
        "model=Sequential()  #開空的函數學習機"
      ],
      "execution_count": 0,
      "outputs": []
    },
    {
      "cell_type": "code",
      "metadata": {
        "id": "v4xnUrKCr5V9",
        "colab_type": "code",
        "colab": {}
      },
      "source": [
        "model.add(Dense(90,input_dim=784,activation='relu'))"
      ],
      "execution_count": 0,
      "outputs": []
    },
    {
      "cell_type": "code",
      "metadata": {
        "id": "jKYpT0J5r5eR",
        "colab_type": "code",
        "colab": {}
      },
      "source": [
        "model.add(Dense(90,activation='relu'))"
      ],
      "execution_count": 0,
      "outputs": []
    },
    {
      "cell_type": "code",
      "metadata": {
        "id": "xcLsBwY5sXxR",
        "colab_type": "code",
        "colab": {}
      },
      "source": [
        "model.add(Dense(67,activation='relu'))"
      ],
      "execution_count": 0,
      "outputs": []
    },
    {
      "cell_type": "code",
      "metadata": {
        "id": "4ADHORQcr5ob",
        "colab_type": "code",
        "colab": {}
      },
      "source": [
        "model.add(Dense(10,activation='softmax'))"
      ],
      "execution_count": 0,
      "outputs": []
    },
    {
      "cell_type": "code",
      "metadata": {
        "id": "6jLiAXzxr50J",
        "colab_type": "code",
        "colab": {}
      },
      "source": [
        ""
      ],
      "execution_count": 0,
      "outputs": []
    },
    {
      "cell_type": "markdown",
      "metadata": {
        "id": "NlcYV1QxmWtd",
        "colab_type": "text"
      },
      "source": [
        "## 組裝神經網路"
      ]
    },
    {
      "cell_type": "code",
      "metadata": {
        "id": "toQnDdqSliGO",
        "colab_type": "code",
        "colab": {}
      },
      "source": [
        "model.compile(loss='mse',optimizer=SGD(lr=0.087),metrics=['accuracy'])"
      ],
      "execution_count": 0,
      "outputs": []
    },
    {
      "cell_type": "code",
      "metadata": {
        "id": "VgS4CQ3rliIz",
        "colab_type": "code",
        "outputId": "d352e307-0002-4684-83e7-218a84bb9edd",
        "colab": {
          "base_uri": "https://localhost:8080/",
          "height": 295
        }
      },
      "source": [
        "model.summary()"
      ],
      "execution_count": 74,
      "outputs": [
        {
          "output_type": "stream",
          "text": [
            "Model: \"sequential_2\"\n",
            "_________________________________________________________________\n",
            "Layer (type)                 Output Shape              Param #   \n",
            "=================================================================\n",
            "dense_6 (Dense)              (None, 90)                70650     \n",
            "_________________________________________________________________\n",
            "dense_7 (Dense)              (None, 90)                8190      \n",
            "_________________________________________________________________\n",
            "dense_8 (Dense)              (None, 67)                6097      \n",
            "_________________________________________________________________\n",
            "dense_9 (Dense)              (None, 10)                680       \n",
            "=================================================================\n",
            "Total params: 85,617\n",
            "Trainable params: 85,617\n",
            "Non-trainable params: 0\n",
            "_________________________________________________________________\n"
          ],
          "name": "stdout"
        }
      ]
    },
    {
      "cell_type": "markdown",
      "metadata": {
        "id": "87qAr3BqmtNd",
        "colab_type": "text"
      },
      "source": [
        "## 訓練神經網路"
      ]
    },
    {
      "cell_type": "code",
      "metadata": {
        "id": "jKS33GDIliLl",
        "colab_type": "code",
        "outputId": "c84a8607-ae0d-4ccd-f865-8e8d8cc31680",
        "colab": {
          "base_uri": "https://localhost:8080/",
          "height": 1000
        }
      },
      "source": [
        "model.fit(x_train,y_train,batch_size=80,epochs=100)"
      ],
      "execution_count": 75,
      "outputs": [
        {
          "output_type": "stream",
          "text": [
            "Epoch 1/100\n",
            "750/750 [==============================] - 2s 3ms/step - loss: 0.0856 - accuracy: 0.2718\n",
            "Epoch 2/100\n",
            "750/750 [==============================] - 2s 3ms/step - loss: 0.0597 - accuracy: 0.5527\n",
            "Epoch 3/100\n",
            "750/750 [==============================] - 2s 3ms/step - loss: 0.0443 - accuracy: 0.6758\n",
            "Epoch 4/100\n",
            "750/750 [==============================] - 2s 3ms/step - loss: 0.0381 - accuracy: 0.7309\n",
            "Epoch 5/100\n",
            "750/750 [==============================] - 2s 3ms/step - loss: 0.0348 - accuracy: 0.7533\n",
            "Epoch 6/100\n",
            "750/750 [==============================] - 2s 3ms/step - loss: 0.0327 - accuracy: 0.7679\n",
            "Epoch 7/100\n",
            "750/750 [==============================] - 2s 3ms/step - loss: 0.0312 - accuracy: 0.7790\n",
            "Epoch 8/100\n",
            "750/750 [==============================] - 2s 3ms/step - loss: 0.0302 - accuracy: 0.7856\n",
            "Epoch 9/100\n",
            "750/750 [==============================] - 2s 3ms/step - loss: 0.0294 - accuracy: 0.7914\n",
            "Epoch 10/100\n",
            "750/750 [==============================] - 2s 3ms/step - loss: 0.0287 - accuracy: 0.7963\n",
            "Epoch 11/100\n",
            "750/750 [==============================] - 2s 3ms/step - loss: 0.0280 - accuracy: 0.8019\n",
            "Epoch 12/100\n",
            "750/750 [==============================] - 2s 3ms/step - loss: 0.0276 - accuracy: 0.8048\n",
            "Epoch 13/100\n",
            "750/750 [==============================] - 2s 3ms/step - loss: 0.0271 - accuracy: 0.8093\n",
            "Epoch 14/100\n",
            "750/750 [==============================] - 2s 3ms/step - loss: 0.0267 - accuracy: 0.8121\n",
            "Epoch 15/100\n",
            "750/750 [==============================] - 2s 3ms/step - loss: 0.0263 - accuracy: 0.8144\n",
            "Epoch 16/100\n",
            "750/750 [==============================] - 2s 3ms/step - loss: 0.0260 - accuracy: 0.8184\n",
            "Epoch 17/100\n",
            "750/750 [==============================] - 2s 3ms/step - loss: 0.0257 - accuracy: 0.8191\n",
            "Epoch 18/100\n",
            "750/750 [==============================] - 2s 3ms/step - loss: 0.0254 - accuracy: 0.8217\n",
            "Epoch 19/100\n",
            "750/750 [==============================] - 2s 3ms/step - loss: 0.0252 - accuracy: 0.8238\n",
            "Epoch 20/100\n",
            "750/750 [==============================] - 2s 3ms/step - loss: 0.0249 - accuracy: 0.8255\n",
            "Epoch 21/100\n",
            "750/750 [==============================] - 2s 3ms/step - loss: 0.0247 - accuracy: 0.8279\n",
            "Epoch 22/100\n",
            "750/750 [==============================] - 2s 3ms/step - loss: 0.0245 - accuracy: 0.8302\n",
            "Epoch 23/100\n",
            "750/750 [==============================] - 2s 3ms/step - loss: 0.0243 - accuracy: 0.8309\n",
            "Epoch 24/100\n",
            "750/750 [==============================] - 2s 3ms/step - loss: 0.0240 - accuracy: 0.8327\n",
            "Epoch 25/100\n",
            "750/750 [==============================] - 2s 3ms/step - loss: 0.0239 - accuracy: 0.8336\n",
            "Epoch 26/100\n",
            "750/750 [==============================] - 2s 3ms/step - loss: 0.0237 - accuracy: 0.8347\n",
            "Epoch 27/100\n",
            "750/750 [==============================] - 2s 3ms/step - loss: 0.0235 - accuracy: 0.8382\n",
            "Epoch 28/100\n",
            "750/750 [==============================] - 2s 3ms/step - loss: 0.0233 - accuracy: 0.8386\n",
            "Epoch 29/100\n",
            "750/750 [==============================] - 2s 3ms/step - loss: 0.0231 - accuracy: 0.8403\n",
            "Epoch 30/100\n",
            "750/750 [==============================] - 2s 3ms/step - loss: 0.0229 - accuracy: 0.8422\n",
            "Epoch 31/100\n",
            "750/750 [==============================] - 2s 3ms/step - loss: 0.0228 - accuracy: 0.8428\n",
            "Epoch 32/100\n",
            "750/750 [==============================] - 2s 3ms/step - loss: 0.0226 - accuracy: 0.8449\n",
            "Epoch 33/100\n",
            "750/750 [==============================] - 2s 3ms/step - loss: 0.0225 - accuracy: 0.8466\n",
            "Epoch 34/100\n",
            "750/750 [==============================] - 2s 3ms/step - loss: 0.0223 - accuracy: 0.8471\n",
            "Epoch 35/100\n",
            "750/750 [==============================] - 2s 3ms/step - loss: 0.0222 - accuracy: 0.8480\n",
            "Epoch 36/100\n",
            "750/750 [==============================] - 2s 3ms/step - loss: 0.0220 - accuracy: 0.8490\n",
            "Epoch 37/100\n",
            "750/750 [==============================] - 2s 3ms/step - loss: 0.0219 - accuracy: 0.8504\n",
            "Epoch 38/100\n",
            "750/750 [==============================] - 2s 3ms/step - loss: 0.0217 - accuracy: 0.8510\n",
            "Epoch 39/100\n",
            "750/750 [==============================] - 2s 3ms/step - loss: 0.0216 - accuracy: 0.8525\n",
            "Epoch 40/100\n",
            "750/750 [==============================] - 2s 3ms/step - loss: 0.0214 - accuracy: 0.8548\n",
            "Epoch 41/100\n",
            "750/750 [==============================] - 2s 3ms/step - loss: 0.0213 - accuracy: 0.8555\n",
            "Epoch 42/100\n",
            "750/750 [==============================] - 2s 3ms/step - loss: 0.0212 - accuracy: 0.8575\n",
            "Epoch 43/100\n",
            "750/750 [==============================] - 2s 3ms/step - loss: 0.0210 - accuracy: 0.8586\n",
            "Epoch 44/100\n",
            "750/750 [==============================] - 2s 3ms/step - loss: 0.0209 - accuracy: 0.8592\n",
            "Epoch 45/100\n",
            "750/750 [==============================] - 2s 3ms/step - loss: 0.0207 - accuracy: 0.8610\n",
            "Epoch 46/100\n",
            "750/750 [==============================] - 2s 3ms/step - loss: 0.0206 - accuracy: 0.8616\n",
            "Epoch 47/100\n",
            "750/750 [==============================] - 2s 3ms/step - loss: 0.0205 - accuracy: 0.8625\n",
            "Epoch 48/100\n",
            "750/750 [==============================] - 2s 3ms/step - loss: 0.0203 - accuracy: 0.8630\n",
            "Epoch 49/100\n",
            "750/750 [==============================] - 2s 3ms/step - loss: 0.0202 - accuracy: 0.8645\n",
            "Epoch 50/100\n",
            "750/750 [==============================] - 2s 3ms/step - loss: 0.0201 - accuracy: 0.8661\n",
            "Epoch 51/100\n",
            "750/750 [==============================] - 2s 3ms/step - loss: 0.0200 - accuracy: 0.8676\n",
            "Epoch 52/100\n",
            "750/750 [==============================] - 2s 3ms/step - loss: 0.0198 - accuracy: 0.8674\n",
            "Epoch 53/100\n",
            "750/750 [==============================] - 2s 3ms/step - loss: 0.0197 - accuracy: 0.8689\n",
            "Epoch 54/100\n",
            "750/750 [==============================] - 2s 3ms/step - loss: 0.0196 - accuracy: 0.8709\n",
            "Epoch 55/100\n",
            "750/750 [==============================] - 2s 3ms/step - loss: 0.0195 - accuracy: 0.8712\n",
            "Epoch 56/100\n",
            "750/750 [==============================] - 2s 3ms/step - loss: 0.0193 - accuracy: 0.8727\n",
            "Epoch 57/100\n",
            "750/750 [==============================] - 2s 3ms/step - loss: 0.0192 - accuracy: 0.8742\n",
            "Epoch 58/100\n",
            "750/750 [==============================] - 2s 3ms/step - loss: 0.0191 - accuracy: 0.8750\n",
            "Epoch 59/100\n",
            "750/750 [==============================] - 2s 3ms/step - loss: 0.0189 - accuracy: 0.8761\n",
            "Epoch 60/100\n",
            "750/750 [==============================] - 2s 3ms/step - loss: 0.0188 - accuracy: 0.8770\n",
            "Epoch 61/100\n",
            "750/750 [==============================] - 2s 3ms/step - loss: 0.0187 - accuracy: 0.8782\n",
            "Epoch 62/100\n",
            "750/750 [==============================] - 2s 3ms/step - loss: 0.0186 - accuracy: 0.8787\n",
            "Epoch 63/100\n",
            "750/750 [==============================] - 2s 3ms/step - loss: 0.0185 - accuracy: 0.8797\n",
            "Epoch 64/100\n",
            "750/750 [==============================] - 2s 3ms/step - loss: 0.0183 - accuracy: 0.8807\n",
            "Epoch 65/100\n",
            "750/750 [==============================] - 2s 3ms/step - loss: 0.0182 - accuracy: 0.8817\n",
            "Epoch 66/100\n",
            "750/750 [==============================] - 2s 3ms/step - loss: 0.0181 - accuracy: 0.8830\n",
            "Epoch 67/100\n",
            "750/750 [==============================] - 2s 3ms/step - loss: 0.0180 - accuracy: 0.8835\n",
            "Epoch 68/100\n",
            "750/750 [==============================] - 2s 3ms/step - loss: 0.0178 - accuracy: 0.8846\n",
            "Epoch 69/100\n",
            "750/750 [==============================] - 2s 3ms/step - loss: 0.0177 - accuracy: 0.8867\n",
            "Epoch 70/100\n",
            "750/750 [==============================] - 2s 3ms/step - loss: 0.0176 - accuracy: 0.8871\n",
            "Epoch 71/100\n",
            "750/750 [==============================] - 2s 3ms/step - loss: 0.0175 - accuracy: 0.8880\n",
            "Epoch 72/100\n",
            "750/750 [==============================] - 2s 3ms/step - loss: 0.0174 - accuracy: 0.8898\n",
            "Epoch 73/100\n",
            "750/750 [==============================] - 2s 3ms/step - loss: 0.0172 - accuracy: 0.8905\n",
            "Epoch 74/100\n",
            "750/750 [==============================] - 2s 3ms/step - loss: 0.0171 - accuracy: 0.8920\n",
            "Epoch 75/100\n",
            "750/750 [==============================] - 2s 3ms/step - loss: 0.0170 - accuracy: 0.8922\n",
            "Epoch 76/100\n",
            "750/750 [==============================] - 2s 3ms/step - loss: 0.0169 - accuracy: 0.8934\n",
            "Epoch 77/100\n",
            "750/750 [==============================] - 2s 3ms/step - loss: 0.0167 - accuracy: 0.8942\n",
            "Epoch 78/100\n",
            "750/750 [==============================] - 2s 3ms/step - loss: 0.0166 - accuracy: 0.8958\n",
            "Epoch 79/100\n",
            "750/750 [==============================] - 2s 3ms/step - loss: 0.0165 - accuracy: 0.8967\n",
            "Epoch 80/100\n",
            "750/750 [==============================] - 2s 3ms/step - loss: 0.0163 - accuracy: 0.8978\n",
            "Epoch 81/100\n",
            "750/750 [==============================] - 2s 3ms/step - loss: 0.0162 - accuracy: 0.8981\n",
            "Epoch 82/100\n",
            "750/750 [==============================] - 2s 3ms/step - loss: 0.0161 - accuracy: 0.8993\n",
            "Epoch 83/100\n",
            "750/750 [==============================] - 2s 3ms/step - loss: 0.0160 - accuracy: 0.9010\n",
            "Epoch 84/100\n",
            "750/750 [==============================] - 2s 3ms/step - loss: 0.0158 - accuracy: 0.9019\n",
            "Epoch 85/100\n",
            "750/750 [==============================] - 2s 3ms/step - loss: 0.0157 - accuracy: 0.9034\n",
            "Epoch 86/100\n",
            "750/750 [==============================] - 2s 3ms/step - loss: 0.0156 - accuracy: 0.9033\n",
            "Epoch 87/100\n",
            "750/750 [==============================] - 2s 3ms/step - loss: 0.0155 - accuracy: 0.9052\n",
            "Epoch 88/100\n",
            "750/750 [==============================] - 2s 3ms/step - loss: 0.0153 - accuracy: 0.9058\n",
            "Epoch 89/100\n",
            "750/750 [==============================] - 2s 3ms/step - loss: 0.0152 - accuracy: 0.9064\n",
            "Epoch 90/100\n",
            "750/750 [==============================] - 2s 3ms/step - loss: 0.0151 - accuracy: 0.9078\n",
            "Epoch 91/100\n",
            "750/750 [==============================] - 2s 3ms/step - loss: 0.0150 - accuracy: 0.9086\n",
            "Epoch 92/100\n",
            "750/750 [==============================] - 2s 3ms/step - loss: 0.0148 - accuracy: 0.9098\n",
            "Epoch 93/100\n",
            "750/750 [==============================] - 2s 3ms/step - loss: 0.0147 - accuracy: 0.9105\n",
            "Epoch 94/100\n",
            "750/750 [==============================] - 2s 3ms/step - loss: 0.0145 - accuracy: 0.9121\n",
            "Epoch 95/100\n",
            "750/750 [==============================] - 2s 3ms/step - loss: 0.0144 - accuracy: 0.9131\n",
            "Epoch 96/100\n",
            "750/750 [==============================] - 2s 3ms/step - loss: 0.0143 - accuracy: 0.9138\n",
            "Epoch 97/100\n",
            "750/750 [==============================] - 2s 3ms/step - loss: 0.0141 - accuracy: 0.9163\n",
            "Epoch 98/100\n",
            "750/750 [==============================] - 2s 3ms/step - loss: 0.0140 - accuracy: 0.9158\n",
            "Epoch 99/100\n",
            "750/750 [==============================] - 2s 3ms/step - loss: 0.0139 - accuracy: 0.9172\n",
            "Epoch 100/100\n",
            "750/750 [==============================] - 2s 3ms/step - loss: 0.0137 - accuracy: 0.9184\n"
          ],
          "name": "stdout"
        },
        {
          "output_type": "execute_result",
          "data": {
            "text/plain": [
              "<tensorflow.python.keras.callbacks.History at 0x7f21ed3555c0>"
            ]
          },
          "metadata": {
            "tags": []
          },
          "execution_count": 75
        }
      ]
    },
    {
      "cell_type": "markdown",
      "metadata": {
        "id": "l9VnZd0xnVvd",
        "colab_type": "text"
      },
      "source": [
        "## 訓練結果"
      ]
    },
    {
      "cell_type": "code",
      "metadata": {
        "id": "siX7qNH6liN3",
        "colab_type": "code",
        "colab": {}
      },
      "source": [
        "a=model.predict_classes(x_test)\n"
      ],
      "execution_count": 0,
      "outputs": []
    },
    {
      "cell_type": "code",
      "metadata": {
        "id": "vmSEi5JRliQV",
        "colab_type": "code",
        "colab": {
          "base_uri": "https://localhost:8080/",
          "height": 283
        },
        "outputId": "ee6a17fb-65ba-4b1a-c099-973a6c569e96"
      },
      "source": [
        "def show_predict(n):\n",
        "  print('神經網路預測是:',a[n])\n",
        "  plt.imshow(x_test[n].reshape(28,28),cmap='Greys')\n",
        "\n",
        "show_predict(2000)"
      ],
      "execution_count": 107,
      "outputs": [
        {
          "output_type": "stream",
          "text": [
            "神經網路預測是: 8\n"
          ],
          "name": "stdout"
        },
        {
          "output_type": "display_data",
          "data": {
            "image/png": "[encoded data removed]",
            "text/plain": [
              "<Figure size 432x288 with 1 Axes>"
            ]
          },
          "metadata": {
            "tags": []
          }
        }
      ]
    },
    {
      "cell_type": "markdown",
      "metadata": {
        "id": "NXXKFP9Qpgcg",
        "colab_type": "text"
      },
      "source": [
        "### 檢查是否有overfitting的狀況"
      ]
    },
    {
      "cell_type": "code",
      "metadata": {
        "id": "-_qi3eOeprTx",
        "colab_type": "code",
        "colab": {
          "base_uri": "https://localhost:8080/",
          "height": 104
        },
        "outputId": "db594fc1-9331-4aad-b473-ee0f5ac6cf08"
      },
      "source": [
        "loss,accuracy = model.evaluate(x_test, y_test)\n",
        "print('\\nresult')\n",
        "print(f'loss：{loss}\\nacccuracy: {accuracy}')"
      ],
      "execution_count": 103,
      "outputs": [
        {
          "output_type": "stream",
          "text": [
            "313/313 [==============================] - 0s 1ms/step - loss: 0.0272 - accuracy: 0.8171\n",
            "\n",
            "result\n",
            "loss：0.027197737246751785\n",
            "acccuracy: 0.8170999884605408\n"
          ],
          "name": "stdout"
        }
      ]
    },
    {
      "cell_type": "markdown",
      "metadata": {
        "id": "DxCMZcCuoLA0",
        "colab_type": "text"
      },
      "source": [
        "### 利用混淆矩陣看預測準確度"
      ]
    },
    {
      "cell_type": "code",
      "metadata": {
        "id": "x1FxG34JliTT",
        "colab_type": "code",
        "outputId": "0e68cea5-f8ac-4346-a508-7dd6275527a7",
        "colab": {
          "base_uri": "https://localhost:8080/",
          "height": 191
        }
      },
      "source": [
        "from sklearn.metrics import confusion_matrix\n",
        "b=model.predict(x_test)\n",
        "y_test_classes = np.argmax(y_test,axis=1)\n",
        "y_pred_classes = np.argmax(b,axis=1)\n",
        "print (confusion_matrix(y_test_classes,y_pred_classes))"
      ],
      "execution_count": 108,
      "outputs": [
        {
          "output_type": "stream",
          "text": [
            "[[762  11  24  52   3   0 127   0  21   0]\n",
            " [  7 933   5  44   5   0   4   0   2   0]\n",
            " [ 14   3 702  14 171   0  87   0   9   0]\n",
            " [ 28  25  13 843  52   0  32   0   6   1]\n",
            " [  3   4 141  41 703   0  99   0   9   0]\n",
            " [  0   0   0   1   0 930   0  38   2  29]\n",
            " [140   6 112  37 147   0 531   0  26   1]\n",
            " [  0   0   0   0   0  41   0 914   0  45]\n",
            " [  3   1  12   5   9   7  23   6 933   1]\n",
            " [  0   0   0   1   0  21   0  57   1 920]]\n"
          ],
          "name": "stdout"
        }
      ]
    },
    {
      "cell_type": "code",
      "metadata": {
        "id": "5wJkp5z3liVE",
        "colab_type": "code",
        "colab": {}
      },
      "source": [
        ""
      ],
      "execution_count": 0,
      "outputs": []
    },
    {
      "cell_type": "code",
      "metadata": {
        "id": "BFSiZBeZpAWW",
        "colab_type": "code",
        "colab": {}
      },
      "source": [
        ""
      ],
      "execution_count": 0,
      "outputs": []
    },
    {
      "cell_type": "code",
      "metadata": {
        "id": "nbJgsGq8pAZQ",
        "colab_type": "code",
        "colab": {}
      },
      "source": [
        ""
      ],
      "execution_count": 0,
      "outputs": []
    },
    {
      "cell_type": "code",
      "metadata": {
        "id": "Yx5D6ObkpAb2",
        "colab_type": "code",
        "colab": {}
      },
      "source": [
        ""
      ],
      "execution_count": 0,
      "outputs": []
    }
  ]
}