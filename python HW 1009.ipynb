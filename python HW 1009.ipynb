{
 "cells": [
  {
   "cell_type": "code",
   "execution_count": 1,
   "metadata": {},
   "outputs": [],
   "source": [
    "from IPython.display import display,HTML,Markdown,Image,YouTubeVideo\n",
    "%matplotlib inline\n",
    "import numpy as np\n",
    "import matplotlib.pyplot as plt\n",
    "import pandas as pd\n",
    "import geopandas as gpd\n",
    "import pyglet\n",
    "from ipywidgets import interact\n",
    "from ipywidgets import interact_manual"
   ]
  },
  {
   "cell_type": "markdown",
   "metadata": {},
   "source": [
    "## HW1 梗圖聊天機器人(進階版)\n",
    "### use gif"
   ]
  },
  {
   "cell_type": "code",
   "execution_count": 33,
   "metadata": {},
   "outputs": [],
   "source": [
    "def u():\n",
    "    A = \"bbb.gif\"\n",
    "    B= pyglet.resource.animation(A)\n",
    "    C = pyglet.sprite.Sprite(B)\n",
    "    win= pyglet.window.Window(width=C.width, height=C.height)\n",
    "    green = 0, 1, 0, 1\n",
    "    pyglet.gl.glClearColor(*green)\n",
    "    @win.event\n",
    "    def on_draw():\n",
    "        win.clear()\n",
    "        C.draw()\n",
    "\n",
    "    pyglet.app.run()\n",
    "    \n"
   ]
  },
  {
   "cell_type": "code",
   "execution_count": 34,
   "metadata": {},
   "outputs": [],
   "source": [
    "def w():\n",
    "    A = \"ccc.gif\"\n",
    "    B= pyglet.resource.animation(A)\n",
    "    C = pyglet.sprite.Sprite(B)\n",
    "    win = pyglet.window.Window(width=C.width, height=C.height)\n",
    "    green = 0, 1, 0, 1\n",
    "    pyglet.gl.glClearColor(*green)\n",
    "    @win.event\n",
    "    def on_draw():\n",
    "        win.clear()\n",
    "        C.draw()\n",
    "\n",
    "    pyglet.app.run()\n",
    "\n",
    "    "
   ]
  },
  {
   "cell_type": "code",
   "execution_count": 35,
   "metadata": {},
   "outputs": [],
   "source": [
    "def x():\n",
    "    A = \"ddd.gif\"\n",
    "    B= pyglet.resource.animation(A)\n",
    "    C = pyglet.sprite.Sprite(B)\n",
    "    win = pyglet.window.Window(width=C.width, height=C.height)\n",
    "    green = 0, 1, 0, 1\n",
    "    pyglet.gl.glClearColor(*green)\n",
    "    @win.event\n",
    "    def on_draw():\n",
    "        win.clear()\n",
    "        C.draw()\n",
    "\n",
    "    pyglet.app.run()"
   ]
  },
  {
   "cell_type": "code",
   "execution_count": 36,
   "metadata": {},
   "outputs": [],
   "source": [
    "def y():\n",
    "    A = \"eee.gif\"\n",
    "    B= pyglet.resource.animation(A)\n",
    "    C = pyglet.sprite.Sprite(B)\n",
    "    win = pyglet.window.Window(width=C.width, height=C.height)\n",
    "    green = 0, 1, 0, 1\n",
    "    pyglet.gl.glClearColor(*green)\n",
    "    @win.event\n",
    "    def on_draw():\n",
    "        win.clear()\n",
    "        C.draw()\n",
    "\n",
    "    pyglet.app.run()"
   ]
  },
  {
   "cell_type": "code",
   "execution_count": 37,
   "metadata": {},
   "outputs": [],
   "source": [
    "def z():\n",
    "    A = \"fff.gif\"\n",
    "    B= pyglet.resource.animation(A)\n",
    "    C = pyglet.sprite.Sprite(B)\n",
    "    win = pyglet.window.Window(width=C.width, height=C.height)\n",
    "    green = 0, 1, 0, 1\n",
    "    pyglet.gl.glClearColor(*green)\n",
    "    @win.event\n",
    "    def on_draw():\n",
    "        win.clear()\n",
    "        C.draw()\n",
    "\n",
    "    pyglet.app.run()"
   ]
  },
  {
   "cell_type": "code",
   "execution_count": 39,
   "metadata": {},
   "outputs": [
    {
     "name": "stdout",
     "output_type": "stream",
     "text": [
      "≧ω≦:Hi!想跟我聊什麼呢?\n",
      ">> 我最近好慘QQ\n",
      ">> 我已經沒錢了，你可以借我嗎?\n",
      ">> 拜託~我好餓喔~\n",
      ">> Please~我們不是朋友嗎?\n",
      ">> 你忍心看我這樣嗎?\n",
      ">> ......\n",
      "?\n",
      ">> bye\n"
     ]
    }
   ],
   "source": [
    "a=\"aa\"\n",
    "print(\"≧ω≦:Hi!想跟我聊什麼呢?\")\n",
    "\n",
    "while(a!=\" \"):\n",
    "    a=input(\">> \")\n",
    "    if ('難過'in a or'傷心' in a or'不順' in a or 'QQ'in a):\n",
    "        x()\n",
    "    elif('錢' in a or '借'in a):\n",
    "        y()\n",
    "    elif('吃' in a or '餓'in a or '甜點'in a):\n",
    "        z()\n",
    "    elif('朋友' in a):\n",
    "        w()\n",
    "    elif('難' in a or '忍'in a or '捨'in a):\n",
    "        u()   \n",
    "    elif(a=='bye'):\n",
    "        break\n",
    "    else:\n",
    "        print(\"?\")\n"
   ]
  },
  {
   "cell_type": "markdown",
   "metadata": {},
   "source": [
    "## HW2 歌曲選擇器"
   ]
  },
  {
   "cell_type": "code",
   "execution_count": 2,
   "metadata": {},
   "outputs": [
    {
     "name": "stdout",
     "output_type": "stream",
     "text": [
      "            今天心情如何^・ω・^來聽歌ㄅ~              \n"
     ]
    },
    {
     "data": {
      "application/vnd.jupyter.widget-view+json": {
       "model_id": "ab7d3d92535848f69aa7995dac4f11e5",
       "version_major": 2,
       "version_minor": 0
      },
      "text/plain": [
       "interactive(children=(Dropdown(description='x', options=('choose', 'sorrowful', 'happy', 'monday_blue', 'excit…"
      ]
     },
     "metadata": {},
     "output_type": "display_data"
    },
    {
     "data": {
      "text/plain": [
       "<function __main__.h(x)>"
      ]
     },
     "execution_count": 2,
     "metadata": {},
     "output_type": "execute_result"
    }
   ],
   "source": [
    "egg=\"今天心情如何^・ω・^來聽歌ㄅ~ \"\n",
    "print(f\"{egg:^42s}\")\n",
    "def f(x):\n",
    "    return(x)\n",
    "def h(x):\n",
    "    a=f(x)\n",
    "    if (a==\"sorrowful\"):\n",
    "        display(YouTubeVideo(\"jCVNCHjh92c\"))\n",
    "    if (a==\"happy\"):\n",
    "        display(YouTubeVideo(\"fLexgOxsZu0\"))\n",
    "    if (a==\"excited\"):\n",
    "        display(YouTubeVideo(\"kJQP7kiw5Fk\"))\n",
    "    if (a==\"partytime\"):\n",
    "        display(YouTubeVideo(\"t4H_Zoh7G5A\"))\n",
    "    if (a==\"mad\"):\n",
    "        display(YouTubeVideo(\"6Ejga4kJUts\"))\n",
    "    if (a==\"monday_blue\"):\n",
    "        display(YouTubeVideo(\"jZhQOvvV45w\"))\n",
    "    if (a==\"nervous\"):\n",
    "        display(YouTubeVideo(\"x_Faj7UIEcI\"))\n",
    "    if (a==\"having a difficult time\"):\n",
    "        display(YouTubeVideo(\"wEJd2RyGm8Q\"))\n",
    "    if (a==\"brokenhearted\"):\n",
    "        display(YouTubeVideo(\"jD9dr2ZRm9A\"))\n",
    "    if (a==\"spending time alone\"):\n",
    "        display(YouTubeVideo(\"c-3vPxKdj6o\"))\n",
    "    if (a==\"in_the_cafe\"):\n",
    "        display(YouTubeVideo(\"aoIHbVlM8TY\"))\n",
    "    if (a==\"fall_in_love\"):\n",
    "        display(YouTubeVideo(\"2Vv-BfVoq4g\"))\n",
    "    \n",
    "    \n",
    "interact(h,x=[\"choose\",\"sorrowful\",\"happy\",\"monday_blue\",\"excited\",\"partytime\",\"mad\",\"nervous\",\"having a difficult time\",\"brokenhearted\",\"spending time alone\",\"in_the_cafe\",\"fall_in_love\"])\n",
    "            \n",
    "\n",
    "        \n"
   ]
  },
  {
   "cell_type": "markdown",
   "metadata": {},
   "source": [
    "## HW3 畫出台灣鐵路圖(疊加台灣地圖)\n",
    "#### 注:尚在研究把圖放大的方法......\n"
   ]
  },
  {
   "cell_type": "code",
   "execution_count": 30,
   "metadata": {},
   "outputs": [
    {
     "data": {
      "text/plain": [
       "<matplotlib.axes._subplots.AxesSubplot at 0x2c23962be48>"
      ]
     },
     "execution_count": 30,
     "metadata": {},
     "output_type": "execute_result"
    },
    {
     "data": {
      "image/png": "[encoded data removed]",
      "text/plain": [
       "<Figure size 432x288 with 1 Axes>"
      ]
     },
     "metadata": {
      "needs_background": "light"
     },
     "output_type": "display_data"
    }
   ],
   "source": [
    "gdf=gpd.GeoDataFrame\n",
    "gdf_Rail=gdf.from_file('RAIL_1080626.shp',encoding='utf-8')\n",
    "gdf_Rail.head()\n",
    "gdf_town=gdf.from_file('TOWN_MOI_1080726.shp',encoding='utf-8')\n",
    "gdf_town.head()\n",
    "base=gdf_town.plot(cmap='RdBu')\n",
    "gdf_Rail.plot(ax=base,column='RAILNAME') \n"
   ]
  },
  {
   "cell_type": "code",
   "execution_count": null,
   "metadata": {},
   "outputs": [],
   "source": []
  }
 ],
 "metadata": {
  "kernelspec": {
   "display_name": "Python 3",
   "language": "python",
   "name": "python3"
  },
  "language_info": {
   "codemirror_mode": {
    "name": "ipython",
    "version": 3
   },
   "file_extension": ".py",
   "mimetype": "text/x-python",
   "name": "python",
   "nbconvert_exporter": "python",
   "pygments_lexer": "ipython3",
   "version": "3.7.3"
  }
 },
 "nbformat": 4,
 "nbformat_minor": 2
}
