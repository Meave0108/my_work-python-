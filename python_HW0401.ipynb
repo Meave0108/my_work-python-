{
  "nbformat": 4,
  "nbformat_minor": 0,
  "metadata": {
    "colab": {
      "name": "python HW0401.ipynb",
      "provenance": [],
      "authorship_tag": "ABX9TyM3nG1CdiJv3i0lTAS8kJY5",
      "include_colab_link": true
    },
    "kernelspec": {
      "name": "python3",
      "display_name": "Python 3"
    },
    "accelerator": "GPU",
    "widgets": {
      "application/vnd.jupyter.widget-state+json": {
        "fd906e9ec4304573bd4e2c5560b8b80d": {
          "model_module": "@jupyter-widgets/controls",
          "model_name": "VBoxModel",
          "state": {
            "_view_name": "VBoxView",
            "_dom_classes": [
              "widget-interact"
            ],
            "_model_name": "VBoxModel",
            "_view_module": "@jupyter-widgets/controls",
            "_model_module_version": "1.5.0",
            "_view_count": null,
            "_view_module_version": "1.5.0",
            "box_style": "",
            "layout": "IPY_MODEL_6f7011aa297f4593b0c25211eb937986",
            "_model_module": "@jupyter-widgets/controls",
            "children": [
              "IPY_MODEL_395b04d4c1a045119a03503bb37cc4e9",
              "IPY_MODEL_4573baca2f2347d49ce3f81a1e64aeba",
              "IPY_MODEL_8efd5588463c4acb80a2d7b2f25658d6"
            ]
          }
        },
        "6f7011aa297f4593b0c25211eb937986": {
          "model_module": "@jupyter-widgets/base",
          "model_name": "LayoutModel",
          "state": {
            "_view_name": "LayoutView",
            "grid_template_rows": null,
            "right": null,
            "justify_content": null,
            "_view_module": "@jupyter-widgets/base",
            "overflow": null,
            "_model_module_version": "1.2.0",
            "_view_count": null,
            "flex_flow": null,
            "width": null,
            "min_width": null,
            "border": null,
            "align_items": null,
            "bottom": null,
            "_model_module": "@jupyter-widgets/base",
            "top": null,
            "grid_column": null,
            "overflow_y": null,
            "overflow_x": null,
            "grid_auto_flow": null,
            "grid_area": null,
            "grid_template_columns": null,
            "flex": null,
            "_model_name": "LayoutModel",
            "justify_items": null,
            "grid_row": null,
            "max_height": null,
            "align_content": null,
            "visibility": null,
            "align_self": null,
            "height": null,
            "min_height": null,
            "padding": null,
            "grid_auto_rows": null,
            "grid_gap": null,
            "max_width": null,
            "order": null,
            "_view_module_version": "1.2.0",
            "grid_template_areas": null,
            "object_position": null,
            "object_fit": null,
            "grid_auto_columns": null,
            "margin": null,
            "display": null,
            "left": null
          }
        },
        "395b04d4c1a045119a03503bb37cc4e9": {
          "model_module": "@jupyter-widgets/controls",
          "model_name": "IntSliderModel",
          "state": {
            "_view_name": "IntSliderView",
            "style": "IPY_MODEL_7dc1712513104dae8a4b64acf76134d0",
            "_dom_classes": [],
            "description": "n",
            "step": 1,
            "_model_name": "IntSliderModel",
            "orientation": "horizontal",
            "max": 9999,
            "_view_module": "@jupyter-widgets/controls",
            "_model_module_version": "1.5.0",
            "value": 4999,
            "_view_count": null,
            "disabled": false,
            "_view_module_version": "1.5.0",
            "min": 0,
            "continuous_update": true,
            "readout_format": "d",
            "description_tooltip": null,
            "readout": true,
            "_model_module": "@jupyter-widgets/controls",
            "layout": "IPY_MODEL_1322474bc4ed41d493f756b1a898fd01"
          }
        },
        "4573baca2f2347d49ce3f81a1e64aeba": {
          "model_module": "@jupyter-widgets/controls",
          "model_name": "ButtonModel",
          "state": {
            "_view_name": "ButtonView",
            "style": "IPY_MODEL_584af5a64a6d4b8db63a541a64113f69",
            "_dom_classes": [],
            "description": "Run Interact",
            "_model_name": "ButtonModel",
            "button_style": "",
            "_view_module": "@jupyter-widgets/controls",
            "_model_module_version": "1.5.0",
            "tooltip": "",
            "_view_count": null,
            "disabled": false,
            "_view_module_version": "1.5.0",
            "layout": "IPY_MODEL_f4200d1d74a14a1ca827cbf67557ba93",
            "_model_module": "@jupyter-widgets/controls",
            "icon": ""
          }
        },
        "8efd5588463c4acb80a2d7b2f25658d6": {
          "model_module": "@jupyter-widgets/output",
          "model_name": "OutputModel",
          "state": {
            "_view_name": "OutputView",
            "msg_id": "",
            "_dom_classes": [],
            "_model_name": "OutputModel",
            "outputs": [
              {
                "output_type": "stream",
                "metadata": {
                  "tags": []
                },
                "text": "預測結果 Sneaker\n",
                "stream": "stdout"
              },
              {
                "output_type": "display_data",
                "metadata": {
                  "tags": []
                },
                "image/png": "iVBORw0KGgoAAAANSUhEUgAAAPsAAAD4CAYAAAAq5pAIAAAABHNCSVQICAgIfAhkiAAAAAlwSFlz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\n",
                "text/plain": "<Figure size 432x288 with 1 Axes>"
              }
            ],
            "_view_module": "@jupyter-widgets/output",
            "_model_module_version": "1.0.0",
            "_view_count": null,
            "_view_module_version": "1.0.0",
            "layout": "IPY_MODEL_19092026b5fd45399c51d5bef1c9b8e0",
            "_model_module": "@jupyter-widgets/output"
          }
        },
        "7dc1712513104dae8a4b64acf76134d0": {
          "model_module": "@jupyter-widgets/controls",
          "model_name": "SliderStyleModel",
          "state": {
            "_view_name": "StyleView",
            "handle_color": null,
            "_model_name": "SliderStyleModel",
            "description_width": "",
            "_view_module": "@jupyter-widgets/base",
            "_model_module_version": "1.5.0",
            "_view_count": null,
            "_view_module_version": "1.2.0",
            "_model_module": "@jupyter-widgets/controls"
          }
        },
        "1322474bc4ed41d493f756b1a898fd01": {
          "model_module": "@jupyter-widgets/base",
          "model_name": "LayoutModel",
          "state": {
            "_view_name": "LayoutView",
            "grid_template_rows": null,
            "right": null,
            "justify_content": null,
            "_view_module": "@jupyter-widgets/base",
            "overflow": null,
            "_model_module_version": "1.2.0",
            "_view_count": null,
            "flex_flow": null,
            "width": null,
            "min_width": null,
            "border": null,
            "align_items": null,
            "bottom": null,
            "_model_module": "@jupyter-widgets/base",
            "top": null,
            "grid_column": null,
            "overflow_y": null,
            "overflow_x": null,
            "grid_auto_flow": null,
            "grid_area": null,
            "grid_template_columns": null,
            "flex": null,
            "_model_name": "LayoutModel",
            "justify_items": null,
            "grid_row": null,
            "max_height": null,
            "align_content": null,
            "visibility": null,
            "align_self": null,
            "height": null,
            "min_height": null,
            "padding": null,
            "grid_auto_rows": null,
            "grid_gap": null,
            "max_width": null,
            "order": null,
            "_view_module_version": "1.2.0",
            "grid_template_areas": null,
            "object_position": null,
            "object_fit": null,
            "grid_auto_columns": null,
            "margin": null,
            "display": null,
            "left": null
          }
        },
        "584af5a64a6d4b8db63a541a64113f69": {
          "model_module": "@jupyter-widgets/controls",
          "model_name": "ButtonStyleModel",
          "state": {
            "_view_name": "StyleView",
            "_model_name": "ButtonStyleModel",
            "_view_module": "@jupyter-widgets/base",
            "_model_module_version": "1.5.0",
            "_view_count": null,
            "button_color": null,
            "font_weight": "",
            "_view_module_version": "1.2.0",
            "_model_module": "@jupyter-widgets/controls"
          }
        },
        "f4200d1d74a14a1ca827cbf67557ba93": {
          "model_module": "@jupyter-widgets/base",
          "model_name": "LayoutModel",
          "state": {
            "_view_name": "LayoutView",
            "grid_template_rows": null,
            "right": null,
            "justify_content": null,
            "_view_module": "@jupyter-widgets/base",
            "overflow": null,
            "_model_module_version": "1.2.0",
            "_view_count": null,
            "flex_flow": null,
            "width": null,
            "min_width": null,
            "border": null,
            "align_items": null,
            "bottom": null,
            "_model_module": "@jupyter-widgets/base",
            "top": null,
            "grid_column": null,
            "overflow_y": null,
            "overflow_x": null,
            "grid_auto_flow": null,
            "grid_area": null,
            "grid_template_columns": null,
            "flex": null,
            "_model_name": "LayoutModel",
            "justify_items": null,
            "grid_row": null,
            "max_height": null,
            "align_content": null,
            "visibility": null,
            "align_self": null,
            "height": null,
            "min_height": null,
            "padding": null,
            "grid_auto_rows": null,
            "grid_gap": null,
            "max_width": null,
            "order": null,
            "_view_module_version": "1.2.0",
            "grid_template_areas": null,
            "object_position": null,
            "object_fit": null,
            "grid_auto_columns": null,
            "margin": null,
            "display": null,
            "left": null
          }
        },
        "19092026b5fd45399c51d5bef1c9b8e0": {
          "model_module": "@jupyter-widgets/base",
          "model_name": "LayoutModel",
          "state": {
            "_view_name": "LayoutView",
            "grid_template_rows": null,
            "right": null,
            "justify_content": null,
            "_view_module": "@jupyter-widgets/base",
            "overflow": null,
            "_model_module_version": "1.2.0",
            "_view_count": null,
            "flex_flow": null,
            "width": null,
            "min_width": null,
            "border": null,
            "align_items": null,
            "bottom": null,
            "_model_module": "@jupyter-widgets/base",
            "top": null,
            "grid_column": null,
            "overflow_y": null,
            "overflow_x": null,
            "grid_auto_flow": null,
            "grid_area": null,
            "grid_template_columns": null,
            "flex": null,
            "_model_name": "LayoutModel",
            "justify_items": null,
            "grid_row": null,
            "max_height": null,
            "align_content": null,
            "visibility": null,
            "align_self": null,
            "height": null,
            "min_height": null,
            "padding": null,
            "grid_auto_rows": null,
            "grid_gap": null,
            "max_width": null,
            "order": null,
            "_view_module_version": "1.2.0",
            "grid_template_areas": null,
            "object_position": null,
            "object_fit": null,
            "grid_auto_columns": null,
            "margin": null,
            "display": null,
            "left": null
          }
        }
      }
    }
  },
  "cells": [
    {
      "cell_type": "markdown",
      "metadata": {
        "id": "view-in-github",
        "colab_type": "text"
      },
      "source": [
        "<a href=\"https://colab.research.google.com/github/Meave0108/my_work-python-/blob/master/python_HW0401.ipynb\" target=\"_parent\"><img src=\"https://colab.research.google.com/assets/colab-badge.svg\" alt=\"Open In Colab\"/></a>"
      ]
    },
    {
      "cell_type": "code",
      "metadata": {
        "id": "PCfYzoP-AJ57",
        "colab_type": "code",
        "colab": {}
      },
      "source": [
        "%matplotlib inline\n",
        "import numpy as np\n",
        "import matplotlib.pyplot as plt\n",
        "import pandas as pd"
      ],
      "execution_count": 0,
      "outputs": []
    },
    {
      "cell_type": "code",
      "metadata": {
        "id": "86NqRIuvAcGz",
        "colab_type": "code",
        "outputId": "d5c04ecc-2743-4fa9-f16b-2d130df01f9a",
        "colab": {
          "base_uri": "https://localhost:8080/",
          "height": 35
        }
      },
      "source": [
        "%tensorflow_version 2.x"
      ],
      "execution_count": 0,
      "outputs": [
        {
          "output_type": "stream",
          "text": [
            "TensorFlow 2.x selected.\n"
          ],
          "name": "stdout"
        }
      ]
    },
    {
      "cell_type": "markdown",
      "metadata": {
        "id": "yEvYBbh5dQpj",
        "colab_type": "text"
      },
      "source": [
        "## 讀入資料__fashion\n"
      ]
    },
    {
      "cell_type": "code",
      "metadata": {
        "id": "PZ7LPGZUci8s",
        "colab_type": "code",
        "colab": {}
      },
      "source": [
        "from tensorflow.keras.datasets import fashion_mnist"
      ],
      "execution_count": 0,
      "outputs": []
    },
    {
      "cell_type": "code",
      "metadata": {
        "id": "bLSy389_ci_x",
        "colab_type": "code",
        "outputId": "c99208a4-80ea-410e-a916-040fac3a4fe6",
        "colab": {
          "base_uri": "https://localhost:8080/",
          "height": 156
        }
      },
      "source": [
        "(x_train,y_train),(x_test,y_test)=fashion_mnist.load_data()"
      ],
      "execution_count": 0,
      "outputs": [
        {
          "output_type": "stream",
          "text": [
            "Downloading data from https://storage.googleapis.com/tensorflow/tf-keras-datasets/train-labels-idx1-ubyte.gz\n",
            "32768/29515 [=================================] - 0s 0us/step\n",
            "Downloading data from https://storage.googleapis.com/tensorflow/tf-keras-datasets/train-images-idx3-ubyte.gz\n",
            "26427392/26421880 [==============================] - 0s 0us/step\n",
            "Downloading data from https://storage.googleapis.com/tensorflow/tf-keras-datasets/t10k-labels-idx1-ubyte.gz\n",
            "8192/5148 [===============================================] - 0s 0us/step\n",
            "Downloading data from https://storage.googleapis.com/tensorflow/tf-keras-datasets/t10k-images-idx3-ubyte.gz\n",
            "4423680/4422102 [==============================] - 0s 0us/step\n"
          ],
          "name": "stdout"
        }
      ]
    },
    {
      "cell_type": "markdown",
      "metadata": {
        "id": "mxgaFTPOeOxz",
        "colab_type": "text"
      },
      "source": [
        "## 數據集內容\n"
      ]
    },
    {
      "cell_type": "code",
      "metadata": {
        "id": "qCh0XSaHgkls",
        "colab_type": "code",
        "colab": {}
      },
      "source": [
        ""
      ],
      "execution_count": 0,
      "outputs": []
    },
    {
      "cell_type": "markdown",
      "metadata": {
        "id": "cFgbuQfbgT4h",
        "colab_type": "text"
      },
      "source": [
        "#### Labels\n",
        "\n",
        "* T-shirt/top -->0\n",
        "* Trouser -->1\n",
        "* Pullover -->2\n",
        "* Dress -->3\n",
        "* Coat -->4\n",
        "* Sandal -->5\n",
        "* Shirt -->6\n",
        "* Sneaker -->7\n",
        "* Bag -->8\n",
        "* Ankle boot -->9\n",
        "\n",
        "\n",
        "\n",
        "\n"
      ]
    },
    {
      "cell_type": "code",
      "metadata": {
        "id": "4rwSNVUEF6lX",
        "colab_type": "code",
        "colab": {}
      },
      "source": [
        "names = ['T-shirt/top', 'Trouser', 'Pullover', 'Dress', 'Coat', 'Sandal', 'Shirt', 'Sneaker', 'Bag', 'Ankle boot']\n"
      ],
      "execution_count": 0,
      "outputs": []
    },
    {
      "cell_type": "code",
      "metadata": {
        "id": "qFEa6km5cjCY",
        "colab_type": "code",
        "outputId": "c93f2085-6b7c-4305-856c-b195b9f345f1",
        "colab": {
          "base_uri": "https://localhost:8080/",
          "height": 35
        }
      },
      "source": [
        "len(x_train)"
      ],
      "execution_count": 0,
      "outputs": [
        {
          "output_type": "execute_result",
          "data": {
            "text/plain": [
              "60000"
            ]
          },
          "metadata": {
            "tags": []
          },
          "execution_count": 6
        }
      ]
    },
    {
      "cell_type": "code",
      "metadata": {
        "id": "gtlsuS7_cjFH",
        "colab_type": "code",
        "outputId": "fbfcd18f-90ca-488e-bbd6-d6096bf5a54f",
        "colab": {
          "base_uri": "https://localhost:8080/",
          "height": 35
        }
      },
      "source": [
        "len(x_test)"
      ],
      "execution_count": 0,
      "outputs": [
        {
          "output_type": "execute_result",
          "data": {
            "text/plain": [
              "10000"
            ]
          },
          "metadata": {
            "tags": []
          },
          "execution_count": 7
        }
      ]
    },
    {
      "cell_type": "code",
      "metadata": {
        "id": "UiwVcWNLcjH8",
        "colab_type": "code",
        "outputId": "b75e2c3b-590f-4d93-c361-ff591618588a",
        "colab": {
          "base_uri": "https://localhost:8080/",
          "height": 283
        }
      },
      "source": [
        "n=1122\n",
        "plt.imshow(x_train[n],cmap='Greys')\n",
        "print('正確答案',names[y_train[n]])"
      ],
      "execution_count": 0,
      "outputs": [
        {
          "output_type": "stream",
          "text": [
            "正確答案 Pullover\n"
          ],
          "name": "stdout"
        },
        {
          "output_type": "display_data",
          "data": {
            "image/png": "[encoded data removed]",
            "text/plain": [
              "<Figure size 432x288 with 1 Axes>"
            ]
          },
          "metadata": {
            "tags": []
          }
        }
      ]
    },
    {
      "cell_type": "code",
      "metadata": {
        "id": "4Ktq9mXccjKk",
        "colab_type": "code",
        "colab": {}
      },
      "source": [
        ""
      ],
      "execution_count": 0,
      "outputs": []
    },
    {
      "cell_type": "markdown",
      "metadata": {
        "id": "PEphVURqYCRP",
        "colab_type": "text"
      },
      "source": [
        "### 3.資料整理\n"
      ]
    },
    {
      "cell_type": "markdown",
      "metadata": {
        "id": "I1AgWzCJXexu",
        "colab_type": "text"
      },
      "source": [
        "##### #CNN分析的輸入矩陣須為一個channel(多channel可能表示彩色圖片(eg.channel1-->red, channel2-->blue)),故(28,28)-->(28,28,1)\n",
        "\n",
        "\n",
        "\n"
      ]
    },
    {
      "cell_type": "code",
      "metadata": {
        "id": "pZPZAvIITPCF",
        "colab_type": "code",
        "colab": {}
      },
      "source": [
        "x_train=x_train.reshape(60000,28,28,1)/255"
      ],
      "execution_count": 0,
      "outputs": []
    },
    {
      "cell_type": "code",
      "metadata": {
        "id": "pouv5OcWTPEZ",
        "colab_type": "code",
        "colab": {}
      },
      "source": [
        "x_test=x_test.reshape(10000,28,28,1)/255"
      ],
      "execution_count": 0,
      "outputs": []
    },
    {
      "cell_type": "code",
      "metadata": {
        "id": "lfjJ6rbBTPG8",
        "colab_type": "code",
        "outputId": "d851f352-3820-4544-a9f8-ab96ff658d05",
        "colab": {
          "base_uri": "https://localhost:8080/",
          "height": 35
        }
      },
      "source": [
        "x_train[1234].shape"
      ],
      "execution_count": 0,
      "outputs": [
        {
          "output_type": "execute_result",
          "data": {
            "text/plain": [
              "(28, 28, 1)"
            ]
          },
          "metadata": {
            "tags": []
          },
          "execution_count": 11
        }
      ]
    },
    {
      "cell_type": "code",
      "metadata": {
        "id": "WLBE42XQTPJV",
        "colab_type": "code",
        "outputId": "fad5766b-3e27-4d57-c762-8ac2ca987f18",
        "colab": {
          "base_uri": "https://localhost:8080/",
          "height": 35
        }
      },
      "source": [
        "y_train[1234]"
      ],
      "execution_count": 0,
      "outputs": [
        {
          "output_type": "execute_result",
          "data": {
            "text/plain": [
              "8"
            ]
          },
          "metadata": {
            "tags": []
          },
          "execution_count": 12
        }
      ]
    },
    {
      "cell_type": "code",
      "metadata": {
        "id": "dbTMYmSlTPLn",
        "colab_type": "code",
        "colab": {}
      },
      "source": [
        "from tensorflow.keras.utils import to_categorical"
      ],
      "execution_count": 0,
      "outputs": []
    },
    {
      "cell_type": "code",
      "metadata": {
        "id": "8LdO1w2MYK-d",
        "colab_type": "code",
        "colab": {}
      },
      "source": [
        "y_train=to_categorical(y_train,10)\n",
        "y_test=to_categorical(y_test,10)"
      ],
      "execution_count": 0,
      "outputs": []
    },
    {
      "cell_type": "code",
      "metadata": {
        "id": "7L38GejyE6NI",
        "colab_type": "code",
        "colab": {}
      },
      "source": [
        ""
      ],
      "execution_count": 0,
      "outputs": []
    },
    {
      "cell_type": "markdown",
      "metadata": {
        "id": "SXistx2AZIbf",
        "colab_type": "text"
      },
      "source": [
        "### 4.打造神經網路(CNN)"
      ]
    },
    {
      "cell_type": "code",
      "metadata": {
        "id": "XN871unPYLBX",
        "colab_type": "code",
        "colab": {}
      },
      "source": [
        "###filter 一般來說都為奇數(3x3)\n",
        "###CNN必須為扁平的-->flatten"
      ],
      "execution_count": 0,
      "outputs": []
    },
    {
      "cell_type": "code",
      "metadata": {
        "id": "nX_X-_3gYLEg",
        "colab_type": "code",
        "colab": {}
      },
      "source": [
        "###讀入必要的函式"
      ],
      "execution_count": 0,
      "outputs": []
    },
    {
      "cell_type": "code",
      "metadata": {
        "id": "gASQBTVJYLHl",
        "colab_type": "code",
        "colab": {}
      },
      "source": [
        "from tensorflow.keras.models import Sequential\n",
        "from tensorflow.keras.layers import Conv2D, MaxPooling2D ##2D-->\n",
        "from tensorflow.keras.layers import Dense,Flatten\n",
        "from tensorflow.keras.optimizers import SGD\n",
        "import tensorflow.keras.activations"
      ],
      "execution_count": 0,
      "outputs": []
    },
    {
      "cell_type": "code",
      "metadata": {
        "id": "4Ucn4iD1YLKg",
        "colab_type": "code",
        "colab": {}
      },
      "source": [
        "model=Sequential()  #開空的函數學習機"
      ],
      "execution_count": 0,
      "outputs": []
    },
    {
      "cell_type": "markdown",
      "metadata": {
        "id": "flK_gVv30QtQ",
        "colab_type": "text"
      },
      "source": [
        "##### 1.卷積層輸出維度-->32,64,128\n",
        "##### 2.filter大小-->(7,7)\n",
        "##### 3.激活函數改用Leaky ReLU\n",
        "\n",
        "\n",
        "\n",
        "\n"
      ]
    },
    {
      "cell_type": "code",
      "metadata": {
        "id": "CCzUeaeKYLN6",
        "colab_type": "code",
        "colab": {}
      },
      "source": [
        "lrelu = lambda x: tensorflow.keras.activations.relu(x, alpha=0.1)\n",
        "\n",
        "model.add(Conv2D(32,(7,7),padding='same',input_shape=(28,28,1),activation=lrelu))"
      ],
      "execution_count": 0,
      "outputs": []
    },
    {
      "cell_type": "code",
      "metadata": {
        "id": "rH_Ixe20YLUB",
        "colab_type": "code",
        "colab": {}
      },
      "source": [
        "model.add(MaxPooling2D(pool_size=(2,2)))"
      ],
      "execution_count": 0,
      "outputs": []
    },
    {
      "cell_type": "code",
      "metadata": {
        "id": "SXha65IKYLaZ",
        "colab_type": "code",
        "colab": {}
      },
      "source": [
        "model.add(Conv2D(64,(7,7),padding='same',activation=lrelu))"
      ],
      "execution_count": 0,
      "outputs": []
    },
    {
      "cell_type": "code",
      "metadata": {
        "id": "CUOJTz_eYLho",
        "colab_type": "code",
        "colab": {}
      },
      "source": [
        "model.add(MaxPooling2D(pool_size=(2,2)))"
      ],
      "execution_count": 0,
      "outputs": []
    },
    {
      "cell_type": "code",
      "metadata": {
        "id": "bugeWjxBYLoj",
        "colab_type": "code",
        "colab": {}
      },
      "source": [
        "model.add(Conv2D(128,(7,7),padding='same',activation=lrelu))"
      ],
      "execution_count": 0,
      "outputs": []
    },
    {
      "cell_type": "code",
      "metadata": {
        "id": "fTOrfBONYLr9",
        "colab_type": "code",
        "colab": {}
      },
      "source": [
        "model.add(MaxPooling2D(pool_size=(2,2)))"
      ],
      "execution_count": 0,
      "outputs": []
    },
    {
      "cell_type": "code",
      "metadata": {
        "id": "pk_zJ-0ZkUc_",
        "colab_type": "code",
        "colab": {}
      },
      "source": [
        "model.add(Flatten())"
      ],
      "execution_count": 0,
      "outputs": []
    },
    {
      "cell_type": "markdown",
      "metadata": {
        "id": "9471OAGf3JO1",
        "colab_type": "text"
      },
      "source": [
        "##### 兩個隱藏層，一個輸出層"
      ]
    },
    {
      "cell_type": "code",
      "metadata": {
        "id": "9zg_yRdHkj02",
        "colab_type": "code",
        "colab": {}
      },
      "source": [
        "model.add(Dense(200, activation=lrelu)) "
      ],
      "execution_count": 0,
      "outputs": []
    },
    {
      "cell_type": "code",
      "metadata": {
        "id": "w4OBD4gy21Kn",
        "colab_type": "code",
        "colab": {}
      },
      "source": [
        "model.add(Dense(80,activation=lrelu)) "
      ],
      "execution_count": 0,
      "outputs": []
    },
    {
      "cell_type": "code",
      "metadata": {
        "id": "JAYkeLfCkvqQ",
        "colab_type": "code",
        "colab": {}
      },
      "source": [
        "model.add(Dense(10,activation='softmax')) ##softmax-->輸出的10個數字加起來要等於1"
      ],
      "execution_count": 0,
      "outputs": []
    },
    {
      "cell_type": "code",
      "metadata": {
        "id": "xNwEWUeNE-Iy",
        "colab_type": "code",
        "colab": {}
      },
      "source": [
        ""
      ],
      "execution_count": 0,
      "outputs": []
    },
    {
      "cell_type": "markdown",
      "metadata": {
        "id": "5w63SmcBkDTD",
        "colab_type": "text"
      },
      "source": [
        "### 5.組裝我們的神經網路"
      ]
    },
    {
      "cell_type": "code",
      "metadata": {
        "id": "42mFgVANYLvU",
        "colab_type": "code",
        "outputId": "ffec5d82-a034-445c-b36e-a9b88fba8dc0",
        "colab": {
          "base_uri": "https://localhost:8080/",
          "height": 503
        }
      },
      "source": [
        "model.summary()"
      ],
      "execution_count": 0,
      "outputs": [
        {
          "output_type": "stream",
          "text": [
            "Model: \"sequential\"\n",
            "_________________________________________________________________\n",
            "Layer (type)                 Output Shape              Param #   \n",
            "=================================================================\n",
            "conv2d (Conv2D)              (None, 28, 28, 32)        1600      \n",
            "_________________________________________________________________\n",
            "max_pooling2d (MaxPooling2D) (None, 14, 14, 32)        0         \n",
            "_________________________________________________________________\n",
            "conv2d_1 (Conv2D)            (None, 14, 14, 64)        100416    \n",
            "_________________________________________________________________\n",
            "max_pooling2d_1 (MaxPooling2 (None, 7, 7, 64)          0         \n",
            "_________________________________________________________________\n",
            "conv2d_2 (Conv2D)            (None, 7, 7, 128)         401536    \n",
            "_________________________________________________________________\n",
            "max_pooling2d_2 (MaxPooling2 (None, 3, 3, 128)         0         \n",
            "_________________________________________________________________\n",
            "flatten (Flatten)            (None, 1152)              0         \n",
            "_________________________________________________________________\n",
            "dense (Dense)                (None, 200)               230600    \n",
            "_________________________________________________________________\n",
            "dense_1 (Dense)              (None, 80)                16080     \n",
            "_________________________________________________________________\n",
            "dense_2 (Dense)              (None, 10)                810       \n",
            "=================================================================\n",
            "Total params: 751,042\n",
            "Trainable params: 751,042\n",
            "Non-trainable params: 0\n",
            "_________________________________________________________________\n"
          ],
          "name": "stdout"
        }
      ]
    },
    {
      "cell_type": "code",
      "metadata": {
        "id": "hdH8NrbSYL2n",
        "colab_type": "code",
        "colab": {}
      },
      "source": [
        "model.compile(loss='mse',optimizer=SGD(lr=0.087),metrics=['accuracy'])  ##將mse改成mae"
      ],
      "execution_count": 0,
      "outputs": []
    },
    {
      "cell_type": "code",
      "metadata": {
        "id": "t1fmZWPXFE2s",
        "colab_type": "code",
        "colab": {}
      },
      "source": [
        ""
      ],
      "execution_count": 0,
      "outputs": []
    },
    {
      "cell_type": "markdown",
      "metadata": {
        "id": "VgraQJ8QoxJp",
        "colab_type": "text"
      },
      "source": [
        "### 6.訓練神經網路"
      ]
    },
    {
      "cell_type": "code",
      "metadata": {
        "id": "WTwzud_GYL6g",
        "colab_type": "code",
        "outputId": "0e369b14-95d8-44cf-bf51-8b26b80abca2",
        "colab": {
          "base_uri": "https://localhost:8080/",
          "height": 728
        }
      },
      "source": [
        "model.fit(x_train,y_train,batch_size=120,epochs=20)"
      ],
      "execution_count": 0,
      "outputs": [
        {
          "output_type": "stream",
          "text": [
            "Epoch 1/20\n",
            "500/500 [==============================] - 6s 12ms/step - loss: 0.0868 - accuracy: 0.2600\n",
            "Epoch 2/20\n",
            "500/500 [==============================] - 6s 12ms/step - loss: 0.0493 - accuracy: 0.6385\n",
            "Epoch 3/20\n",
            "500/500 [==============================] - 6s 12ms/step - loss: 0.0379 - accuracy: 0.7239\n",
            "Epoch 4/20\n",
            "500/500 [==============================] - 6s 12ms/step - loss: 0.0336 - accuracy: 0.7610\n",
            "Epoch 5/20\n",
            "500/500 [==============================] - 6s 12ms/step - loss: 0.0312 - accuracy: 0.7812\n",
            "Epoch 6/20\n",
            "500/500 [==============================] - 6s 12ms/step - loss: 0.0292 - accuracy: 0.7967\n",
            "Epoch 7/20\n",
            "500/500 [==============================] - 6s 12ms/step - loss: 0.0277 - accuracy: 0.8067\n",
            "Epoch 8/20\n",
            "500/500 [==============================] - 6s 12ms/step - loss: 0.0263 - accuracy: 0.8177\n",
            "Epoch 9/20\n",
            "500/500 [==============================] - 6s 12ms/step - loss: 0.0253 - accuracy: 0.8250\n",
            "Epoch 10/20\n",
            "500/500 [==============================] - 6s 12ms/step - loss: 0.0241 - accuracy: 0.8330\n",
            "Epoch 11/20\n",
            "500/500 [==============================] - 6s 12ms/step - loss: 0.0232 - accuracy: 0.8401\n",
            "Epoch 12/20\n",
            "500/500 [==============================] - 6s 12ms/step - loss: 0.0223 - accuracy: 0.8449\n",
            "Epoch 13/20\n",
            "500/500 [==============================] - 6s 12ms/step - loss: 0.0216 - accuracy: 0.8513\n",
            "Epoch 14/20\n",
            "500/500 [==============================] - 6s 12ms/step - loss: 0.0210 - accuracy: 0.8549\n",
            "Epoch 15/20\n",
            "500/500 [==============================] - 6s 12ms/step - loss: 0.0205 - accuracy: 0.8591\n",
            "Epoch 16/20\n",
            "500/500 [==============================] - 6s 12ms/step - loss: 0.0200 - accuracy: 0.8633\n",
            "Epoch 17/20\n",
            "500/500 [==============================] - 6s 12ms/step - loss: 0.0196 - accuracy: 0.8645\n",
            "Epoch 18/20\n",
            "500/500 [==============================] - 6s 12ms/step - loss: 0.0190 - accuracy: 0.8696\n",
            "Epoch 19/20\n",
            "500/500 [==============================] - 6s 12ms/step - loss: 0.0187 - accuracy: 0.8726\n",
            "Epoch 20/20\n",
            "500/500 [==============================] - 6s 12ms/step - loss: 0.0184 - accuracy: 0.8747\n"
          ],
          "name": "stdout"
        },
        {
          "output_type": "execute_result",
          "data": {
            "text/plain": [
              "<tensorflow.python.keras.callbacks.History at 0x7fdf9030fd30>"
            ]
          },
          "metadata": {
            "tags": []
          },
          "execution_count": 31
        }
      ]
    },
    {
      "cell_type": "code",
      "metadata": {
        "id": "pbRMxY9EFHR9",
        "colab_type": "code",
        "colab": {}
      },
      "source": [
        ""
      ],
      "execution_count": 0,
      "outputs": []
    },
    {
      "cell_type": "markdown",
      "metadata": {
        "id": "RFVR-2lYqB_x",
        "colab_type": "text"
      },
      "source": [
        "### 7.訓練成果"
      ]
    },
    {
      "cell_type": "code",
      "metadata": {
        "id": "aGmejWU7YL9l",
        "colab_type": "code",
        "outputId": "b6b35516-23c4-4552-ee6f-f6f7d2464e35",
        "colab": {
          "base_uri": "https://localhost:8080/",
          "height": 89
        }
      },
      "source": [
        "result=model.predict_classes(x_test)"
      ],
      "execution_count": 0,
      "outputs": [
        {
          "output_type": "stream",
          "text": [
            "WARNING:tensorflow:From <ipython-input-32-fb35951f79d2>:1: Sequential.predict_classes (from tensorflow.python.keras.engine.sequential) is deprecated and will be removed after 2021-01-01.\n",
            "Instructions for updating:\n",
            "Please use instead:* `np.argmax(model.predict(x), axis=-1)`,   if your model does multi-class classification   (e.g. if it uses a `softmax` last-layer activation).* `(model.predict(x) > 0.5).astype(\"int32\")`,   if your model does binary classification   (e.g. if it uses a `sigmoid` last-layer activation).\n"
          ],
          "name": "stdout"
        }
      ]
    },
    {
      "cell_type": "code",
      "metadata": {
        "id": "NbfdnKD5jGkm",
        "colab_type": "code",
        "colab": {}
      },
      "source": [
        "def my_predict(n):\n",
        "  print('預測結果',names[result[n]])\n",
        "  X=x_test[n].reshape(28,28)##因前面為了訓練將矩陣改成(28,28,1)，在這邊要改回來\n",
        "  plt.imshow(X,cmap='Greys') "
      ],
      "execution_count": 0,
      "outputs": []
    },
    {
      "cell_type": "code",
      "metadata": {
        "id": "ultY5botjGoh",
        "colab_type": "code",
        "colab": {}
      },
      "source": [
        "from ipywidgets import interact_manual"
      ],
      "execution_count": 0,
      "outputs": []
    },
    {
      "cell_type": "code",
      "metadata": {
        "id": "jBAohc3GjGsb",
        "colab_type": "code",
        "outputId": "4bf90ab2-3be4-4959-ad44-c81be10daa85",
        "colab": {
          "base_uri": "https://localhost:8080/",
          "height": 364,
          "referenced_widgets": [
            "fd906e9ec4304573bd4e2c5560b8b80d",
            "6f7011aa297f4593b0c25211eb937986",
            "395b04d4c1a045119a03503bb37cc4e9",
            "4573baca2f2347d49ce3f81a1e64aeba",
            "8efd5588463c4acb80a2d7b2f25658d6",
            "7dc1712513104dae8a4b64acf76134d0",
            "1322474bc4ed41d493f756b1a898fd01",
            "584af5a64a6d4b8db63a541a64113f69",
            "f4200d1d74a14a1ca827cbf67557ba93",
            "19092026b5fd45399c51d5bef1c9b8e0"
          ]
        }
      },
      "source": [
        "interact_manual(my_predict,n=(0,9999))"
      ],
      "execution_count": 0,
      "outputs": [
        {
          "output_type": "display_data",
          "data": {
            "application/vnd.jupyter.widget-view+json": {
              "model_id": "fd906e9ec4304573bd4e2c5560b8b80d",
              "version_minor": 0,
              "version_major": 2
            },
            "text/plain": [
              "interactive(children=(IntSlider(value=4999, description='n', max=9999), Button(description='Run Interact', sty…"
            ]
          },
          "metadata": {
            "tags": []
          }
        },
        {
          "output_type": "execute_result",
          "data": {
            "text/plain": [
              "<function __main__.my_predict>"
            ]
          },
          "metadata": {
            "tags": []
          },
          "execution_count": 35
        }
      ]
    },
    {
      "cell_type": "code",
      "metadata": {
        "id": "UDTA3G4yFS_w",
        "colab_type": "code",
        "colab": {}
      },
      "source": [
        ""
      ],
      "execution_count": 0,
      "outputs": []
    },
    {
      "cell_type": "markdown",
      "metadata": {
        "colab_type": "text",
        "id": "Llt8m1xyENGW"
      },
      "source": [
        "### 檢查是否有overfitting的狀況"
      ]
    },
    {
      "cell_type": "code",
      "metadata": {
        "colab_type": "code",
        "outputId": "13a05096-0101-4054-f04b-3cf22a7dc6fe",
        "id": "1jDjtgabENGQ",
        "colab": {
          "base_uri": "https://localhost:8080/",
          "height": 104
        }
      },
      "source": [
        "loss,accuracy = model.evaluate(x_test, y_test)\n",
        "print('\\nresult')\n",
        "print(f'loss：{loss}\\nacccuracy: {accuracy}')"
      ],
      "execution_count": 0,
      "outputs": [
        {
          "output_type": "stream",
          "text": [
            "313/313 [==============================] - 1s 3ms/step - loss: 0.0195 - accuracy: 0.8669\n",
            "\n",
            "result\n",
            "loss：0.019547466188669205\n",
            "acccuracy: 0.8669000267982483\n"
          ],
          "name": "stdout"
        }
      ]
    },
    {
      "cell_type": "code",
      "metadata": {
        "id": "r7JrbMfhFUkX",
        "colab_type": "code",
        "colab": {}
      },
      "source": [
        ""
      ],
      "execution_count": 0,
      "outputs": []
    },
    {
      "cell_type": "markdown",
      "metadata": {
        "colab_type": "text",
        "id": "TVsVLLxCENGM"
      },
      "source": [
        "### 利用混淆矩陣看預測準確度"
      ]
    },
    {
      "cell_type": "code",
      "metadata": {
        "colab_type": "code",
        "outputId": "356cae51-a770-4f84-b51b-5326cfd99e0c",
        "id": "cLZpUWqFENGB",
        "colab": {
          "base_uri": "https://localhost:8080/",
          "height": 191
        }
      },
      "source": [
        "from sklearn.metrics import confusion_matrix\n",
        "b=model.predict(x_test)\n",
        "y_test_classes = np.argmax(y_test,axis=1)\n",
        "y_pred_classes = np.argmax(b,axis=1)\n",
        "print (confusion_matrix(y_test_classes,y_pred_classes))"
      ],
      "execution_count": 0,
      "outputs": [
        {
          "output_type": "stream",
          "text": [
            "[[882   2  16  16   6   3  58   0  17   0]\n",
            " [  2 970   1  18   4   0   4   0   1   0]\n",
            " [ 18   2 795   6 120   2  43   0  14   0]\n",
            " [ 46  17  17 837  45   1  29   0   8   0]\n",
            " [  3   1  95  16 824   1  52   0   8   0]\n",
            " [  1   0   0   0   0 961   0  27   1  10]\n",
            " [214   2 111  17  92   0 543   0  21   0]\n",
            " [  0   0   0   0   0  27   0 937   0  36]\n",
            " [  1   1   8   4   5   3   3   4 970   1]\n",
            " [  0   0   0   0   0  13   0  36   1 950]]\n"
          ],
          "name": "stdout"
        }
      ]
    },
    {
      "cell_type": "code",
      "metadata": {
        "colab_type": "code",
        "id": "CKk7i026ENFW",
        "colab": {}
      },
      "source": [
        ""
      ],
      "execution_count": 0,
      "outputs": []
    },
    {
      "cell_type": "code",
      "metadata": {
        "colab_type": "code",
        "id": "PtTKBcBbENE4",
        "colab": {}
      },
      "source": [
        ""
      ],
      "execution_count": 0,
      "outputs": []
    },
    {
      "cell_type": "code",
      "metadata": {
        "colab_type": "code",
        "id": "5zdannB-ENEa",
        "colab": {}
      },
      "source": [
        ""
      ],
      "execution_count": 0,
      "outputs": []
    }
  ]
}