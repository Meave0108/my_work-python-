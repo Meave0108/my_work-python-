{
 "cells": [
  {
   "cell_type": "markdown",
   "metadata": {},
   "source": [
    "## 剪刀石頭布小遊戲"
   ]
  },
  {
   "cell_type": "code",
   "execution_count": 8,
   "metadata": {},
   "outputs": [
    {
     "name": "stdout",
     "output_type": "stream",
     "text": [
      "請輸入剪刀、石頭或布~~字\n",
      "請輸入剪刀、石頭或布~~石頭\n",
      "平手耶...再玩一次吧~~\n",
      "請輸入剪刀、石頭或布~~剪刀\n",
      "平手耶...再玩一次吧~~\n",
      "請輸入剪刀、石頭或布~~剪刀\n",
      "平手耶...再玩一次吧~~\n",
      "請輸入剪刀、石頭或布~~剪刀\n",
      "加油點好嗎?我阿嬤都比你強...\n",
      "請輸入剪刀、石頭或布~~石頭\n",
      "加油點好嗎?我阿嬤都比你強...\n",
      "請輸入剪刀、石頭或布~~石頭\n",
      "恭喜你贏了~~\n"
     ]
    }
   ],
   "source": [
    "import random\n",
    "%matplotlib inline\n",
    "import numpy as np\n",
    "import matplotlib.pyplot as plt\n",
    "from IPython.display import display,HTML,Markdown,Image,YouTubeVideo\n",
    "import pyglet\n",
    "\n",
    "\n",
    "choices = [\"剪刀\", \"石頭\", \"布\"]\n",
    "win = [[\"布\", \"石頭\"], [\"石頭\", \"剪刀\"], [\"剪刀\", \"布\"]]\n",
    "\n",
    "def happy():\n",
    "    A = \"ghost.gif\"\n",
    "    B= pyglet.resource.animation(A)\n",
    "    C = pyglet.sprite.Sprite(B)\n",
    "    win= pyglet.window.Window(width=C.width, height=C.height)\n",
    "    green = 0, 1, 0, 1\n",
    "    pyglet.gl.glClearColor(*green)\n",
    "    @win.event\n",
    "    def on_draw():\n",
    "        win.clear()\n",
    "        C.draw()\n",
    "\n",
    "    pyglet.app.run()\n",
    "    \n",
    "\n",
    "def lose():\n",
    "    A = \"tease.gif\"\n",
    "    B= pyglet.resource.animation(A)\n",
    "    C = pyglet.sprite.Sprite(B)\n",
    "    win= pyglet.window.Window(width=C.width, height=C.height)\n",
    "    green = 0, 1, 0, 1\n",
    "    pyglet.gl.glClearColor(*green)\n",
    "    @win.event\n",
    "    def on_draw():\n",
    "        win.clear()\n",
    "        C.draw()\n",
    "\n",
    "    pyglet.app.run()\n",
    "\n",
    "while True:\n",
    "    computer = random.choice(choices)\n",
    "    people = input('請輸入剪刀、石頭或布~~').strip()   \n",
    "    if people not in choices:\n",
    "        continue\n",
    "    elif computer == people:\n",
    "        print (\"平手耶...再玩一次吧~~\")\n",
    "    elif [computer, people] in win:\n",
    "        print (\"加油點好嗎?我阿嬤都比你強...\")\n",
    "        lose()\n",
    "    else:\n",
    "        print (\"恭喜你贏了~~\")\n",
    "        happy()\n",
    "        break\n",
    "\n"
   ]
  },
  {
   "cell_type": "code",
   "execution_count": null,
   "metadata": {},
   "outputs": [],
   "source": []
  },
  {
   "cell_type": "code",
   "execution_count": null,
   "metadata": {},
   "outputs": [],
   "source": []
  },
  {
   "cell_type": "code",
   "execution_count": null,
   "metadata": {},
   "outputs": [],
   "source": []
  },
  {
   "cell_type": "code",
   "execution_count": null,
   "metadata": {},
   "outputs": [],
   "source": []
  },
  {
   "cell_type": "code",
   "execution_count": null,
   "metadata": {},
   "outputs": [],
   "source": []
  },
  {
   "cell_type": "code",
   "execution_count": null,
   "metadata": {},
   "outputs": [],
   "source": []
  },
  {
   "cell_type": "code",
   "execution_count": null,
   "metadata": {},
   "outputs": [],
   "source": []
  },
  {
   "cell_type": "code",
   "execution_count": null,
   "metadata": {},
   "outputs": [],
   "source": []
  }
 ],
 "metadata": {
  "kernelspec": {
   "display_name": "Python 3",
   "language": "python",
   "name": "python3"
  },
  "language_info": {
   "codemirror_mode": {
    "name": "ipython",
    "version": 3
   },
   "file_extension": ".py",
   "mimetype": "text/x-python",
   "name": "python",
   "nbconvert_exporter": "python",
   "pygments_lexer": "ipython3",
   "version": "3.7.3"
  }
 },
 "nbformat": 4,
 "nbformat_minor": 2
}
