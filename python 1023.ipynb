{
 "cells": [
  {
   "cell_type": "code",
   "execution_count": 2,
   "metadata": {},
   "outputs": [],
   "source": [
    "%matplotlib inline\n",
    "import numpy as np\n",
    "import matplotlib.pyplot as plt\n",
    "import pandas as pd\n"
   ]
  },
  {
   "cell_type": "markdown",
   "metadata": {},
   "source": [
    "## 數學數值型運算: array oriented programming"
   ]
  },
  {
   "cell_type": "code",
   "execution_count": 6,
   "metadata": {},
   "outputs": [],
   "source": [
    "grades=[56,62,71,45,70]"
   ]
  },
  {
   "cell_type": "code",
   "execution_count": 49,
   "metadata": {},
   "outputs": [
    {
     "name": "stdout",
     "output_type": "stream",
     "text": [
      "調整後成績:74.83\n",
      "調整後成績:78.74\n",
      "調整後成績:84.26\n",
      "調整後成績:67.08\n",
      "調整後成績:83.67\n"
     ]
    }
   ],
   "source": [
    "new_grades= []\n",
    "\n",
    "for i in grades:\n",
    "    new_g=np.sqrt(i)*10\n",
    "    print(f\"調整後成績:{new_g:.2f}\")\n",
    "    new_grades.append(new_g)\n"
   ]
  },
  {
   "cell_type": "code",
   "execution_count": 36,
   "metadata": {},
   "outputs": [
    {
     "name": "stdout",
     "output_type": "stream",
     "text": [
      "調整後成績:89.83\n",
      "調整後成績:93.74\n",
      "調整後成績:99.26\n",
      "調整後成績:82.08\n",
      "調整後成績:98.67\n"
     ]
    }
   ],
   "source": [
    "for i in grades:\n",
    "    new_g=np.sqrt(i)*10+15\n",
    "    print(f\"調整後成績:{new_g:.2f}\")\n",
    "    new_grades.append(new_g)"
   ]
  },
  {
   "cell_type": "markdown",
   "metadata": {},
   "source": [
    "### 換成np.array"
   ]
  },
  {
   "cell_type": "code",
   "execution_count": 13,
   "metadata": {},
   "outputs": [],
   "source": [
    "arr_grades=np.array(grades)"
   ]
  },
  {
   "cell_type": "code",
   "execution_count": 14,
   "metadata": {},
   "outputs": [
    {
     "data": {
      "text/plain": [
       "array([56, 62, 71, 45, 70])"
      ]
     },
     "execution_count": 14,
     "metadata": {},
     "output_type": "execute_result"
    }
   ],
   "source": [
    "arr_grades"
   ]
  },
  {
   "cell_type": "code",
   "execution_count": 18,
   "metadata": {},
   "outputs": [
    {
     "data": {
      "text/plain": [
       "array([74.83314774, 78.74007874, 84.26149773, 67.08203932, 83.66600265])"
      ]
     },
     "execution_count": 18,
     "metadata": {},
     "output_type": "execute_result"
    }
   ],
   "source": [
    "np.sqrt(arr_grades)*10"
   ]
  },
  {
   "cell_type": "code",
   "execution_count": 19,
   "metadata": {},
   "outputs": [
    {
     "data": {
      "text/plain": [
       "array([89.83314774, 93.74007874, 99.26149773, 82.08203932, 98.66600265])"
      ]
     },
     "execution_count": 19,
     "metadata": {},
     "output_type": "execute_result"
    }
   ],
   "source": [
    "np.sqrt(arr_grades)*10+15"
   ]
  },
  {
   "cell_type": "code",
   "execution_count": 22,
   "metadata": {},
   "outputs": [],
   "source": [
    "arr_new_grades=np.sqrt(arr_grades)*10+15"
   ]
  },
  {
   "cell_type": "code",
   "execution_count": 23,
   "metadata": {},
   "outputs": [
    {
     "data": {
      "text/plain": [
       "array([89.83314774, 93.74007874, 99.26149773, 82.08203932, 98.66600265])"
      ]
     },
     "execution_count": 23,
     "metadata": {},
     "output_type": "execute_result"
    }
   ],
   "source": [
    "arr_new_grades"
   ]
  },
  {
   "cell_type": "code",
   "execution_count": 27,
   "metadata": {},
   "outputs": [
    {
     "data": {
      "text/plain": [
       "92.71655323715235"
      ]
     },
     "execution_count": 27,
     "metadata": {},
     "output_type": "execute_result"
    }
   ],
   "source": [
    "arr_new_grades.mean()"
   ]
  },
  {
   "cell_type": "code",
   "execution_count": 28,
   "metadata": {},
   "outputs": [
    {
     "data": {
      "text/plain": [
       "6.33540471768489"
      ]
     },
     "execution_count": 28,
     "metadata": {},
     "output_type": "execute_result"
    }
   ],
   "source": [
    "arr_new_grades.std()"
   ]
  },
  {
   "cell_type": "markdown",
   "metadata": {},
   "source": [
    "## brocasting"
   ]
  },
  {
   "cell_type": "code",
   "execution_count": 32,
   "metadata": {},
   "outputs": [
    {
     "data": {
      "text/plain": [
       "array([ 8,  9, 10, 14, 17])"
      ]
     },
     "execution_count": 32,
     "metadata": {},
     "output_type": "execute_result"
    }
   ],
   "source": [
    "np.array([3,4,5,9,12])+5"
   ]
  },
  {
   "cell_type": "code",
   "execution_count": 45,
   "metadata": {},
   "outputs": [],
   "source": [
    "mygrades=np.array([89,99,60])"
   ]
  },
  {
   "cell_type": "code",
   "execution_count": 46,
   "metadata": {},
   "outputs": [],
   "source": [
    "weight=np.array([0.3,0.4,0.3])"
   ]
  },
  {
   "cell_type": "code",
   "execution_count": 47,
   "metadata": {},
   "outputs": [],
   "source": [
    "g=mygrades*weight"
   ]
  },
  {
   "cell_type": "code",
   "execution_count": 48,
   "metadata": {},
   "outputs": [
    {
     "data": {
      "text/plain": [
       "84.3"
      ]
     },
     "execution_count": 48,
     "metadata": {},
     "output_type": "execute_result"
    }
   ],
   "source": [
    "g.sum()"
   ]
  },
  {
   "cell_type": "code",
   "execution_count": 50,
   "metadata": {},
   "outputs": [
    {
     "data": {
      "text/plain": [
       "84.3"
      ]
     },
     "execution_count": 50,
     "metadata": {},
     "output_type": "execute_result"
    }
   ],
   "source": [
    "np.dot(mygrades,weight)"
   ]
  },
  {
   "cell_type": "code",
   "execution_count": 51,
   "metadata": {},
   "outputs": [
    {
     "data": {
      "text/plain": [
       "84.3"
      ]
     },
     "execution_count": 51,
     "metadata": {},
     "output_type": "execute_result"
    }
   ],
   "source": [
    "mygrades @ weight"
   ]
  },
  {
   "cell_type": "markdown",
   "metadata": {},
   "source": [
    "### 不同shape轉換"
   ]
  },
  {
   "cell_type": "markdown",
   "metadata": {},
   "source": [
    "#### 0階array(tensor)"
   ]
  },
  {
   "cell_type": "code",
   "execution_count": 52,
   "metadata": {},
   "outputs": [],
   "source": [
    "egg=94.87"
   ]
  },
  {
   "cell_type": "markdown",
   "metadata": {},
   "source": [
    "#### 1階array(tensor)"
   ]
  },
  {
   "cell_type": "code",
   "execution_count": 53,
   "metadata": {},
   "outputs": [],
   "source": [
    "egg=np.array([9,4,8,7])"
   ]
  },
  {
   "cell_type": "markdown",
   "metadata": {},
   "source": [
    "#### 2階array(tensor)-->矩陣"
   ]
  },
  {
   "cell_type": "code",
   "execution_count": 55,
   "metadata": {},
   "outputs": [],
   "source": [
    "A=np.array([[1,2,3],[4,5,6]])"
   ]
  },
  {
   "cell_type": "code",
   "execution_count": 56,
   "metadata": {},
   "outputs": [
    {
     "data": {
      "text/plain": [
       "array([[1, 2, 3],\n",
       "       [4, 5, 6]])"
      ]
     },
     "execution_count": 56,
     "metadata": {},
     "output_type": "execute_result"
    }
   ],
   "source": [
    "A"
   ]
  },
  {
   "cell_type": "code",
   "execution_count": 57,
   "metadata": {},
   "outputs": [],
   "source": [
    "B=np.array([3,9,6,12,8,20,1,10,7])"
   ]
  },
  {
   "cell_type": "code",
   "execution_count": 58,
   "metadata": {},
   "outputs": [
    {
     "data": {
      "text/plain": [
       "array([ 3,  9,  6, 12,  8, 20,  1, 10,  7])"
      ]
     },
     "execution_count": 58,
     "metadata": {},
     "output_type": "execute_result"
    }
   ],
   "source": [
    "B"
   ]
  },
  {
   "cell_type": "code",
   "execution_count": 62,
   "metadata": {},
   "outputs": [
    {
     "data": {
      "text/plain": [
       "(9,)"
      ]
     },
     "execution_count": 62,
     "metadata": {},
     "output_type": "execute_result"
    }
   ],
   "source": [
    "B.shape"
   ]
  },
  {
   "cell_type": "code",
   "execution_count": 60,
   "metadata": {},
   "outputs": [
    {
     "data": {
      "text/plain": [
       "(2, 3)"
      ]
     },
     "execution_count": 60,
     "metadata": {},
     "output_type": "execute_result"
    }
   ],
   "source": [
    "A.shape"
   ]
  },
  {
   "cell_type": "code",
   "execution_count": 63,
   "metadata": {},
   "outputs": [
    {
     "data": {
      "text/plain": [
       "array([[ 3,  9,  6],\n",
       "       [12,  8, 20],\n",
       "       [ 1, 10,  7]])"
      ]
     },
     "execution_count": 63,
     "metadata": {},
     "output_type": "execute_result"
    }
   ],
   "source": [
    "B.reshape(3,3)"
   ]
  },
  {
   "cell_type": "code",
   "execution_count": 64,
   "metadata": {},
   "outputs": [
    {
     "data": {
      "text/plain": [
       "array([ 3,  9,  6, 12,  8, 20,  1, 10,  7])"
      ]
     },
     "execution_count": 64,
     "metadata": {},
     "output_type": "execute_result"
    }
   ],
   "source": [
    "B"
   ]
  },
  {
   "cell_type": "code",
   "execution_count": 65,
   "metadata": {},
   "outputs": [],
   "source": [
    "B= B.reshape(3,3)"
   ]
  },
  {
   "cell_type": "code",
   "execution_count": 66,
   "metadata": {},
   "outputs": [
    {
     "data": {
      "text/plain": [
       "array([[ 3,  9,  6],\n",
       "       [12,  8, 20],\n",
       "       [ 1, 10,  7]])"
      ]
     },
     "execution_count": 66,
     "metadata": {},
     "output_type": "execute_result"
    }
   ],
   "source": [
    "B"
   ]
  },
  {
   "cell_type": "code",
   "execution_count": 68,
   "metadata": {},
   "outputs": [
    {
     "data": {
      "text/plain": [
       "array([[ 30,  55,  67],\n",
       "       [ 78, 136, 166]])"
      ]
     },
     "execution_count": 68,
     "metadata": {},
     "output_type": "execute_result"
    }
   ],
   "source": [
    "A @ B"
   ]
  },
  {
   "cell_type": "code",
   "execution_count": 69,
   "metadata": {},
   "outputs": [],
   "source": [
    "C=A @ B"
   ]
  },
  {
   "cell_type": "code",
   "execution_count": 70,
   "metadata": {},
   "outputs": [
    {
     "data": {
      "text/plain": [
       "array([[ 30,  55,  67],\n",
       "       [ 78, 136, 166]])"
      ]
     },
     "execution_count": 70,
     "metadata": {},
     "output_type": "execute_result"
    }
   ],
   "source": [
    "C"
   ]
  },
  {
   "cell_type": "code",
   "execution_count": 71,
   "metadata": {},
   "outputs": [
    {
     "data": {
      "text/plain": [
       "array([ 78, 136, 166])"
      ]
     },
     "execution_count": 71,
     "metadata": {},
     "output_type": "execute_result"
    }
   ],
   "source": [
    "C[1]"
   ]
  },
  {
   "cell_type": "code",
   "execution_count": 72,
   "metadata": {},
   "outputs": [
    {
     "data": {
      "text/plain": [
       "136"
      ]
     },
     "execution_count": 72,
     "metadata": {},
     "output_type": "execute_result"
    }
   ],
   "source": [
    "C[1,1]"
   ]
  },
  {
   "cell_type": "code",
   "execution_count": 74,
   "metadata": {},
   "outputs": [
    {
     "data": {
      "text/plain": [
       "array([ 67, 166])"
      ]
     },
     "execution_count": 74,
     "metadata": {},
     "output_type": "execute_result"
    }
   ],
   "source": [
    "C[:,2]"
   ]
  },
  {
   "cell_type": "code",
   "execution_count": 75,
   "metadata": {},
   "outputs": [
    {
     "data": {
      "text/plain": [
       "array([[1, 2, 3],\n",
       "       [4, 5, 6]])"
      ]
     },
     "execution_count": 75,
     "metadata": {},
     "output_type": "execute_result"
    }
   ],
   "source": [
    "A"
   ]
  },
  {
   "cell_type": "code",
   "execution_count": 76,
   "metadata": {},
   "outputs": [
    {
     "data": {
      "text/plain": [
       "array([1, 2, 3, 4, 5, 6])"
      ]
     },
     "execution_count": 76,
     "metadata": {},
     "output_type": "execute_result"
    }
   ],
   "source": [
    "A.ravel()"
   ]
  },
  {
   "cell_type": "code",
   "execution_count": 77,
   "metadata": {},
   "outputs": [],
   "source": [
    "X=np.array([3,9,1,3,-5,1,2])"
   ]
  },
  {
   "cell_type": "markdown",
   "metadata": {},
   "source": [
    "### 要變成: \n",
    "[[3],[9],[1]......]"
   ]
  },
  {
   "cell_type": "code",
   "execution_count": 78,
   "metadata": {},
   "outputs": [
    {
     "data": {
      "text/plain": [
       "array([[ 3],\n",
       "       [ 9],\n",
       "       [ 1],\n",
       "       [ 3],\n",
       "       [-5],\n",
       "       [ 1],\n",
       "       [ 2]])"
      ]
     },
     "execution_count": 78,
     "metadata": {},
     "output_type": "execute_result"
    }
   ],
   "source": [
    "X.reshape(7,1)"
   ]
  },
  {
   "cell_type": "code",
   "execution_count": 80,
   "metadata": {},
   "outputs": [
    {
     "data": {
      "text/plain": [
       "array([[ 3],\n",
       "       [ 9],\n",
       "       [ 1],\n",
       "       [ 3],\n",
       "       [-5],\n",
       "       [ 1],\n",
       "       [ 2]])"
      ]
     },
     "execution_count": 80,
     "metadata": {},
     "output_type": "execute_result"
    }
   ],
   "source": [
    "X.reshape(len(X),1)"
   ]
  },
  {
   "cell_type": "markdown",
   "metadata": {},
   "source": [
    "### array 的 filter 功能"
   ]
  },
  {
   "cell_type": "code",
   "execution_count": 81,
   "metadata": {},
   "outputs": [],
   "source": [
    "grades=np.array([59,30,25,65,60,100,85,8])"
   ]
  },
  {
   "cell_type": "code",
   "execution_count": 83,
   "metadata": {},
   "outputs": [],
   "source": [
    "passed=np.array([False,False,False,True,True,True,True,False])"
   ]
  },
  {
   "cell_type": "code",
   "execution_count": 84,
   "metadata": {},
   "outputs": [
    {
     "data": {
      "text/plain": [
       "array([False, False, False,  True,  True,  True,  True, False])"
      ]
     },
     "execution_count": 84,
     "metadata": {},
     "output_type": "execute_result"
    }
   ],
   "source": [
    "passed"
   ]
  },
  {
   "cell_type": "code",
   "execution_count": 85,
   "metadata": {},
   "outputs": [
    {
     "data": {
      "text/plain": [
       "array([ 65,  60, 100,  85])"
      ]
     },
     "execution_count": 85,
     "metadata": {},
     "output_type": "execute_result"
    }
   ],
   "source": [
    "grades[passed]"
   ]
  },
  {
   "cell_type": "code",
   "execution_count": 87,
   "metadata": {},
   "outputs": [],
   "source": [
    "passed=(grades>=60)"
   ]
  },
  {
   "cell_type": "code",
   "execution_count": 88,
   "metadata": {},
   "outputs": [
    {
     "data": {
      "text/plain": [
       "array([False, False, False,  True,  True,  True,  True, False])"
      ]
     },
     "execution_count": 88,
     "metadata": {},
     "output_type": "execute_result"
    }
   ],
   "source": [
    "passed"
   ]
  },
  {
   "cell_type": "code",
   "execution_count": 89,
   "metadata": {},
   "outputs": [
    {
     "data": {
      "text/plain": [
       "array([ 65,  60, 100,  85])"
      ]
     },
     "execution_count": 89,
     "metadata": {},
     "output_type": "execute_result"
    }
   ],
   "source": [
    "grades[passed]"
   ]
  },
  {
   "cell_type": "code",
   "execution_count": 90,
   "metadata": {},
   "outputs": [
    {
     "data": {
      "text/plain": [
       "array([ 65,  60, 100,  85])"
      ]
     },
     "execution_count": 90,
     "metadata": {},
     "output_type": "execute_result"
    }
   ],
   "source": [
    "grades[grades>=60]"
   ]
  },
  {
   "cell_type": "code",
   "execution_count": 91,
   "metadata": {},
   "outputs": [
    {
     "data": {
      "text/plain": [
       "array([False, False, False,  True,  True, False, False, False])"
      ]
     },
     "execution_count": 91,
     "metadata": {},
     "output_type": "execute_result"
    }
   ],
   "source": [
    "(grades>=60)& (grades<80)"
   ]
  },
  {
   "cell_type": "code",
   "execution_count": 92,
   "metadata": {},
   "outputs": [
    {
     "data": {
      "text/plain": [
       "array([65, 60])"
      ]
     },
     "execution_count": 92,
     "metadata": {},
     "output_type": "execute_result"
    }
   ],
   "source": [
    "grades[(grades>=60)& (grades<80)]"
   ]
  },
  {
   "cell_type": "markdown",
   "metadata": {},
   "source": [
    "## 畫圖應用"
   ]
  },
  {
   "cell_type": "code",
   "execution_count": 3,
   "metadata": {},
   "outputs": [],
   "source": [
    "π=np.pi"
   ]
  },
  {
   "cell_type": "code",
   "execution_count": 4,
   "metadata": {},
   "outputs": [],
   "source": [
    "x=np.linspace(-2*π,2*π,1000)"
   ]
  },
  {
   "cell_type": "code",
   "execution_count": 5,
   "metadata": {},
   "outputs": [
    {
     "data": {
      "text/plain": [
       "array([-6.28318531, -6.27060636, -6.25802741, -6.24544846, -6.23286951,\n",
       "       -6.22029056, -6.20771161, -6.19513266, -6.18255371, -6.16997476,\n",
       "       -6.15739581, -6.14481686, -6.13223791, -6.11965896, -6.10708001,\n",
       "       -6.09450106, -6.08192211, -6.06934316, -6.05676422, -6.04418527,\n",
       "       -6.03160632, -6.01902737, -6.00644842, -5.99386947, -5.98129052,\n",
       "       -5.96871157, -5.95613262, -5.94355367, -5.93097472, -5.91839577,\n",
       "       -5.90581682, -5.89323787, -5.88065892, -5.86807997, -5.85550102,\n",
       "       -5.84292207, -5.83034312, -5.81776417, -5.80518522, -5.79260627,\n",
       "       -5.78002732, -5.76744838, -5.75486943, -5.74229048, -5.72971153,\n",
       "       -5.71713258, -5.70455363, -5.69197468, -5.67939573, -5.66681678,\n",
       "       -5.65423783, -5.64165888, -5.62907993, -5.61650098, -5.60392203,\n",
       "       -5.59134308, -5.57876413, -5.56618518, -5.55360623, -5.54102728,\n",
       "       -5.52844833, -5.51586938, -5.50329043, -5.49071148, -5.47813254,\n",
       "       -5.46555359, -5.45297464, -5.44039569, -5.42781674, -5.41523779,\n",
       "       -5.40265884, -5.39007989, -5.37750094, -5.36492199, -5.35234304,\n",
       "       -5.33976409, -5.32718514, -5.31460619, -5.30202724, -5.28944829,\n",
       "       -5.27686934, -5.26429039, -5.25171144, -5.23913249, -5.22655354,\n",
       "       -5.21397459, -5.20139564, -5.1888167 , -5.17623775, -5.1636588 ,\n",
       "       -5.15107985, -5.1385009 , -5.12592195, -5.113343  , -5.10076405,\n",
       "       -5.0881851 , -5.07560615, -5.0630272 , -5.05044825, -5.0378693 ,\n",
       "       -5.02529035, -5.0127114 , -5.00013245, -4.9875535 , -4.97497455,\n",
       "       -4.9623956 , -4.94981665, -4.9372377 , -4.92465875, -4.9120798 ,\n",
       "       -4.89950086, -4.88692191, -4.87434296, -4.86176401, -4.84918506,\n",
       "       -4.83660611, -4.82402716, -4.81144821, -4.79886926, -4.78629031,\n",
       "       -4.77371136, -4.76113241, -4.74855346, -4.73597451, -4.72339556,\n",
       "       -4.71081661, -4.69823766, -4.68565871, -4.67307976, -4.66050081,\n",
       "       -4.64792186, -4.63534291, -4.62276396, -4.61018502, -4.59760607,\n",
       "       -4.58502712, -4.57244817, -4.55986922, -4.54729027, -4.53471132,\n",
       "       -4.52213237, -4.50955342, -4.49697447, -4.48439552, -4.47181657,\n",
       "       -4.45923762, -4.44665867, -4.43407972, -4.42150077, -4.40892182,\n",
       "       -4.39634287, -4.38376392, -4.37118497, -4.35860602, -4.34602707,\n",
       "       -4.33344812, -4.32086918, -4.30829023, -4.29571128, -4.28313233,\n",
       "       -4.27055338, -4.25797443, -4.24539548, -4.23281653, -4.22023758,\n",
       "       -4.20765863, -4.19507968, -4.18250073, -4.16992178, -4.15734283,\n",
       "       -4.14476388, -4.13218493, -4.11960598, -4.10702703, -4.09444808,\n",
       "       -4.08186913, -4.06929018, -4.05671123, -4.04413228, -4.03155334,\n",
       "       -4.01897439, -4.00639544, -3.99381649, -3.98123754, -3.96865859,\n",
       "       -3.95607964, -3.94350069, -3.93092174, -3.91834279, -3.90576384,\n",
       "       -3.89318489, -3.88060594, -3.86802699, -3.85544804, -3.84286909,\n",
       "       -3.83029014, -3.81771119, -3.80513224, -3.79255329, -3.77997434,\n",
       "       -3.76739539, -3.75481644, -3.7422375 , -3.72965855, -3.7170796 ,\n",
       "       -3.70450065, -3.6919217 , -3.67934275, -3.6667638 , -3.65418485,\n",
       "       -3.6416059 , -3.62902695, -3.616448  , -3.60386905, -3.5912901 ,\n",
       "       -3.57871115, -3.5661322 , -3.55355325, -3.5409743 , -3.52839535,\n",
       "       -3.5158164 , -3.50323745, -3.4906585 , -3.47807955, -3.4655006 ,\n",
       "       -3.45292166, -3.44034271, -3.42776376, -3.41518481, -3.40260586,\n",
       "       -3.39002691, -3.37744796, -3.36486901, -3.35229006, -3.33971111,\n",
       "       -3.32713216, -3.31455321, -3.30197426, -3.28939531, -3.27681636,\n",
       "       -3.26423741, -3.25165846, -3.23907951, -3.22650056, -3.21392161,\n",
       "       -3.20134266, -3.18876371, -3.17618476, -3.16360582, -3.15102687,\n",
       "       -3.13844792, -3.12586897, -3.11329002, -3.10071107, -3.08813212,\n",
       "       -3.07555317, -3.06297422, -3.05039527, -3.03781632, -3.02523737,\n",
       "       -3.01265842, -3.00007947, -2.98750052, -2.97492157, -2.96234262,\n",
       "       -2.94976367, -2.93718472, -2.92460577, -2.91202682, -2.89944787,\n",
       "       -2.88686892, -2.87428998, -2.86171103, -2.84913208, -2.83655313,\n",
       "       -2.82397418, -2.81139523, -2.79881628, -2.78623733, -2.77365838,\n",
       "       -2.76107943, -2.74850048, -2.73592153, -2.72334258, -2.71076363,\n",
       "       -2.69818468, -2.68560573, -2.67302678, -2.66044783, -2.64786888,\n",
       "       -2.63528993, -2.62271098, -2.61013203, -2.59755308, -2.58497414,\n",
       "       -2.57239519, -2.55981624, -2.54723729, -2.53465834, -2.52207939,\n",
       "       -2.50950044, -2.49692149, -2.48434254, -2.47176359, -2.45918464,\n",
       "       -2.44660569, -2.43402674, -2.42144779, -2.40886884, -2.39628989,\n",
       "       -2.38371094, -2.37113199, -2.35855304, -2.34597409, -2.33339514,\n",
       "       -2.32081619, -2.30823724, -2.2956583 , -2.28307935, -2.2705004 ,\n",
       "       -2.25792145, -2.2453425 , -2.23276355, -2.2201846 , -2.20760565,\n",
       "       -2.1950267 , -2.18244775, -2.1698688 , -2.15728985, -2.1447109 ,\n",
       "       -2.13213195, -2.119553  , -2.10697405, -2.0943951 , -2.08181615,\n",
       "       -2.0692372 , -2.05665825, -2.0440793 , -2.03150035, -2.01892141,\n",
       "       -2.00634246, -1.99376351, -1.98118456, -1.96860561, -1.95602666,\n",
       "       -1.94344771, -1.93086876, -1.91828981, -1.90571086, -1.89313191,\n",
       "       -1.88055296, -1.86797401, -1.85539506, -1.84281611, -1.83023716,\n",
       "       -1.81765821, -1.80507926, -1.79250031, -1.77992136, -1.76734241,\n",
       "       -1.75476346, -1.74218451, -1.72960557, -1.71702662, -1.70444767,\n",
       "       -1.69186872, -1.67928977, -1.66671082, -1.65413187, -1.64155292,\n",
       "       -1.62897397, -1.61639502, -1.60381607, -1.59123712, -1.57865817,\n",
       "       -1.56607922, -1.55350027, -1.54092132, -1.52834237, -1.51576342,\n",
       "       -1.50318447, -1.49060552, -1.47802657, -1.46544762, -1.45286867,\n",
       "       -1.44028973, -1.42771078, -1.41513183, -1.40255288, -1.38997393,\n",
       "       -1.37739498, -1.36481603, -1.35223708, -1.33965813, -1.32707918,\n",
       "       -1.31450023, -1.30192128, -1.28934233, -1.27676338, -1.26418443,\n",
       "       -1.25160548, -1.23902653, -1.22644758, -1.21386863, -1.20128968,\n",
       "       -1.18871073, -1.17613178, -1.16355283, -1.15097389, -1.13839494,\n",
       "       -1.12581599, -1.11323704, -1.10065809, -1.08807914, -1.07550019,\n",
       "       -1.06292124, -1.05034229, -1.03776334, -1.02518439, -1.01260544,\n",
       "       -1.00002649, -0.98744754, -0.97486859, -0.96228964, -0.94971069,\n",
       "       -0.93713174, -0.92455279, -0.91197384, -0.89939489, -0.88681594,\n",
       "       -0.87423699, -0.86165805, -0.8490791 , -0.83650015, -0.8239212 ,\n",
       "       -0.81134225, -0.7987633 , -0.78618435, -0.7736054 , -0.76102645,\n",
       "       -0.7484475 , -0.73586855, -0.7232896 , -0.71071065, -0.6981317 ,\n",
       "       -0.68555275, -0.6729738 , -0.66039485, -0.6478159 , -0.63523695,\n",
       "       -0.622658  , -0.61007905, -0.5975001 , -0.58492115, -0.57234221,\n",
       "       -0.55976326, -0.54718431, -0.53460536, -0.52202641, -0.50944746,\n",
       "       -0.49686851, -0.48428956, -0.47171061, -0.45913166, -0.44655271,\n",
       "       -0.43397376, -0.42139481, -0.40881586, -0.39623691, -0.38365796,\n",
       "       -0.37107901, -0.35850006, -0.34592111, -0.33334216, -0.32076321,\n",
       "       -0.30818426, -0.29560531, -0.28302637, -0.27044742, -0.25786847,\n",
       "       -0.24528952, -0.23271057, -0.22013162, -0.20755267, -0.19497372,\n",
       "       -0.18239477, -0.16981582, -0.15723687, -0.14465792, -0.13207897,\n",
       "       -0.11950002, -0.10692107, -0.09434212, -0.08176317, -0.06918422,\n",
       "       -0.05660527, -0.04402632, -0.03144737, -0.01886842, -0.00628947,\n",
       "        0.00628947,  0.01886842,  0.03144737,  0.04402632,  0.05660527,\n",
       "        0.06918422,  0.08176317,  0.09434212,  0.10692107,  0.11950002,\n",
       "        0.13207897,  0.14465792,  0.15723687,  0.16981582,  0.18239477,\n",
       "        0.19497372,  0.20755267,  0.22013162,  0.23271057,  0.24528952,\n",
       "        0.25786847,  0.27044742,  0.28302637,  0.29560531,  0.30818426,\n",
       "        0.32076321,  0.33334216,  0.34592111,  0.35850006,  0.37107901,\n",
       "        0.38365796,  0.39623691,  0.40881586,  0.42139481,  0.43397376,\n",
       "        0.44655271,  0.45913166,  0.47171061,  0.48428956,  0.49686851,\n",
       "        0.50944746,  0.52202641,  0.53460536,  0.54718431,  0.55976326,\n",
       "        0.57234221,  0.58492115,  0.5975001 ,  0.61007905,  0.622658  ,\n",
       "        0.63523695,  0.6478159 ,  0.66039485,  0.6729738 ,  0.68555275,\n",
       "        0.6981317 ,  0.71071065,  0.7232896 ,  0.73586855,  0.7484475 ,\n",
       "        0.76102645,  0.7736054 ,  0.78618435,  0.7987633 ,  0.81134225,\n",
       "        0.8239212 ,  0.83650015,  0.8490791 ,  0.86165805,  0.87423699,\n",
       "        0.88681594,  0.89939489,  0.91197384,  0.92455279,  0.93713174,\n",
       "        0.94971069,  0.96228964,  0.97486859,  0.98744754,  1.00002649,\n",
       "        1.01260544,  1.02518439,  1.03776334,  1.05034229,  1.06292124,\n",
       "        1.07550019,  1.08807914,  1.10065809,  1.11323704,  1.12581599,\n",
       "        1.13839494,  1.15097389,  1.16355283,  1.17613178,  1.18871073,\n",
       "        1.20128968,  1.21386863,  1.22644758,  1.23902653,  1.25160548,\n",
       "        1.26418443,  1.27676338,  1.28934233,  1.30192128,  1.31450023,\n",
       "        1.32707918,  1.33965813,  1.35223708,  1.36481603,  1.37739498,\n",
       "        1.38997393,  1.40255288,  1.41513183,  1.42771078,  1.44028973,\n",
       "        1.45286867,  1.46544762,  1.47802657,  1.49060552,  1.50318447,\n",
       "        1.51576342,  1.52834237,  1.54092132,  1.55350027,  1.56607922,\n",
       "        1.57865817,  1.59123712,  1.60381607,  1.61639502,  1.62897397,\n",
       "        1.64155292,  1.65413187,  1.66671082,  1.67928977,  1.69186872,\n",
       "        1.70444767,  1.71702662,  1.72960557,  1.74218451,  1.75476346,\n",
       "        1.76734241,  1.77992136,  1.79250031,  1.80507926,  1.81765821,\n",
       "        1.83023716,  1.84281611,  1.85539506,  1.86797401,  1.88055296,\n",
       "        1.89313191,  1.90571086,  1.91828981,  1.93086876,  1.94344771,\n",
       "        1.95602666,  1.96860561,  1.98118456,  1.99376351,  2.00634246,\n",
       "        2.01892141,  2.03150035,  2.0440793 ,  2.05665825,  2.0692372 ,\n",
       "        2.08181615,  2.0943951 ,  2.10697405,  2.119553  ,  2.13213195,\n",
       "        2.1447109 ,  2.15728985,  2.1698688 ,  2.18244775,  2.1950267 ,\n",
       "        2.20760565,  2.2201846 ,  2.23276355,  2.2453425 ,  2.25792145,\n",
       "        2.2705004 ,  2.28307935,  2.2956583 ,  2.30823724,  2.32081619,\n",
       "        2.33339514,  2.34597409,  2.35855304,  2.37113199,  2.38371094,\n",
       "        2.39628989,  2.40886884,  2.42144779,  2.43402674,  2.44660569,\n",
       "        2.45918464,  2.47176359,  2.48434254,  2.49692149,  2.50950044,\n",
       "        2.52207939,  2.53465834,  2.54723729,  2.55981624,  2.57239519,\n",
       "        2.58497414,  2.59755308,  2.61013203,  2.62271098,  2.63528993,\n",
       "        2.64786888,  2.66044783,  2.67302678,  2.68560573,  2.69818468,\n",
       "        2.71076363,  2.72334258,  2.73592153,  2.74850048,  2.76107943,\n",
       "        2.77365838,  2.78623733,  2.79881628,  2.81139523,  2.82397418,\n",
       "        2.83655313,  2.84913208,  2.86171103,  2.87428998,  2.88686892,\n",
       "        2.89944787,  2.91202682,  2.92460577,  2.93718472,  2.94976367,\n",
       "        2.96234262,  2.97492157,  2.98750052,  3.00007947,  3.01265842,\n",
       "        3.02523737,  3.03781632,  3.05039527,  3.06297422,  3.07555317,\n",
       "        3.08813212,  3.10071107,  3.11329002,  3.12586897,  3.13844792,\n",
       "        3.15102687,  3.16360582,  3.17618476,  3.18876371,  3.20134266,\n",
       "        3.21392161,  3.22650056,  3.23907951,  3.25165846,  3.26423741,\n",
       "        3.27681636,  3.28939531,  3.30197426,  3.31455321,  3.32713216,\n",
       "        3.33971111,  3.35229006,  3.36486901,  3.37744796,  3.39002691,\n",
       "        3.40260586,  3.41518481,  3.42776376,  3.44034271,  3.45292166,\n",
       "        3.4655006 ,  3.47807955,  3.4906585 ,  3.50323745,  3.5158164 ,\n",
       "        3.52839535,  3.5409743 ,  3.55355325,  3.5661322 ,  3.57871115,\n",
       "        3.5912901 ,  3.60386905,  3.616448  ,  3.62902695,  3.6416059 ,\n",
       "        3.65418485,  3.6667638 ,  3.67934275,  3.6919217 ,  3.70450065,\n",
       "        3.7170796 ,  3.72965855,  3.7422375 ,  3.75481644,  3.76739539,\n",
       "        3.77997434,  3.79255329,  3.80513224,  3.81771119,  3.83029014,\n",
       "        3.84286909,  3.85544804,  3.86802699,  3.88060594,  3.89318489,\n",
       "        3.90576384,  3.91834279,  3.93092174,  3.94350069,  3.95607964,\n",
       "        3.96865859,  3.98123754,  3.99381649,  4.00639544,  4.01897439,\n",
       "        4.03155334,  4.04413228,  4.05671123,  4.06929018,  4.08186913,\n",
       "        4.09444808,  4.10702703,  4.11960598,  4.13218493,  4.14476388,\n",
       "        4.15734283,  4.16992178,  4.18250073,  4.19507968,  4.20765863,\n",
       "        4.22023758,  4.23281653,  4.24539548,  4.25797443,  4.27055338,\n",
       "        4.28313233,  4.29571128,  4.30829023,  4.32086918,  4.33344812,\n",
       "        4.34602707,  4.35860602,  4.37118497,  4.38376392,  4.39634287,\n",
       "        4.40892182,  4.42150077,  4.43407972,  4.44665867,  4.45923762,\n",
       "        4.47181657,  4.48439552,  4.49697447,  4.50955342,  4.52213237,\n",
       "        4.53471132,  4.54729027,  4.55986922,  4.57244817,  4.58502712,\n",
       "        4.59760607,  4.61018502,  4.62276396,  4.63534291,  4.64792186,\n",
       "        4.66050081,  4.67307976,  4.68565871,  4.69823766,  4.71081661,\n",
       "        4.72339556,  4.73597451,  4.74855346,  4.76113241,  4.77371136,\n",
       "        4.78629031,  4.79886926,  4.81144821,  4.82402716,  4.83660611,\n",
       "        4.84918506,  4.86176401,  4.87434296,  4.88692191,  4.89950086,\n",
       "        4.9120798 ,  4.92465875,  4.9372377 ,  4.94981665,  4.9623956 ,\n",
       "        4.97497455,  4.9875535 ,  5.00013245,  5.0127114 ,  5.02529035,\n",
       "        5.0378693 ,  5.05044825,  5.0630272 ,  5.07560615,  5.0881851 ,\n",
       "        5.10076405,  5.113343  ,  5.12592195,  5.1385009 ,  5.15107985,\n",
       "        5.1636588 ,  5.17623775,  5.1888167 ,  5.20139564,  5.21397459,\n",
       "        5.22655354,  5.23913249,  5.25171144,  5.26429039,  5.27686934,\n",
       "        5.28944829,  5.30202724,  5.31460619,  5.32718514,  5.33976409,\n",
       "        5.35234304,  5.36492199,  5.37750094,  5.39007989,  5.40265884,\n",
       "        5.41523779,  5.42781674,  5.44039569,  5.45297464,  5.46555359,\n",
       "        5.47813254,  5.49071148,  5.50329043,  5.51586938,  5.52844833,\n",
       "        5.54102728,  5.55360623,  5.56618518,  5.57876413,  5.59134308,\n",
       "        5.60392203,  5.61650098,  5.62907993,  5.64165888,  5.65423783,\n",
       "        5.66681678,  5.67939573,  5.69197468,  5.70455363,  5.71713258,\n",
       "        5.72971153,  5.74229048,  5.75486943,  5.76744838,  5.78002732,\n",
       "        5.79260627,  5.80518522,  5.81776417,  5.83034312,  5.84292207,\n",
       "        5.85550102,  5.86807997,  5.88065892,  5.89323787,  5.90581682,\n",
       "        5.91839577,  5.93097472,  5.94355367,  5.95613262,  5.96871157,\n",
       "        5.98129052,  5.99386947,  6.00644842,  6.01902737,  6.03160632,\n",
       "        6.04418527,  6.05676422,  6.06934316,  6.08192211,  6.09450106,\n",
       "        6.10708001,  6.11965896,  6.13223791,  6.14481686,  6.15739581,\n",
       "        6.16997476,  6.18255371,  6.19513266,  6.20771161,  6.22029056,\n",
       "        6.23286951,  6.24544846,  6.25802741,  6.27060636,  6.28318531])"
      ]
     },
     "execution_count": 5,
     "metadata": {},
     "output_type": "execute_result"
    }
   ],
   "source": [
    "x"
   ]
  },
  {
   "cell_type": "code",
   "execution_count": 6,
   "metadata": {},
   "outputs": [],
   "source": [
    "y=np.sin(x)"
   ]
  },
  {
   "cell_type": "code",
   "execution_count": 7,
   "metadata": {},
   "outputs": [
    {
     "data": {
      "text/plain": [
       "True"
      ]
     },
     "execution_count": 7,
     "metadata": {},
     "output_type": "execute_result"
    }
   ],
   "source": [
    "len(x)==len(y)"
   ]
  },
  {
   "cell_type": "code",
   "execution_count": 8,
   "metadata": {},
   "outputs": [
    {
     "data": {
      "text/plain": [
       "[<matplotlib.lines.Line2D at 0x2db8da2d4a8>]"
      ]
     },
     "execution_count": 8,
     "metadata": {},
     "output_type": "execute_result"
    },
    {
     "data": {
      "image/png": "[encoded data removed]",
      "text/plain": [
       "<Figure size 432x288 with 1 Axes>"
      ]
     },
     "metadata": {
      "needs_background": "light"
     },
     "output_type": "display_data"
    }
   ],
   "source": [
    "plt.plot(x,y)"
   ]
  },
  {
   "cell_type": "code",
   "execution_count": 9,
   "metadata": {},
   "outputs": [
    {
     "data": {
      "text/plain": [
       "array([2.44929360e-16, 1.25786178e-02, 2.51552454e-02, 3.77278927e-02,\n",
       "       5.02945704e-02, 6.28532900e-02, 7.54020646e-02, 8.79389084e-02,\n",
       "       1.00461838e-01, 1.12968871e-01, 1.25458030e-01, 1.37927338e-01,\n",
       "       1.50374822e-01, 1.62798512e-01, 1.75196443e-01, 1.87566653e-01,\n",
       "       1.99907185e-01, 2.12216086e-01, 2.24491409e-01, 2.36731210e-01,\n",
       "       2.48933554e-01, 2.61096510e-01, 2.73218154e-01, 2.85296566e-01,\n",
       "       2.97329837e-01, 3.09316061e-01, 3.21253344e-01, 3.33139795e-01,\n",
       "       3.44973534e-01, 3.56752688e-01, 3.68475395e-01, 3.80139798e-01,\n",
       "       3.91744053e-01, 4.03286322e-01, 4.14764781e-01, 4.26177612e-01,\n",
       "       4.37523010e-01, 4.48799180e-01, 4.60004337e-01, 4.71136709e-01,\n",
       "       4.82194534e-01, 4.93176062e-01, 5.04079556e-01, 5.14903290e-01,\n",
       "       5.25645553e-01, 5.36304643e-01, 5.46878875e-01, 5.57366576e-01,\n",
       "       5.67766086e-01, 5.78075760e-01, 5.88293965e-01, 5.98419086e-01,\n",
       "       6.08449521e-01, 6.18383682e-01, 6.28219997e-01, 6.37956911e-01,\n",
       "       6.47592882e-01, 6.57126385e-01, 6.66555913e-01, 6.75879973e-01,\n",
       "       6.85097090e-01, 6.94205806e-01, 7.03204679e-01, 7.12092285e-01,\n",
       "       7.20867219e-01, 7.29528091e-01, 7.38073532e-01, 7.46502188e-01,\n",
       "       7.54812728e-01, 7.63003834e-01, 7.71074213e-01, 7.79022586e-01,\n",
       "       7.86847695e-01, 7.94548304e-01, 8.02123193e-01, 8.09571163e-01,\n",
       "       8.16891037e-01, 8.24081656e-01, 8.31141882e-01, 8.38070599e-01,\n",
       "       8.44866709e-01, 8.51529138e-01, 8.58056831e-01, 8.64448755e-01,\n",
       "       8.70703900e-01, 8.76821275e-01, 8.82799913e-01, 8.88638867e-01,\n",
       "       8.94337213e-01, 8.99894051e-01, 9.05308500e-01, 9.10579704e-01,\n",
       "       9.15706829e-01, 9.20689063e-01, 9.25525619e-01, 9.30215731e-01,\n",
       "       9.34758657e-01, 9.39153678e-01, 9.43400098e-01, 9.47497247e-01,\n",
       "       9.51444475e-01, 9.55241158e-01, 9.58886695e-01, 9.62380509e-01,\n",
       "       9.65722048e-01, 9.68910783e-01, 9.71946209e-01, 9.74827847e-01,\n",
       "       9.77555239e-01, 9.80127955e-01, 9.82545587e-01, 9.84807753e-01,\n",
       "       9.86914095e-01, 9.88864280e-01, 9.90657999e-01, 9.92294968e-01,\n",
       "       9.93774928e-01, 9.95097645e-01, 9.96262911e-01, 9.97270539e-01,\n",
       "       9.98120372e-01, 9.98812274e-01, 9.99346136e-01, 9.99721874e-01,\n",
       "       9.99939428e-01, 9.99998764e-01, 9.99899872e-01, 9.99642768e-01,\n",
       "       9.99227492e-01, 9.98654111e-01, 9.97922715e-01, 9.97033420e-01,\n",
       "       9.95986366e-01, 9.94781719e-01, 9.93419671e-01, 9.91900435e-01,\n",
       "       9.90224253e-01, 9.88391391e-01, 9.86402137e-01, 9.84256806e-01,\n",
       "       9.81955739e-01, 9.79499299e-01, 9.76887875e-01, 9.74121880e-01,\n",
       "       9.71201752e-01, 9.68127953e-01, 9.64900969e-01, 9.61521310e-01,\n",
       "       9.57989512e-01, 9.54306134e-01, 9.50471757e-01, 9.46486990e-01,\n",
       "       9.42352462e-01, 9.38068827e-01, 9.33636764e-01, 9.29056973e-01,\n",
       "       9.24330180e-01, 9.19457131e-01, 9.14438599e-01, 9.09275378e-01,\n",
       "       9.03968283e-01, 8.98518156e-01, 8.92925858e-01, 8.87192274e-01,\n",
       "       8.81318312e-01, 8.75304901e-01, 8.69152992e-01, 8.62863558e-01,\n",
       "       8.56437596e-01, 8.49876121e-01, 8.43180172e-01, 8.36350809e-01,\n",
       "       8.29389112e-01, 8.22296182e-01, 8.15073141e-01, 8.07721134e-01,\n",
       "       8.00241323e-01, 7.92634891e-01, 7.84903042e-01, 7.77046999e-01,\n",
       "       7.69068007e-01, 7.60967326e-01, 7.52746238e-01, 7.44406046e-01,\n",
       "       7.35948067e-01, 7.27373642e-01, 7.18684125e-01, 7.09880892e-01,\n",
       "       7.00965337e-01, 6.91938869e-01, 6.82802917e-01, 6.73558927e-01,\n",
       "       6.64208361e-01, 6.54752698e-01, 6.45193436e-01, 6.35532086e-01,\n",
       "       6.25770177e-01, 6.15909254e-01, 6.05950876e-01, 5.95896621e-01,\n",
       "       5.85748078e-01, 5.75506853e-01, 5.65174567e-01, 5.54752854e-01,\n",
       "       5.44243365e-01, 5.33647760e-01, 5.22967718e-01, 5.12204928e-01,\n",
       "       5.01361093e-01, 4.90437928e-01, 4.79437162e-01, 4.68360536e-01,\n",
       "       4.57209803e-01, 4.45986726e-01, 4.34693081e-01, 4.23330656e-01,\n",
       "       4.11901248e-01, 4.00406666e-01, 3.88848729e-01, 3.77229264e-01,\n",
       "       3.65550112e-01, 3.53813119e-01, 3.42020143e-01, 3.30173050e-01,\n",
       "       3.18273715e-01, 3.06324020e-01, 2.94325855e-01, 2.82281120e-01,\n",
       "       2.70191721e-01, 2.58059569e-01, 2.45886586e-01, 2.33674696e-01,\n",
       "       2.21425832e-01, 2.09141933e-01, 1.96824941e-01, 1.84476807e-01,\n",
       "       1.72099483e-01, 1.59694928e-01, 1.47265105e-01, 1.34811980e-01,\n",
       "       1.22337524e-01, 1.09843712e-01, 9.73325184e-02, 8.48059245e-02,\n",
       "       7.22659119e-02, 5.97144649e-02, 4.71535694e-02, 3.45852128e-02,\n",
       "       2.20113839e-02, 9.43407223e-03, 6.28943332e-03, 1.88673048e-02,\n",
       "       3.14421909e-02, 4.40121020e-02, 5.65750492e-02, 6.91290446e-02,\n",
       "       8.16721019e-02, 9.42022363e-02, 1.06717465e-01, 1.19215809e-01,\n",
       "       1.31695289e-01, 1.44153931e-01, 1.56589764e-01, 1.69000820e-01,\n",
       "       1.81385136e-01, 1.93740751e-01, 2.06065711e-01, 2.18358066e-01,\n",
       "       2.30615871e-01, 2.42837185e-01, 2.55020076e-01, 2.67162616e-01,\n",
       "       2.79262883e-01, 2.91318963e-01, 3.03328948e-01, 3.15290939e-01,\n",
       "       3.27203041e-01, 3.39063370e-01, 3.50870051e-01, 3.62621214e-01,\n",
       "       3.74315000e-01, 3.85949559e-01, 3.97523050e-01, 4.09033642e-01,\n",
       "       4.20479513e-01, 4.31858853e-01, 4.43169861e-01, 4.54410746e-01,\n",
       "       4.65579732e-01, 4.76675049e-01, 4.87694944e-01, 4.98637671e-01,\n",
       "       5.09501500e-01, 5.20284712e-01, 5.30985600e-01, 5.41602472e-01,\n",
       "       5.52133646e-01, 5.62577458e-01, 5.72932255e-01, 5.83196397e-01,\n",
       "       5.93368262e-01, 6.03446239e-01, 6.13428734e-01, 6.23314168e-01,\n",
       "       6.33100976e-01, 6.42787610e-01, 6.52372537e-01, 6.61854240e-01,\n",
       "       6.71231219e-01, 6.80501991e-01, 6.89665089e-01, 6.98719062e-01,\n",
       "       7.07662479e-01, 7.16493923e-01, 7.25211999e-01, 7.33815325e-01,\n",
       "       7.42302542e-01, 7.50672305e-01, 7.58923291e-01, 7.67054195e-01,\n",
       "       7.75063729e-01, 7.82950626e-01, 7.90713639e-01, 7.98351539e-01,\n",
       "       8.05863117e-01, 8.13247185e-01, 8.20502575e-01, 8.27628139e-01,\n",
       "       8.34622748e-01, 8.41485297e-01, 8.48214700e-01, 8.54809891e-01,\n",
       "       8.61269828e-01, 8.67593488e-01, 8.73779870e-01, 8.79827996e-01,\n",
       "       8.85736908e-01, 8.91505673e-01, 8.97133376e-01, 9.02619128e-01,\n",
       "       9.07962060e-01, 9.13161327e-01, 9.18216107e-01, 9.23125599e-01,\n",
       "       9.27889027e-01, 9.32505637e-01, 9.36974699e-01, 9.41295506e-01,\n",
       "       9.45467373e-01, 9.49489640e-01, 9.53361672e-01, 9.57082856e-01,\n",
       "       9.60652602e-01, 9.64070347e-01, 9.67335548e-01, 9.70447691e-01,\n",
       "       9.73406281e-01, 9.76210851e-01, 9.78860957e-01, 9.81356181e-01,\n",
       "       9.83696126e-01, 9.85880423e-01, 9.87908727e-01, 9.89780716e-01,\n",
       "       9.91496094e-01, 9.93054589e-01, 9.94455956e-01, 9.95699972e-01,\n",
       "       9.96786440e-01, 9.97715189e-01, 9.98486072e-01, 9.99098966e-01,\n",
       "       9.99553775e-01, 9.99850427e-01, 9.99988874e-01, 9.99969096e-01,\n",
       "       9.99791094e-01, 9.99454898e-01, 9.98960560e-01, 9.98308158e-01,\n",
       "       9.97497797e-01, 9.96529603e-01, 9.95403731e-01, 9.94120357e-01,\n",
       "       9.92679687e-01, 9.91081947e-01, 9.89327390e-01, 9.87416293e-01,\n",
       "       9.85348960e-01, 9.83125718e-01, 9.80746917e-01, 9.78212935e-01,\n",
       "       9.75524172e-01, 9.72681055e-01, 9.69684032e-01, 9.66533578e-01,\n",
       "       9.63230191e-01, 9.59774394e-01, 9.56166735e-01, 9.52407783e-01,\n",
       "       9.48498134e-01, 9.44438405e-01, 9.40229241e-01, 9.35871306e-01,\n",
       "       9.31365289e-01, 9.26711905e-01, 9.21911890e-01, 9.16966002e-01,\n",
       "       9.11875024e-01, 9.06639763e-01, 9.01261046e-01, 8.95739724e-01,\n",
       "       8.90076671e-01, 8.84272783e-01, 8.78328979e-01, 8.72246198e-01,\n",
       "       8.66025404e-01, 8.59667580e-01, 8.53173733e-01, 8.46544890e-01,\n",
       "       8.39782100e-01, 8.32886434e-01, 8.25858981e-01, 8.18700854e-01,\n",
       "       8.11413186e-01, 8.03997130e-01, 7.96453860e-01, 7.88784567e-01,\n",
       "       7.80990468e-01, 7.73072793e-01, 7.65032797e-01, 7.56871752e-01,\n",
       "       7.48590948e-01, 7.40191697e-01, 7.31675326e-01, 7.23043184e-01,\n",
       "       7.14296636e-01, 7.05437067e-01, 6.96465878e-01, 6.87384489e-01,\n",
       "       6.78194336e-01, 6.68896874e-01, 6.59493574e-01, 6.49985923e-01,\n",
       "       6.40375427e-01, 6.30663605e-01, 6.20851995e-01, 6.10942149e-01,\n",
       "       6.00935634e-01, 5.90834035e-01, 5.80638949e-01, 5.70351991e-01,\n",
       "       5.59974786e-01, 5.49508978e-01, 5.38956222e-01, 5.28318189e-01,\n",
       "       5.17596560e-01, 5.06793034e-01, 4.95909319e-01, 4.84947137e-01,\n",
       "       4.73908223e-01, 4.62794323e-01, 4.51607196e-01, 4.40348613e-01,\n",
       "       4.29020354e-01, 4.17624212e-01, 4.06161991e-01, 3.94635503e-01,\n",
       "       3.83046573e-01, 3.71397034e-01, 3.59688730e-01, 3.47923513e-01,\n",
       "       3.36103245e-01, 3.24229795e-01, 3.12305044e-01, 3.00330878e-01,\n",
       "       2.88309190e-01, 2.76241884e-01, 2.64130869e-01, 2.51978061e-01,\n",
       "       2.39785383e-01, 2.27554765e-01, 2.15288141e-01, 2.02987452e-01,\n",
       "       1.90654645e-01, 1.78291671e-01, 1.65900487e-01, 1.53483052e-01,\n",
       "       1.41041332e-01, 1.28577295e-01, 1.16092914e-01, 1.03590164e-01,\n",
       "       9.10710227e-02, 7.85374716e-02, 6.59914936e-02, 5.34350740e-02,\n",
       "       4.08701994e-02, 2.82988581e-02, 1.57230391e-02, 3.14473221e-03])"
      ]
     },
     "execution_count": 9,
     "metadata": {},
     "output_type": "execute_result"
    }
   ],
   "source": [
    "y[y>0]"
   ]
  },
  {
   "cell_type": "code",
   "execution_count": 11,
   "metadata": {},
   "outputs": [
    {
     "data": {
      "text/plain": [
       "[<matplotlib.lines.Line2D at 0x2db8e1c6630>]"
      ]
     },
     "execution_count": 11,
     "metadata": {},
     "output_type": "execute_result"
    },
    {
     "data": {
      "image/png": "[encoded data removed]",
      "text/plain": [
       "<Figure size 432x288 with 1 Axes>"
      ]
     },
     "metadata": {
      "needs_background": "light"
     },
     "output_type": "display_data"
    }
   ],
   "source": [
    "plt.scatter(x[y>0],y[y>0],c='#FF897C')\n",
    "plt.plot(x,y)"
   ]
  },
  {
   "cell_type": "markdown",
   "metadata": {},
   "source": [
    "## 模擬數據集"
   ]
  },
  {
   "cell_type": "code",
   "execution_count": 113,
   "metadata": {},
   "outputs": [],
   "source": [
    "x=np.linspace(0,1,50)\n",
    "y=np.sin(x)"
   ]
  },
  {
   "cell_type": "code",
   "execution_count": 116,
   "metadata": {},
   "outputs": [
    {
     "data": {
      "text/plain": [
       "<matplotlib.collections.PathCollection at 0x1ed0c8719e8>"
      ]
     },
     "execution_count": 116,
     "metadata": {},
     "output_type": "execute_result"
    },
    {
     "data": {
      "image/png": "[encoded data removed]",
      "text/plain": [
       "<Figure size 432x288 with 1 Axes>"
      ]
     },
     "metadata": {
      "needs_background": "light"
     },
     "output_type": "display_data"
    }
   ],
   "source": [
    "plt.scatter(x,y,color='purple')"
   ]
  },
  {
   "cell_type": "code",
   "execution_count": 117,
   "metadata": {},
   "outputs": [],
   "source": [
    "noise=0.1*np.random.randn(50)"
   ]
  },
  {
   "cell_type": "code",
   "execution_count": 133,
   "metadata": {},
   "outputs": [
    {
     "data": {
      "text/plain": [
       "<matplotlib.collections.PathCollection at 0x1ed0cb39e10>"
      ]
     },
     "execution_count": 133,
     "metadata": {},
     "output_type": "execute_result"
    },
    {
     "data": {
      "image/png": "[encoded data removed]",
      "text/plain": [
       "<Figure size 432x288 with 1 Axes>"
      ]
     },
     "metadata": {
      "needs_background": "light"
     },
     "output_type": "display_data"
    }
   ],
   "source": [
    "plt.scatter(x,y+noise,color='brown')"
   ]
  },
  {
   "cell_type": "markdown",
   "metadata": {},
   "source": [
    "### 分類的模擬"
   ]
  },
  {
   "cell_type": "code",
   "execution_count": 13,
   "metadata": {},
   "outputs": [],
   "source": [
    "P=np.random.randn(50,2)"
   ]
  },
  {
   "cell_type": "code",
   "execution_count": 14,
   "metadata": {},
   "outputs": [
    {
     "data": {
      "text/plain": [
       "<matplotlib.collections.PathCollection at 0x2db8e28e198>"
      ]
     },
     "execution_count": 14,
     "metadata": {},
     "output_type": "execute_result"
    },
    {
     "data": {
      "image/png": "[encoded data removed]",
      "text/plain": [
       "<Figure size 432x288 with 1 Axes>"
      ]
     },
     "metadata": {
      "needs_background": "light"
     },
     "output_type": "display_data"
    }
   ],
   "source": [
    "plt.scatter(P[:,0],P[:,1],color='orange')"
   ]
  },
  {
   "cell_type": "code",
   "execution_count": 15,
   "metadata": {},
   "outputs": [],
   "source": [
    "cl=np.random.randint(1,5,50)"
   ]
  },
  {
   "cell_type": "code",
   "execution_count": 16,
   "metadata": {},
   "outputs": [
    {
     "data": {
      "text/plain": [
       "array([4, 2, 4, 3, 4, 3, 1, 1, 2, 1, 4, 3, 1, 2, 1, 1, 2, 1, 4, 1, 4, 1,\n",
       "       4, 2, 2, 2, 4, 1, 2, 3, 2, 1, 2, 2, 2, 4, 1, 1, 2, 3, 2, 1, 4, 3,\n",
       "       2, 4, 3, 2, 2, 1])"
      ]
     },
     "execution_count": 16,
     "metadata": {},
     "output_type": "execute_result"
    }
   ],
   "source": [
    "cl"
   ]
  },
  {
   "cell_type": "code",
   "execution_count": 18,
   "metadata": {},
   "outputs": [
    {
     "data": {
      "text/plain": [
       "<matplotlib.collections.PathCollection at 0x2db8e42b6a0>"
      ]
     },
     "execution_count": 18,
     "metadata": {},
     "output_type": "execute_result"
    },
    {
     "data": {
      "image/png": "[encoded data removed]",
      "text/plain": [
       "<Figure size 432x288 with 1 Axes>"
      ]
     },
     "metadata": {
      "needs_background": "light"
     },
     "output_type": "display_data"
    }
   ],
   "source": [
    "plt.scatter(P[:,0],P[:,1],c=cl,s=50,alpha=0.7,cmap='RdBu')"
   ]
  },
  {
   "cell_type": "markdown",
   "metadata": {},
   "source": [
    "## sympy"
   ]
  },
  {
   "cell_type": "code",
   "execution_count": 165,
   "metadata": {},
   "outputs": [
    {
     "data": {
      "text/plain": [
       "0.8333333333333333"
      ]
     },
     "execution_count": 165,
     "metadata": {},
     "output_type": "execute_result"
    }
   ],
   "source": [
    "1/2+1/3"
   ]
  },
  {
   "cell_type": "code",
   "execution_count": 3,
   "metadata": {},
   "outputs": [],
   "source": [
    "import sympy as sp"
   ]
  },
  {
   "cell_type": "code",
   "execution_count": 4,
   "metadata": {},
   "outputs": [
    {
     "data": {
      "text/latex": [
       "$\\displaystyle \\frac{5}{6}$"
      ],
      "text/plain": [
       "5/6"
      ]
     },
     "execution_count": 4,
     "metadata": {},
     "output_type": "execute_result"
    }
   ],
   "source": [
    "sp.Rational(1,2)+sp.Rational(1,3)"
   ]
  },
  {
   "cell_type": "code",
   "execution_count": 5,
   "metadata": {},
   "outputs": [
    {
     "data": {
      "image/png": "[encoded data removed]",
      "text/latex": [
       "$\\displaystyle \\frac{5}{6}$"
      ],
      "text/plain": [
       "5/6"
      ]
     },
     "execution_count": 5,
     "metadata": {},
     "output_type": "execute_result"
    }
   ],
   "source": [
    "sp.init_printing()\n",
    "sp.Rational(1,2)+sp.Rational(1,3)"
   ]
  },
  {
   "cell_type": "code",
   "execution_count": 6,
   "metadata": {},
   "outputs": [
    {
     "data": {
      "image/png": "[encoded data removed]",
      "text/latex": [
       "$\\displaystyle \\frac{1}{2}$"
      ],
      "text/plain": [
       "1/2"
      ]
     },
     "execution_count": 6,
     "metadata": {},
     "output_type": "execute_result"
    }
   ],
   "source": [
    "sp.sympify(1)/2"
   ]
  },
  {
   "cell_type": "code",
   "execution_count": 7,
   "metadata": {},
   "outputs": [
    {
     "data": {
      "image/png": "[encoded data removed]",
      "text/latex": [
       "$\\displaystyle \\frac{5}{6}$"
      ],
      "text/plain": [
       "5/6"
      ]
     },
     "execution_count": 7,
     "metadata": {},
     "output_type": "execute_result"
    }
   ],
   "source": [
    "sp.sympify(1)/2+sp.sympify(1)/3"
   ]
  },
  {
   "cell_type": "code",
   "execution_count": 8,
   "metadata": {},
   "outputs": [
    {
     "data": {
      "image/png": "[encoded data removed]",
      "text/latex": [
       "$\\displaystyle \\frac{5}{6}$"
      ],
      "text/plain": [
       "5/6"
      ]
     },
     "execution_count": 8,
     "metadata": {},
     "output_type": "execute_result"
    }
   ],
   "source": [
    "sp.S(1)/2+sp.S(1)/3"
   ]
  },
  {
   "cell_type": "code",
   "execution_count": 9,
   "metadata": {},
   "outputs": [],
   "source": [
    "from sympy import S"
   ]
  },
  {
   "cell_type": "code",
   "execution_count": 10,
   "metadata": {},
   "outputs": [
    {
     "data": {
      "image/png": "[encoded data removed]",
      "text/latex": [
       "$\\displaystyle \\frac{5}{6}$"
      ],
      "text/plain": [
       "5/6"
      ]
     },
     "execution_count": 10,
     "metadata": {},
     "output_type": "execute_result"
    }
   ],
   "source": [
    "S(1)/2+S(1)/3"
   ]
  },
  {
   "cell_type": "code",
   "execution_count": 11,
   "metadata": {},
   "outputs": [
    {
     "data": {
      "image/png": "[encoded data removed]",
      "text/latex": [
       "$\\displaystyle \\sqrt{3}$"
      ],
      "text/plain": [
       "√3"
      ]
     },
     "execution_count": 11,
     "metadata": {},
     "output_type": "execute_result"
    }
   ],
   "source": [
    "sp.sqrt(3)"
   ]
  },
  {
   "cell_type": "code",
   "execution_count": 12,
   "metadata": {},
   "outputs": [
    {
     "data": {
      "image/png": "[encoded data removed]",
      "text/latex": [
       "$\\displaystyle \\pi$"
      ],
      "text/plain": [
       "π"
      ]
     },
     "execution_count": 12,
     "metadata": {},
     "output_type": "execute_result"
    }
   ],
   "source": [
    "sp.pi"
   ]
  },
  {
   "cell_type": "markdown",
   "metadata": {},
   "source": [
    "### 指定變數"
   ]
  },
  {
   "cell_type": "code",
   "execution_count": 13,
   "metadata": {},
   "outputs": [],
   "source": [
    "x=sp.symbols('x')"
   ]
  },
  {
   "cell_type": "code",
   "execution_count": 14,
   "metadata": {},
   "outputs": [
    {
     "data": {
      "image/png": "[encoded data removed]",
      "text/latex": [
       "$\\displaystyle x$"
      ],
      "text/plain": [
       "x"
      ]
     },
     "execution_count": 14,
     "metadata": {},
     "output_type": "execute_result"
    }
   ],
   "source": [
    "x"
   ]
  },
  {
   "cell_type": "code",
   "execution_count": 15,
   "metadata": {},
   "outputs": [
    {
     "data": {
      "image/png": "[encoded data removed]",
      "text/latex": [
       "$\\displaystyle x^{3}$"
      ],
      "text/plain": [
       " 3\n",
       "x "
      ]
     },
     "execution_count": 15,
     "metadata": {},
     "output_type": "execute_result"
    }
   ],
   "source": [
    "x**3"
   ]
  },
  {
   "cell_type": "code",
   "execution_count": 16,
   "metadata": {},
   "outputs": [],
   "source": [
    "x=sp.symbols(r'\\xi')"
   ]
  },
  {
   "cell_type": "code",
   "execution_count": 17,
   "metadata": {},
   "outputs": [
    {
     "data": {
      "image/png": "[encoded data removed]",
      "text/latex": [
       "$\\displaystyle \\xi$"
      ],
      "text/plain": [
       "\\xi"
      ]
     },
     "execution_count": 17,
     "metadata": {},
     "output_type": "execute_result"
    }
   ],
   "source": [
    "x"
   ]
  },
  {
   "cell_type": "code",
   "execution_count": 18,
   "metadata": {},
   "outputs": [],
   "source": [
    "from sympy.abc import x"
   ]
  },
  {
   "cell_type": "code",
   "execution_count": 19,
   "metadata": {},
   "outputs": [],
   "source": [
    "f=x**2-3*x+5"
   ]
  },
  {
   "cell_type": "code",
   "execution_count": 20,
   "metadata": {},
   "outputs": [
    {
     "data": {
      "image/png": "[encoded data removed]",
      "text/latex": [
       "$\\displaystyle x^{2} - 3 x + 5$"
      ],
      "text/plain": [
       " 2          \n",
       "x  - 3⋅x + 5"
      ]
     },
     "execution_count": 20,
     "metadata": {},
     "output_type": "execute_result"
    }
   ],
   "source": [
    "f"
   ]
  },
  {
   "cell_type": "code",
   "execution_count": 21,
   "metadata": {},
   "outputs": [
    {
     "data": {
      "image/png": "[encoded data removed]",
      "text/latex": [
       "$\\displaystyle 2 x - 3$"
      ],
      "text/plain": [
       "2⋅x - 3"
      ]
     },
     "execution_count": 21,
     "metadata": {},
     "output_type": "execute_result"
    }
   ],
   "source": [
    "sp.diff(f)"
   ]
  },
  {
   "cell_type": "code",
   "execution_count": 22,
   "metadata": {},
   "outputs": [
    {
     "data": {
      "image/png": "[encoded data removed]",
      "text/latex": [
       "$\\displaystyle \\frac{x^{3}}{3} - \\frac{3 x^{2}}{2} + 5 x$"
      ],
      "text/plain": [
       " 3      2      \n",
       "x    3⋅x       \n",
       "── - ──── + 5⋅x\n",
       "3     2        "
      ]
     },
     "execution_count": 22,
     "metadata": {},
     "output_type": "execute_result"
    }
   ],
   "source": [
    "sp.integrate(f)"
   ]
  },
  {
   "cell_type": "code",
   "execution_count": 23,
   "metadata": {},
   "outputs": [
    {
     "data": {
      "image/png": "[encoded data removed]",
      "text/latex": [
       "$\\displaystyle 3$"
      ],
      "text/plain": [
       "3"
      ]
     },
     "execution_count": 23,
     "metadata": {},
     "output_type": "execute_result"
    }
   ],
   "source": [
    "f.subs(x,2)"
   ]
  },
  {
   "cell_type": "code",
   "execution_count": 24,
   "metadata": {},
   "outputs": [],
   "source": [
    "from sympy.abc import y"
   ]
  },
  {
   "cell_type": "code",
   "execution_count": 25,
   "metadata": {},
   "outputs": [],
   "source": [
    "g=3*x*y+2*x-5*y**2"
   ]
  },
  {
   "cell_type": "code",
   "execution_count": 26,
   "metadata": {},
   "outputs": [
    {
     "data": {
      "image/png": "[encoded data removed]",
      "text/latex": [
       "$\\displaystyle 3 x y + 2 x - 5 y^{2}$"
      ],
      "text/plain": [
       "                 2\n",
       "3⋅x⋅y + 2⋅x - 5⋅y "
      ]
     },
     "execution_count": 26,
     "metadata": {},
     "output_type": "execute_result"
    }
   ],
   "source": [
    "g"
   ]
  },
  {
   "cell_type": "code",
   "execution_count": 27,
   "metadata": {},
   "outputs": [
    {
     "data": {
      "image/png": "[encoded data removed]",
      "text/latex": [
       "$\\displaystyle 3 y + 2$"
      ],
      "text/plain": [
       "3⋅y + 2"
      ]
     },
     "execution_count": 27,
     "metadata": {},
     "output_type": "execute_result"
    }
   ],
   "source": [
    "sp.diff(g,x)"
   ]
  },
  {
   "cell_type": "code",
   "execution_count": 28,
   "metadata": {},
   "outputs": [
    {
     "data": {
      "image/png": "[encoded data removed]",
      "text/latex": [
       "$\\displaystyle x^{2} \\left(\\frac{3 y}{2} + 1\\right) - 5 x y^{2}$"
      ],
      "text/plain": [
       " 2 ⎛3⋅y    ⎞        2\n",
       "x ⋅⎜─── + 1⎟ - 5⋅x⋅y \n",
       "   ⎝ 2     ⎠         "
      ]
     },
     "execution_count": 28,
     "metadata": {},
     "output_type": "execute_result"
    }
   ],
   "source": [
    "sp.integrate(g,x)"
   ]
  },
  {
   "cell_type": "markdown",
   "metadata": {},
   "source": [
    "### 微分"
   ]
  },
  {
   "cell_type": "code",
   "execution_count": 29,
   "metadata": {},
   "outputs": [
    {
     "data": {
      "image/png": "[encoded data removed]",
      "text/latex": [
       "$\\displaystyle \\frac{1}{x}$"
      ],
      "text/plain": [
       "1\n",
       "─\n",
       "x"
      ]
     },
     "execution_count": 29,
     "metadata": {},
     "output_type": "execute_result"
    }
   ],
   "source": [
    "sp.diff(sp.log(x),x)"
   ]
  },
  {
   "cell_type": "code",
   "execution_count": 30,
   "metadata": {},
   "outputs": [
    {
     "data": {
      "image/png": "[encoded data removed]",
      "text/latex": [
       "$\\displaystyle \\cos{\\left(x \\right)}$"
      ],
      "text/plain": [
       "cos(x)"
      ]
     },
     "execution_count": 30,
     "metadata": {},
     "output_type": "execute_result"
    }
   ],
   "source": [
    "sp.diff(sp.sin(x))"
   ]
  },
  {
   "cell_type": "code",
   "execution_count": 31,
   "metadata": {},
   "outputs": [
    {
     "data": {
      "image/png": "[encoded data removed]",
      "text/latex": [
       "$\\displaystyle - \\sin{\\left(x \\right)}$"
      ],
      "text/plain": [
       "-sin(x)"
      ]
     },
     "execution_count": 31,
     "metadata": {},
     "output_type": "execute_result"
    }
   ],
   "source": [
    "sp.diff(sp.cos(x))"
   ]
  },
  {
   "cell_type": "markdown",
   "metadata": {},
   "source": [
    "### 積分"
   ]
  },
  {
   "cell_type": "code",
   "execution_count": 32,
   "metadata": {},
   "outputs": [
    {
     "data": {
      "image/png": "[encoded data removed]",
      "text/latex": [
       "$\\displaystyle x \\log{\\left(x \\right)} - x$"
      ],
      "text/plain": [
       "x⋅log(x) - x"
      ]
     },
     "execution_count": 32,
     "metadata": {},
     "output_type": "execute_result"
    }
   ],
   "source": [
    "sp.integrate(sp.log(x))"
   ]
  },
  {
   "cell_type": "code",
   "execution_count": 33,
   "metadata": {},
   "outputs": [
    {
     "data": {
      "image/png": "[encoded data removed]",
      "text/latex": [
       "$\\displaystyle -4 + 5 \\log{\\left(5 \\right)}$"
      ],
      "text/plain": [
       "-4 + 5⋅log(5)"
      ]
     },
     "execution_count": 33,
     "metadata": {},
     "output_type": "execute_result"
    }
   ],
   "source": [
    "sp.integrate(sp.log(x),(x,1,5))"
   ]
  },
  {
   "cell_type": "markdown",
   "metadata": {},
   "source": [
    "### 極限"
   ]
  },
  {
   "cell_type": "code",
   "execution_count": 34,
   "metadata": {},
   "outputs": [
    {
     "data": {
      "image/png": "[encoded data removed]",
      "text/latex": [
       "$\\displaystyle 1$"
      ],
      "text/plain": [
       "1"
      ]
     },
     "execution_count": 34,
     "metadata": {},
     "output_type": "execute_result"
    }
   ],
   "source": [
    "sp.limit(sp.sin(x)/x,x,0)"
   ]
  },
  {
   "cell_type": "markdown",
   "metadata": {},
   "source": [
    "### 矩陣"
   ]
  },
  {
   "cell_type": "code",
   "execution_count": 35,
   "metadata": {},
   "outputs": [],
   "source": [
    "A=sp.Matrix([[1,2,3],[4,5,7],[7,8,9]])"
   ]
  },
  {
   "cell_type": "code",
   "execution_count": 36,
   "metadata": {},
   "outputs": [
    {
     "data": {
      "text/latex": [
       "$\\displaystyle \\left[\\begin{matrix}1 & 2 & 3\\\\4 & 5 & 7\\\\7 & 8 & 9\\end{matrix}\\right]$"
      ],
      "text/plain": [
       "⎡1  2  3⎤\n",
       "⎢       ⎥\n",
       "⎢4  5  7⎥\n",
       "⎢       ⎥\n",
       "⎣7  8  9⎦"
      ]
     },
     "execution_count": 36,
     "metadata": {},
     "output_type": "execute_result"
    }
   ],
   "source": [
    "A"
   ]
  },
  {
   "cell_type": "code",
   "execution_count": 37,
   "metadata": {},
   "outputs": [
    {
     "data": {
      "text/latex": [
       "$\\displaystyle \\left( \\left[\\begin{matrix}1 & 0 & 0\\\\0 & 1 & 0\\\\0 & 0 & 1\\end{matrix}\\right], \\  \\left( 0, \\  1, \\  2\\right)\\right)$"
      ],
      "text/plain": [
       "⎛⎡1  0  0⎤           ⎞\n",
       "⎜⎢       ⎥           ⎟\n",
       "⎜⎢0  1  0⎥, (0, 1, 2)⎟\n",
       "⎜⎢       ⎥           ⎟\n",
       "⎝⎣0  0  1⎦           ⎠"
      ]
     },
     "execution_count": 37,
     "metadata": {},
     "output_type": "execute_result"
    }
   ],
   "source": [
    "A.rref()"
   ]
  },
  {
   "cell_type": "code",
   "execution_count": 38,
   "metadata": {},
   "outputs": [
    {
     "data": {
      "image/png": "[encoded data removed]",
      "text/latex": [
       "$\\displaystyle 6$"
      ],
      "text/plain": [
       "6"
      ]
     },
     "execution_count": 38,
     "metadata": {},
     "output_type": "execute_result"
    }
   ],
   "source": [
    "A.det()"
   ]
  },
  {
   "cell_type": "code",
   "execution_count": 39,
   "metadata": {},
   "outputs": [
    {
     "data": {
      "text/latex": [
       "$\\displaystyle \\left[\\begin{matrix}- \\frac{11}{6} & 1 & - \\frac{1}{6}\\\\\\frac{13}{6} & -2 & \\frac{5}{6}\\\\- \\frac{1}{2} & 1 & - \\frac{1}{2}\\end{matrix}\\right]$"
      ],
      "text/plain": [
       "⎡-11/6  1   -1/6⎤\n",
       "⎢               ⎥\n",
       "⎢13/6   -2  5/6 ⎥\n",
       "⎢               ⎥\n",
       "⎣-1/2   1   -1/2⎦"
      ]
     },
     "execution_count": 39,
     "metadata": {},
     "output_type": "execute_result"
    }
   ],
   "source": [
    "A.inv()"
   ]
  },
  {
   "cell_type": "code",
   "execution_count": 40,
   "metadata": {},
   "outputs": [
    {
     "data": {
      "image/png": "[encoded data removed]",
      "text/latex": [
       "$\\displaystyle x^{2} - 3 x + 5$"
      ],
      "text/plain": [
       " 2          \n",
       "x  - 3⋅x + 5"
      ]
     },
     "execution_count": 40,
     "metadata": {},
     "output_type": "execute_result"
    }
   ],
   "source": [
    "f"
   ]
  },
  {
   "cell_type": "code",
   "execution_count": 41,
   "metadata": {},
   "outputs": [
    {
     "data": {
      "text/plain": [
       "<Figure size 640x480 with 1 Axes>"
      ]
     },
     "metadata": {},
     "output_type": "display_data"
    },
    {
     "data": {
      "text/plain": [
       "<sympy.plotting.plot.Plot at 0x17da5e2cef0>"
      ]
     },
     "execution_count": 41,
     "metadata": {},
     "output_type": "execute_result"
    }
   ],
   "source": [
    "sp.plot(f)"
   ]
  },
  {
   "cell_type": "code",
   "execution_count": 42,
   "metadata": {},
   "outputs": [],
   "source": [
    "g=-x**2"
   ]
  },
  {
   "cell_type": "code",
   "execution_count": 43,
   "metadata": {},
   "outputs": [
    {
     "data": {
      "image/png": "[encoded data removed]",
      "text/plain": [
       "<Figure size 432x288 with 1 Axes>"
      ]
     },
     "metadata": {
      "needs_background": "light"
     },
     "output_type": "display_data"
    },
    {
     "data": {
      "text/plain": [
       "<sympy.plotting.plot.Plot at 0x17da6974be0>"
      ]
     },
     "execution_count": 43,
     "metadata": {},
     "output_type": "execute_result"
    }
   ],
   "source": [
    "sp.plot(f,g)"
   ]
  },
  {
   "cell_type": "code",
   "execution_count": 44,
   "metadata": {},
   "outputs": [],
   "source": [
    "a=7"
   ]
  },
  {
   "cell_type": "code",
   "execution_count": 45,
   "metadata": {},
   "outputs": [
    {
     "data": {
      "text/plain": [
       "True"
      ]
     },
     "execution_count": 45,
     "metadata": {},
     "output_type": "execute_result"
    }
   ],
   "source": [
    "sp.isprime(a)"
   ]
  },
  {
   "cell_type": "code",
   "execution_count": 46,
   "metadata": {},
   "outputs": [
    {
     "data": {
      "text/plain": [
       "False"
      ]
     },
     "execution_count": 46,
     "metadata": {},
     "output_type": "execute_result"
    }
   ],
   "source": [
    "sp.isprime(9487)"
   ]
  },
  {
   "cell_type": "code",
   "execution_count": 47,
   "metadata": {},
   "outputs": [
    {
     "data": {
      "image/png": "[encoded data removed]",
      "text/latex": [
       "$\\displaystyle 2$"
      ],
      "text/plain": [
       "2"
      ]
     },
     "execution_count": 47,
     "metadata": {},
     "output_type": "execute_result"
    }
   ],
   "source": [
    "sp.prime(1)"
   ]
  },
  {
   "cell_type": "code",
   "execution_count": 48,
   "metadata": {},
   "outputs": [
    {
     "data": {
      "image/png": "[encoded data removed]",
      "text/latex": [
       "$\\displaystyle 3$"
      ],
      "text/plain": [
       "3"
      ]
     },
     "execution_count": 48,
     "metadata": {},
     "output_type": "execute_result"
    }
   ],
   "source": [
    "sp.prime(2)"
   ]
  },
  {
   "cell_type": "code",
   "execution_count": 49,
   "metadata": {},
   "outputs": [
    {
     "data": {
      "image/png": "[encoded data removed]",
      "text/latex": [
       "$\\displaystyle 5$"
      ],
      "text/plain": [
       "5"
      ]
     },
     "execution_count": 49,
     "metadata": {},
     "output_type": "execute_result"
    }
   ],
   "source": [
    "sp.prime(3)"
   ]
  },
  {
   "cell_type": "code",
   "execution_count": 50,
   "metadata": {},
   "outputs": [
    {
     "data": {
      "image/png": "[encoded data removed]",
      "text/latex": [
       "$\\displaystyle 7$"
      ],
      "text/plain": [
       "7"
      ]
     },
     "execution_count": 50,
     "metadata": {},
     "output_type": "execute_result"
    }
   ],
   "source": [
    "sp.prime(4)"
   ]
  },
  {
   "cell_type": "code",
   "execution_count": 82,
   "metadata": {},
   "outputs": [
    {
     "data": {
      "image/png": "[encoded data removed]",
      "text/latex": [
       "$\\displaystyle 23883059$"
      ],
      "text/plain": [
       "23883059"
      ]
     },
     "execution_count": 82,
     "metadata": {},
     "output_type": "execute_result"
    }
   ],
   "source": [
    "sp.prime(1500201)"
   ]
  },
  {
   "cell_type": "code",
   "execution_count": 52,
   "metadata": {},
   "outputs": [
    {
     "data": {
      "text/plain": [
       "True"
      ]
     },
     "execution_count": 52,
     "metadata": {},
     "output_type": "execute_result"
    }
   ],
   "source": [
    "sp.isprime(98849)"
   ]
  },
  {
   "cell_type": "code",
   "execution_count": 76,
   "metadata": {},
   "outputs": [
    {
     "name": "stdout",
     "output_type": "stream",
     "text": [
      "(2015177, 2015179) 是孿生質數\n"
     ]
    }
   ],
   "source": [
    "a=sp.prime(150000)\n",
    "b=sp.prime(150000+1)\n",
    "if b-a==2:\n",
    "    print((a,b),\"是孿生質數\")"
   ]
  },
  {
   "cell_type": "code",
   "execution_count": 83,
   "metadata": {},
   "outputs": [
    {
     "data": {
      "image/png": "[encoded data removed]",
      "text/latex": [
       "$\\displaystyle \\pi$"
      ],
      "text/plain": [
       "π"
      ]
     },
     "execution_count": 83,
     "metadata": {},
     "output_type": "execute_result"
    }
   ],
   "source": [
    "sp.pi"
   ]
  },
  {
   "cell_type": "code",
   "execution_count": 85,
   "metadata": {},
   "outputs": [
    {
     "data": {
      "image/png": "[encoded data removed]",
      "text/latex": [
       "$\\displaystyle 3.141592653589793238462643383279502884197169399375105820974944592307816406286208998628034825342117067982148086513282306647093844609550582231725359408128481117450284102701938521105559644622948954930381964428810975665933446128475648233786783165271201909145648566923460348610454326648213393607260249141273724587006606315588174881520920962829254091715364367892590360011330530548820466521384146951941511609433057270365759591953092186117381932611793105118548074462379962749567351885752724891227938183011949129833673362440656643086021394946395224737190702179860943702770539217176293176752384674818467669405132000568127145263560827785771342757789609173637178721468440901224953430146549585371050792279689258923542019956112129021960864034418159813629774771309960518707211349999998372978049951059731732816096318595024459455346908302642522308253344685035261931188171010003137838752886587533208381420617177669147303598253490428755468731159562863882353787593751957781857780532171226806613001927876611195909216420199$"
      ],
      "text/plain": [
       "3.1415926535897932384626433832795028841971693993751058209749445923078164062862\n",
       "089986280348253421170679821480865132823066470938446095505822317253594081284811\n",
       "174502841027019385211055596446229489549303819644288109756659334461284756482337\n",
       "867831652712019091456485669234603486104543266482133936072602491412737245870066\n",
       "063155881748815209209628292540917153643678925903600113305305488204665213841469\n",
       "519415116094330572703657595919530921861173819326117931051185480744623799627495\n",
       "673518857527248912279381830119491298336733624406566430860213949463952247371907\n",
       "021798609437027705392171762931767523846748184676694051320005681271452635608277\n",
       "857713427577896091736371787214684409012249534301465495853710507922796892589235\n",
       "420199561121290219608640344181598136297747713099605187072113499999983729780499\n",
       "510597317328160963185950244594553469083026425223082533446850352619311881710100\n",
       "031378387528865875332083814206171776691473035982534904287554687311595628638823\n",
       "53787593751957781857780532171226806613001927876611195909216420199"
      ]
     },
     "execution_count": 85,
     "metadata": {},
     "output_type": "execute_result"
    }
   ],
   "source": [
    "(sp.pi).n(1000)"
   ]
  },
  {
   "cell_type": "code",
   "execution_count": 86,
   "metadata": {},
   "outputs": [],
   "source": [
    "π=sp.pi"
   ]
  },
  {
   "cell_type": "code",
   "execution_count": 88,
   "metadata": {},
   "outputs": [
    {
     "data": {
      "image/png": "[encoded data removed]",
      "text/latex": [
       "$\\displaystyle 3.141592653589793238462643383279502884197169399375105820974944592307816406286208998628034825342117068$"
      ],
      "text/plain": [
       "3.1415926535897932384626433832795028841971693993751058209749445923078164062862\n",
       "08998628034825342117068"
      ]
     },
     "execution_count": 88,
     "metadata": {},
     "output_type": "execute_result"
    }
   ],
   "source": [
    "π.n(100)"
   ]
  },
  {
   "cell_type": "code",
   "execution_count": 95,
   "metadata": {},
   "outputs": [],
   "source": [
    "magic=str(π.n(30000))"
   ]
  },
  {
   "cell_type": "code",
   "execution_count": 96,
   "metadata": {},
   "outputs": [
    {
     "data": {
      "text/plain": [
       "True"
      ]
     },
     "execution_count": 96,
     "metadata": {},
     "output_type": "execute_result"
    }
   ],
   "source": [
    "'0108'in magic\n"
   ]
  },
  {
   "cell_type": "code",
   "execution_count": null,
   "metadata": {},
   "outputs": [],
   "source": []
  },
  {
   "cell_type": "code",
   "execution_count": null,
   "metadata": {},
   "outputs": [],
   "source": []
  },
  {
   "cell_type": "code",
   "execution_count": null,
   "metadata": {},
   "outputs": [],
   "source": []
  },
  {
   "cell_type": "code",
   "execution_count": null,
   "metadata": {},
   "outputs": [],
   "source": []
  },
  {
   "cell_type": "code",
   "execution_count": null,
   "metadata": {},
   "outputs": [],
   "source": []
  },
  {
   "cell_type": "code",
   "execution_count": null,
   "metadata": {},
   "outputs": [],
   "source": []
  },
  {
   "cell_type": "code",
   "execution_count": null,
   "metadata": {},
   "outputs": [],
   "source": []
  },
  {
   "cell_type": "code",
   "execution_count": null,
   "metadata": {},
   "outputs": [],
   "source": []
  },
  {
   "cell_type": "code",
   "execution_count": null,
   "metadata": {},
   "outputs": [],
   "source": []
  },
  {
   "cell_type": "code",
   "execution_count": null,
   "metadata": {},
   "outputs": [],
   "source": []
  },
  {
   "cell_type": "code",
   "execution_count": null,
   "metadata": {},
   "outputs": [],
   "source": []
  },
  {
   "cell_type": "code",
   "execution_count": null,
   "metadata": {},
   "outputs": [],
   "source": []
  },
  {
   "cell_type": "code",
   "execution_count": null,
   "metadata": {},
   "outputs": [],
   "source": []
  },
  {
   "cell_type": "code",
   "execution_count": null,
   "metadata": {},
   "outputs": [],
   "source": []
  },
  {
   "cell_type": "code",
   "execution_count": null,
   "metadata": {},
   "outputs": [],
   "source": []
  }
 ],
 "metadata": {
  "kernelspec": {
   "display_name": "Python 3",
   "language": "python",
   "name": "python3"
  },
  "language_info": {
   "codemirror_mode": {
    "name": "ipython",
    "version": 3
   },
   "file_extension": ".py",
   "mimetype": "text/x-python",
   "name": "python",
   "nbconvert_exporter": "python",
   "pygments_lexer": "ipython3",
   "version": "3.7.3"
  }
 },
 "nbformat": 4,
 "nbformat_minor": 2
}
