{
 "cells": [
  {
   "cell_type": "markdown",
   "metadata": {},
   "source": [
    "## 從親職教養態度探討大學生科系選擇之影響:以政大學生為例\n",
    "### 動機:此為我修習的另一堂課，家庭社會學的期末報告主題，想要利用這學期學到的python數據分析技巧，來處理蒐集到的問卷資料，進而探討:\n",
    "\n",
    "* 不同親職教育下的學生科系滿意度\n",
    "* 不同親職教育下的家長科系滿意度\n"
   ]
  },
  {
   "cell_type": "code",
   "execution_count": 139,
   "metadata": {},
   "outputs": [],
   "source": [
    "%matplotlib inline\n",
    "import numpy as np\n",
    "import matplotlib.pyplot as plt\n",
    "import pandas as pd"
   ]
  },
  {
   "cell_type": "markdown",
   "metadata": {},
   "source": [
    "### 讀資料(問卷)"
   ]
  },
  {
   "cell_type": "code",
   "execution_count": 140,
   "metadata": {},
   "outputs": [],
   "source": [
    "df=pd.read_csv('家社.csv',encoding='utf-8')\n",
    "df=pd.DataFrame(df)"
   ]
  },
  {
   "cell_type": "code",
   "execution_count": 141,
   "metadata": {},
   "outputs": [
    {
     "data": {
      "text/html": [
       "<div>\n",
       "<style scoped>\n",
       "    .dataframe tbody tr th:only-of-type {\n",
       "        vertical-align: middle;\n",
       "    }\n",
       "\n",
       "    .dataframe tbody tr th {\n",
       "        vertical-align: top;\n",
       "    }\n",
       "\n",
       "    .dataframe thead th {\n",
       "        text-align: right;\n",
       "    }\n",
       "</style>\n",
       "<table border=\"1\" class=\"dataframe\">\n",
       "  <thead>\n",
       "    <tr style=\"text-align: right;\">\n",
       "      <th></th>\n",
       "      <th>時間戳記</th>\n",
       "      <th>請問您的生理性別是?</th>\n",
       "      <th>請問您就讀的院別?</th>\n",
       "      <th>請問您就讀的科系是?</th>\n",
       "      <th>您目前就讀大學幾年級?</th>\n",
       "      <th>請問您的家長的教養型態是?</th>\n",
       "      <th>您與家人的關係（整體上）?</th>\n",
       "      <th>您是否滿意現在就讀的科系?</th>\n",
       "      <th>您現在就讀的科系是否符合父母的期待?</th>\n",
       "      <th>請填寫您的電子郵件(供抽獎使用)</th>\n",
       "    </tr>\n",
       "  </thead>\n",
       "  <tbody>\n",
       "    <tr>\n",
       "      <th>0</th>\n",
       "      <td>2019/12/13 4:51:36 下午 GMT+8</td>\n",
       "      <td>女性</td>\n",
       "      <td>社會科學院</td>\n",
       "      <td>社會學系</td>\n",
       "      <td>二</td>\n",
       "      <td>權威民主型(Authoritative/Propagative)</td>\n",
       "      <td>良好</td>\n",
       "      <td>尚可接受</td>\n",
       "      <td>是</td>\n",
       "      <td>107204002@gmail.com</td>\n",
       "    </tr>\n",
       "    <tr>\n",
       "      <th>1</th>\n",
       "      <td>2019/12/13 4:54:05 下午 GMT+8</td>\n",
       "      <td>男性</td>\n",
       "      <td>社會科學院</td>\n",
       "      <td>社會學系</td>\n",
       "      <td>二</td>\n",
       "      <td>權威民主型(Authoritative/Propagative)</td>\n",
       "      <td>普通</td>\n",
       "      <td>尚可接受</td>\n",
       "      <td>否</td>\n",
       "      <td>peter6020195280@gmail.com</td>\n",
       "    </tr>\n",
       "    <tr>\n",
       "      <th>2</th>\n",
       "      <td>2019/12/13 5:20:55 下午 GMT+8</td>\n",
       "      <td>女性</td>\n",
       "      <td>商學院</td>\n",
       "      <td>會計</td>\n",
       "      <td>一</td>\n",
       "      <td>權威民主型(Authoritative/Propagative)</td>\n",
       "      <td>普通</td>\n",
       "      <td>不滿意</td>\n",
       "      <td>是</td>\n",
       "      <td>j07010511@gmail.com</td>\n",
       "    </tr>\n",
       "    <tr>\n",
       "      <th>3</th>\n",
       "      <td>2019/12/13 5:22:00 下午 GMT+8</td>\n",
       "      <td>男性</td>\n",
       "      <td>商學院</td>\n",
       "      <td>資管</td>\n",
       "      <td>一</td>\n",
       "      <td>忽略型(Neglectful)</td>\n",
       "      <td>良好</td>\n",
       "      <td>尚可接受</td>\n",
       "      <td>沒意見</td>\n",
       "      <td>108306022@g.nccu.edu.tw</td>\n",
       "    </tr>\n",
       "    <tr>\n",
       "      <th>4</th>\n",
       "      <td>2019/12/13 5:22:23 下午 GMT+8</td>\n",
       "      <td>女性</td>\n",
       "      <td>商學院</td>\n",
       "      <td>會計</td>\n",
       "      <td>二</td>\n",
       "      <td>權威民主型(Authoritative/Propagative)</td>\n",
       "      <td>良好</td>\n",
       "      <td>尚可接受</td>\n",
       "      <td>沒意見</td>\n",
       "      <td>NaN</td>\n",
       "    </tr>\n",
       "  </tbody>\n",
       "</table>\n",
       "</div>"
      ],
      "text/plain": [
       "                          時間戳記 請問您的生理性別是? 請問您就讀的院別? 請問您就讀的科系是? 您目前就讀大學幾年級?  \\\n",
       "0  2019/12/13 4:51:36 下午 GMT+8         女性     社會科學院       社會學系           二   \n",
       "1  2019/12/13 4:54:05 下午 GMT+8         男性     社會科學院       社會學系           二   \n",
       "2  2019/12/13 5:20:55 下午 GMT+8         女性       商學院         會計           一   \n",
       "3  2019/12/13 5:22:00 下午 GMT+8         男性       商學院         資管           一   \n",
       "4  2019/12/13 5:22:23 下午 GMT+8         女性       商學院         會計           二   \n",
       "\n",
       "                      請問您的家長的教養型態是? 您與家人的關係（整體上）? 您是否滿意現在就讀的科系?  \\\n",
       "0  權威民主型(Authoritative/Propagative)            良好          尚可接受   \n",
       "1  權威民主型(Authoritative/Propagative)            普通          尚可接受   \n",
       "2  權威民主型(Authoritative/Propagative)            普通           不滿意   \n",
       "3                   忽略型(Neglectful)            良好          尚可接受   \n",
       "4  權威民主型(Authoritative/Propagative)            良好          尚可接受   \n",
       "\n",
       "  您現在就讀的科系是否符合父母的期待?           請填寫您的電子郵件(供抽獎使用)  \n",
       "0                  是        107204002@gmail.com  \n",
       "1                  否  peter6020195280@gmail.com  \n",
       "2                  是       j07010511@gmail.com   \n",
       "3                沒意見    108306022@g.nccu.edu.tw  \n",
       "4                沒意見                        NaN  "
      ]
     },
     "execution_count": 141,
     "metadata": {},
     "output_type": "execute_result"
    }
   ],
   "source": [
    "df.head()"
   ]
  },
  {
   "cell_type": "markdown",
   "metadata": {},
   "source": [
    "### 資料整理"
   ]
  },
  {
   "cell_type": "code",
   "execution_count": 142,
   "metadata": {},
   "outputs": [
    {
     "data": {
      "text/html": [
       "<div>\n",
       "<style scoped>\n",
       "    .dataframe tbody tr th:only-of-type {\n",
       "        vertical-align: middle;\n",
       "    }\n",
       "\n",
       "    .dataframe tbody tr th {\n",
       "        vertical-align: top;\n",
       "    }\n",
       "\n",
       "    .dataframe thead th {\n",
       "        text-align: right;\n",
       "    }\n",
       "</style>\n",
       "<table border=\"1\" class=\"dataframe\">\n",
       "  <thead>\n",
       "    <tr style=\"text-align: right;\">\n",
       "      <th></th>\n",
       "      <th>請問您的生理性別是?</th>\n",
       "      <th>請問您就讀的院別?</th>\n",
       "      <th>請問您就讀的科系是?</th>\n",
       "      <th>您目前就讀大學幾年級?</th>\n",
       "      <th>請問您的家長的教養型態是?</th>\n",
       "      <th>您與家人的關係（整體上）?</th>\n",
       "      <th>您是否滿意現在就讀的科系?</th>\n",
       "      <th>您現在就讀的科系是否符合父母的期待?</th>\n",
       "    </tr>\n",
       "  </thead>\n",
       "  <tbody>\n",
       "    <tr>\n",
       "      <th>0</th>\n",
       "      <td>女性</td>\n",
       "      <td>社會科學院</td>\n",
       "      <td>社會學系</td>\n",
       "      <td>二</td>\n",
       "      <td>權威民主型(Authoritative/Propagative)</td>\n",
       "      <td>良好</td>\n",
       "      <td>尚可接受</td>\n",
       "      <td>是</td>\n",
       "    </tr>\n",
       "    <tr>\n",
       "      <th>1</th>\n",
       "      <td>男性</td>\n",
       "      <td>社會科學院</td>\n",
       "      <td>社會學系</td>\n",
       "      <td>二</td>\n",
       "      <td>權威民主型(Authoritative/Propagative)</td>\n",
       "      <td>普通</td>\n",
       "      <td>尚可接受</td>\n",
       "      <td>否</td>\n",
       "    </tr>\n",
       "    <tr>\n",
       "      <th>2</th>\n",
       "      <td>女性</td>\n",
       "      <td>商學院</td>\n",
       "      <td>會計</td>\n",
       "      <td>一</td>\n",
       "      <td>權威民主型(Authoritative/Propagative)</td>\n",
       "      <td>普通</td>\n",
       "      <td>不滿意</td>\n",
       "      <td>是</td>\n",
       "    </tr>\n",
       "    <tr>\n",
       "      <th>3</th>\n",
       "      <td>男性</td>\n",
       "      <td>商學院</td>\n",
       "      <td>資管</td>\n",
       "      <td>一</td>\n",
       "      <td>忽略型(Neglectful)</td>\n",
       "      <td>良好</td>\n",
       "      <td>尚可接受</td>\n",
       "      <td>沒意見</td>\n",
       "    </tr>\n",
       "    <tr>\n",
       "      <th>4</th>\n",
       "      <td>女性</td>\n",
       "      <td>商學院</td>\n",
       "      <td>會計</td>\n",
       "      <td>二</td>\n",
       "      <td>權威民主型(Authoritative/Propagative)</td>\n",
       "      <td>良好</td>\n",
       "      <td>尚可接受</td>\n",
       "      <td>沒意見</td>\n",
       "    </tr>\n",
       "  </tbody>\n",
       "</table>\n",
       "</div>"
      ],
      "text/plain": [
       "  請問您的生理性別是? 請問您就讀的院別? 請問您就讀的科系是? 您目前就讀大學幾年級?  \\\n",
       "0         女性     社會科學院       社會學系           二   \n",
       "1         男性     社會科學院       社會學系           二   \n",
       "2         女性       商學院         會計           一   \n",
       "3         男性       商學院         資管           一   \n",
       "4         女性       商學院         會計           二   \n",
       "\n",
       "                      請問您的家長的教養型態是? 您與家人的關係（整體上）? 您是否滿意現在就讀的科系?  \\\n",
       "0  權威民主型(Authoritative/Propagative)            良好          尚可接受   \n",
       "1  權威民主型(Authoritative/Propagative)            普通          尚可接受   \n",
       "2  權威民主型(Authoritative/Propagative)            普通           不滿意   \n",
       "3                   忽略型(Neglectful)            良好          尚可接受   \n",
       "4  權威民主型(Authoritative/Propagative)            良好          尚可接受   \n",
       "\n",
       "  您現在就讀的科系是否符合父母的期待?  \n",
       "0                  是  \n",
       "1                  否  \n",
       "2                  是  \n",
       "3                沒意見  \n",
       "4                沒意見  "
      ]
     },
     "execution_count": 142,
     "metadata": {},
     "output_type": "execute_result"
    }
   ],
   "source": [
    "df=df.drop([\"時間戳記\",\"請填寫您的電子郵件(供抽獎使用)\"],axis=1)\n",
    "df.head()"
   ]
  },
  {
   "cell_type": "code",
   "execution_count": 143,
   "metadata": {
    "scrolled": true
   },
   "outputs": [
    {
     "data": {
      "text/html": [
       "<div>\n",
       "<style scoped>\n",
       "    .dataframe tbody tr th:only-of-type {\n",
       "        vertical-align: middle;\n",
       "    }\n",
       "\n",
       "    .dataframe tbody tr th {\n",
       "        vertical-align: top;\n",
       "    }\n",
       "\n",
       "    .dataframe thead th {\n",
       "        text-align: right;\n",
       "    }\n",
       "</style>\n",
       "<table border=\"1\" class=\"dataframe\">\n",
       "  <thead>\n",
       "    <tr style=\"text-align: right;\">\n",
       "      <th></th>\n",
       "      <th>請問您的生理性別是?</th>\n",
       "      <th>請問您就讀的院別?</th>\n",
       "      <th>請問您就讀的科系是?</th>\n",
       "      <th>您目前就讀大學幾年級?</th>\n",
       "      <th>x</th>\n",
       "      <th>您與家人的關係（整體上）?</th>\n",
       "      <th>y</th>\n",
       "      <th>z</th>\n",
       "    </tr>\n",
       "  </thead>\n",
       "  <tbody>\n",
       "    <tr>\n",
       "      <th>0</th>\n",
       "      <td>女性</td>\n",
       "      <td>社會科學院</td>\n",
       "      <td>社會學系</td>\n",
       "      <td>二</td>\n",
       "      <td>權威民主型(Authoritative/Propagative)</td>\n",
       "      <td>良好</td>\n",
       "      <td>尚可接受</td>\n",
       "      <td>是</td>\n",
       "    </tr>\n",
       "    <tr>\n",
       "      <th>1</th>\n",
       "      <td>男性</td>\n",
       "      <td>社會科學院</td>\n",
       "      <td>社會學系</td>\n",
       "      <td>二</td>\n",
       "      <td>權威民主型(Authoritative/Propagative)</td>\n",
       "      <td>普通</td>\n",
       "      <td>尚可接受</td>\n",
       "      <td>否</td>\n",
       "    </tr>\n",
       "    <tr>\n",
       "      <th>2</th>\n",
       "      <td>女性</td>\n",
       "      <td>商學院</td>\n",
       "      <td>會計</td>\n",
       "      <td>一</td>\n",
       "      <td>權威民主型(Authoritative/Propagative)</td>\n",
       "      <td>普通</td>\n",
       "      <td>不滿意</td>\n",
       "      <td>是</td>\n",
       "    </tr>\n",
       "    <tr>\n",
       "      <th>3</th>\n",
       "      <td>男性</td>\n",
       "      <td>商學院</td>\n",
       "      <td>資管</td>\n",
       "      <td>一</td>\n",
       "      <td>忽略型(Neglectful)</td>\n",
       "      <td>良好</td>\n",
       "      <td>尚可接受</td>\n",
       "      <td>沒意見</td>\n",
       "    </tr>\n",
       "    <tr>\n",
       "      <th>4</th>\n",
       "      <td>女性</td>\n",
       "      <td>商學院</td>\n",
       "      <td>會計</td>\n",
       "      <td>二</td>\n",
       "      <td>權威民主型(Authoritative/Propagative)</td>\n",
       "      <td>良好</td>\n",
       "      <td>尚可接受</td>\n",
       "      <td>沒意見</td>\n",
       "    </tr>\n",
       "  </tbody>\n",
       "</table>\n",
       "</div>"
      ],
      "text/plain": [
       "  請問您的生理性別是? 請問您就讀的院別? 請問您就讀的科系是? 您目前就讀大學幾年級?  \\\n",
       "0         女性     社會科學院       社會學系           二   \n",
       "1         男性     社會科學院       社會學系           二   \n",
       "2         女性       商學院         會計           一   \n",
       "3         男性       商學院         資管           一   \n",
       "4         女性       商學院         會計           二   \n",
       "\n",
       "                                  x 您與家人的關係（整體上）?     y    z  \n",
       "0  權威民主型(Authoritative/Propagative)            良好  尚可接受    是  \n",
       "1  權威民主型(Authoritative/Propagative)            普通  尚可接受    否  \n",
       "2  權威民主型(Authoritative/Propagative)            普通   不滿意    是  \n",
       "3                   忽略型(Neglectful)            良好  尚可接受  沒意見  \n",
       "4  權威民主型(Authoritative/Propagative)            良好  尚可接受  沒意見  "
      ]
     },
     "execution_count": 143,
     "metadata": {},
     "output_type": "execute_result"
    }
   ],
   "source": [
    "df=df.rename(columns={'請問您的家長的教養型態是?':'x','您是否滿意現在就讀的科系?':'y','您現在就讀的科系是否符合父母的期待?':'z'})\n",
    "df.head()"
   ]
  },
  {
   "cell_type": "code",
   "execution_count": 144,
   "metadata": {},
   "outputs": [],
   "source": [
    "s={'尚可接受':2,'滿意':3,'不滿意':1}\n",
    "w={'沒意見':2,'是':3,'否':1}"
   ]
  },
  {
   "cell_type": "code",
   "execution_count": 145,
   "metadata": {},
   "outputs": [
    {
     "data": {
      "text/html": [
       "<div>\n",
       "<style scoped>\n",
       "    .dataframe tbody tr th:only-of-type {\n",
       "        vertical-align: middle;\n",
       "    }\n",
       "\n",
       "    .dataframe tbody tr th {\n",
       "        vertical-align: top;\n",
       "    }\n",
       "\n",
       "    .dataframe thead th {\n",
       "        text-align: right;\n",
       "    }\n",
       "</style>\n",
       "<table border=\"1\" class=\"dataframe\">\n",
       "  <thead>\n",
       "    <tr style=\"text-align: right;\">\n",
       "      <th></th>\n",
       "      <th>請問您的生理性別是?</th>\n",
       "      <th>請問您就讀的院別?</th>\n",
       "      <th>請問您就讀的科系是?</th>\n",
       "      <th>您目前就讀大學幾年級?</th>\n",
       "      <th>x</th>\n",
       "      <th>您與家人的關係（整體上）?</th>\n",
       "      <th>y</th>\n",
       "      <th>z</th>\n",
       "    </tr>\n",
       "  </thead>\n",
       "  <tbody>\n",
       "    <tr>\n",
       "      <th>0</th>\n",
       "      <td>女性</td>\n",
       "      <td>社會科學院</td>\n",
       "      <td>社會學系</td>\n",
       "      <td>二</td>\n",
       "      <td>權威民主型(Authoritative/Propagative)</td>\n",
       "      <td>良好</td>\n",
       "      <td>2.0</td>\n",
       "      <td>3</td>\n",
       "    </tr>\n",
       "    <tr>\n",
       "      <th>1</th>\n",
       "      <td>男性</td>\n",
       "      <td>社會科學院</td>\n",
       "      <td>社會學系</td>\n",
       "      <td>二</td>\n",
       "      <td>權威民主型(Authoritative/Propagative)</td>\n",
       "      <td>普通</td>\n",
       "      <td>2.0</td>\n",
       "      <td>1</td>\n",
       "    </tr>\n",
       "    <tr>\n",
       "      <th>2</th>\n",
       "      <td>女性</td>\n",
       "      <td>商學院</td>\n",
       "      <td>會計</td>\n",
       "      <td>一</td>\n",
       "      <td>權威民主型(Authoritative/Propagative)</td>\n",
       "      <td>普通</td>\n",
       "      <td>1.0</td>\n",
       "      <td>3</td>\n",
       "    </tr>\n",
       "    <tr>\n",
       "      <th>3</th>\n",
       "      <td>男性</td>\n",
       "      <td>商學院</td>\n",
       "      <td>資管</td>\n",
       "      <td>一</td>\n",
       "      <td>忽略型(Neglectful)</td>\n",
       "      <td>良好</td>\n",
       "      <td>2.0</td>\n",
       "      <td>2</td>\n",
       "    </tr>\n",
       "    <tr>\n",
       "      <th>4</th>\n",
       "      <td>女性</td>\n",
       "      <td>商學院</td>\n",
       "      <td>會計</td>\n",
       "      <td>二</td>\n",
       "      <td>權威民主型(Authoritative/Propagative)</td>\n",
       "      <td>良好</td>\n",
       "      <td>2.0</td>\n",
       "      <td>2</td>\n",
       "    </tr>\n",
       "  </tbody>\n",
       "</table>\n",
       "</div>"
      ],
      "text/plain": [
       "  請問您的生理性別是? 請問您就讀的院別? 請問您就讀的科系是? 您目前就讀大學幾年級?  \\\n",
       "0         女性     社會科學院       社會學系           二   \n",
       "1         男性     社會科學院       社會學系           二   \n",
       "2         女性       商學院         會計           一   \n",
       "3         男性       商學院         資管           一   \n",
       "4         女性       商學院         會計           二   \n",
       "\n",
       "                                  x 您與家人的關係（整體上）?    y  z  \n",
       "0  權威民主型(Authoritative/Propagative)            良好  2.0  3  \n",
       "1  權威民主型(Authoritative/Propagative)            普通  2.0  1  \n",
       "2  權威民主型(Authoritative/Propagative)            普通  1.0  3  \n",
       "3                   忽略型(Neglectful)            良好  2.0  2  \n",
       "4  權威民主型(Authoritative/Propagative)            良好  2.0  2  "
      ]
     },
     "execution_count": 145,
     "metadata": {},
     "output_type": "execute_result"
    }
   ],
   "source": [
    "df.y=df.y.map(s)\n",
    "df.z=df.z.map(w)\n",
    "df.head()"
   ]
  },
  {
   "cell_type": "code",
   "execution_count": null,
   "metadata": {},
   "outputs": [],
   "source": []
  },
  {
   "cell_type": "markdown",
   "metadata": {},
   "source": [
    "### 依親職教育種類區分資料"
   ]
  },
  {
   "cell_type": "code",
   "execution_count": 146,
   "metadata": {},
   "outputs": [],
   "source": [
    "Authoritative=df[df.x=='權威民主型(Authoritative/Propagative)']\n",
    "Authoritarian=df[df.x=='專制型(Authoritarian/Totalitarian)']\n",
    "Indulgent=df[df.x=='溺愛型(Indulgent/Permissive)']\n",
    "Neglectful=df[df.x=='忽略型(Neglectful)']\n"
   ]
  },
  {
   "cell_type": "markdown",
   "metadata": {},
   "source": [
    "### 分析:Two sample t-test(one-tail)"
   ]
  },
  {
   "cell_type": "markdown",
   "metadata": {},
   "source": [
    "### 不同親職教育下學生科系滿意度\n",
    "* H0: 權威民主教育下的學生科系滿意度＝專制教育下的學生科系滿意度\n",
    "* H1: 權威民主教育下的學生科系滿意度＞專制教育下的學生科系滿意度"
   ]
  },
  {
   "cell_type": "markdown",
   "metadata": {},
   "source": [
    "### 民主vs.專制"
   ]
  },
  {
   "cell_type": "code",
   "execution_count": 147,
   "metadata": {},
   "outputs": [
    {
     "data": {
      "text/plain": [
       "LeveneResult(statistic=0.3167812289058115, pvalue=0.5750300194750565)"
      ]
     },
     "execution_count": 147,
     "metadata": {},
     "output_type": "execute_result"
    }
   ],
   "source": [
    "from scipy import stats\n",
    "\n",
    "stats.levene(Authoritative.dropna()['y'],Authoritarian.dropna()['y']) ##f-test\n"
   ]
  },
  {
   "cell_type": "code",
   "execution_count": 148,
   "metadata": {},
   "outputs": [
    {
     "data": {
      "text/plain": [
       "Ttest_indResult(statistic=2.7881027979071304, pvalue=0.00654039436482706)"
      ]
     },
     "execution_count": 148,
     "metadata": {},
     "output_type": "execute_result"
    }
   ],
   "source": [
    "t1=stats.ttest_ind(Authoritative.dropna()['y'],Authoritarian.dropna()['y'],equal_var=True) ##t-test\n",
    "t1"
   ]
  },
  {
   "cell_type": "code",
   "execution_count": 149,
   "metadata": {},
   "outputs": [
    {
     "data": {
      "text/plain": [
       "0.00327019718241353"
      ]
     },
     "execution_count": 149,
     "metadata": {},
     "output_type": "execute_result"
    }
   ],
   "source": [
    "t1.pvalue / 2\n"
   ]
  },
  {
   "cell_type": "markdown",
   "metadata": {},
   "source": [
    "### 民主vs.忽略"
   ]
  },
  {
   "cell_type": "code",
   "execution_count": 150,
   "metadata": {},
   "outputs": [
    {
     "data": {
      "text/plain": [
       "LeveneResult(statistic=0.05265758269190757, pvalue=0.8190224666422888)"
      ]
     },
     "execution_count": 150,
     "metadata": {},
     "output_type": "execute_result"
    }
   ],
   "source": [
    "stats.levene(Authoritative.dropna()['y'],Neglectful.dropna()['y']) ##f-test\n"
   ]
  },
  {
   "cell_type": "code",
   "execution_count": 151,
   "metadata": {},
   "outputs": [
    {
     "data": {
      "text/plain": [
       "Ttest_indResult(statistic=-0.6992341512357683, pvalue=0.48620891368638086)"
      ]
     },
     "execution_count": 151,
     "metadata": {},
     "output_type": "execute_result"
    }
   ],
   "source": [
    "t2=stats.ttest_ind(Authoritative.dropna()['y'],Neglectful.dropna()['y'],equal_var=True) ##t-test\n",
    "t2"
   ]
  },
  {
   "cell_type": "code",
   "execution_count": 152,
   "metadata": {},
   "outputs": [
    {
     "data": {
      "text/plain": [
       "0.24310445684319043"
      ]
     },
     "execution_count": 152,
     "metadata": {},
     "output_type": "execute_result"
    }
   ],
   "source": [
    "t2.pvalue / 2\n"
   ]
  },
  {
   "cell_type": "markdown",
   "metadata": {},
   "source": [
    "### 民主vs.溺愛"
   ]
  },
  {
   "cell_type": "code",
   "execution_count": 153,
   "metadata": {},
   "outputs": [
    {
     "data": {
      "text/plain": [
       "LeveneResult(statistic=0.19303202362025898, pvalue=0.6615467413398205)"
      ]
     },
     "execution_count": 153,
     "metadata": {},
     "output_type": "execute_result"
    }
   ],
   "source": [
    "stats.levene(Authoritative.dropna()['y'],Indulgent.dropna()['y']) ##f-test\n"
   ]
  },
  {
   "cell_type": "code",
   "execution_count": 154,
   "metadata": {},
   "outputs": [
    {
     "data": {
      "text/plain": [
       "Ttest_indResult(statistic=0.09578163598515749, pvalue=0.9239248845029159)"
      ]
     },
     "execution_count": 154,
     "metadata": {},
     "output_type": "execute_result"
    }
   ],
   "source": [
    "t3=stats.ttest_ind(Authoritative.dropna()['y'],Indulgent.dropna()['y'],equal_var=True) ##t-test\n",
    "t3"
   ]
  },
  {
   "cell_type": "code",
   "execution_count": 155,
   "metadata": {},
   "outputs": [
    {
     "data": {
      "text/plain": [
       "0.46196244225145794"
      ]
     },
     "execution_count": 155,
     "metadata": {},
     "output_type": "execute_result"
    }
   ],
   "source": [
    "t3.pvalue / 2\n"
   ]
  },
  {
   "cell_type": "markdown",
   "metadata": {},
   "source": [
    "### 不同親職教育下家長對子女科系滿意度\n",
    "* H0: 權威民主教育下的家長科系滿意度＝專制教育下的家長科系滿意度\n",
    "* H1: 權威民主教育下的家長科系滿意度＞專制教育下的家長科系滿意度"
   ]
  },
  {
   "cell_type": "markdown",
   "metadata": {},
   "source": [
    "### 民主vs.專制"
   ]
  },
  {
   "cell_type": "code",
   "execution_count": 156,
   "metadata": {},
   "outputs": [
    {
     "data": {
      "text/plain": [
       "LeveneResult(statistic=0.00011391063241843015, pvalue=0.9915094359269208)"
      ]
     },
     "execution_count": 156,
     "metadata": {},
     "output_type": "execute_result"
    }
   ],
   "source": [
    "stats.levene(Authoritative.dropna()['z'],Authoritarian.dropna()['z']) ##f-test\n"
   ]
  },
  {
   "cell_type": "code",
   "execution_count": 157,
   "metadata": {},
   "outputs": [
    {
     "data": {
      "text/plain": [
       "Ttest_indResult(statistic=1.827425811987951, pvalue=0.07114497661381108)"
      ]
     },
     "execution_count": 157,
     "metadata": {},
     "output_type": "execute_result"
    }
   ],
   "source": [
    "t4=stats.ttest_ind(Authoritative.dropna()['z'],Authoritarian.dropna()['z'],equal_var=True) ##t-test\n",
    "t4"
   ]
  },
  {
   "cell_type": "code",
   "execution_count": 158,
   "metadata": {},
   "outputs": [
    {
     "data": {
      "text/plain": [
       "0.03557248830690554"
      ]
     },
     "execution_count": 158,
     "metadata": {},
     "output_type": "execute_result"
    }
   ],
   "source": [
    "t4.pvalue/2"
   ]
  },
  {
   "cell_type": "markdown",
   "metadata": {},
   "source": [
    "### 民主vs.忽略"
   ]
  },
  {
   "cell_type": "code",
   "execution_count": 159,
   "metadata": {},
   "outputs": [
    {
     "data": {
      "text/plain": [
       "LeveneResult(statistic=1.4154525449812305, pvalue=0.23728245363894637)"
      ]
     },
     "execution_count": 159,
     "metadata": {},
     "output_type": "execute_result"
    }
   ],
   "source": [
    "stats.levene(Authoritative.dropna()['z'],Neglectful.dropna()['z']) ##f-test\n"
   ]
  },
  {
   "cell_type": "code",
   "execution_count": 160,
   "metadata": {},
   "outputs": [
    {
     "data": {
      "text/plain": [
       "Ttest_indResult(statistic=0.7887061657522364, pvalue=0.43235644114728444)"
      ]
     },
     "execution_count": 160,
     "metadata": {},
     "output_type": "execute_result"
    }
   ],
   "source": [
    "t5=stats.ttest_ind(Authoritative.dropna()['z'],Neglectful.dropna()['z'],equal_var=True) ##t-test\n",
    "t5"
   ]
  },
  {
   "cell_type": "code",
   "execution_count": 161,
   "metadata": {},
   "outputs": [
    {
     "data": {
      "text/plain": [
       "0.21617822057364222"
      ]
     },
     "execution_count": 161,
     "metadata": {},
     "output_type": "execute_result"
    }
   ],
   "source": [
    "t5.pvalue/2"
   ]
  },
  {
   "cell_type": "markdown",
   "metadata": {},
   "source": [
    "### 民主vs.溺愛"
   ]
  },
  {
   "cell_type": "code",
   "execution_count": 165,
   "metadata": {},
   "outputs": [
    {
     "data": {
      "text/plain": [
       "LeveneResult(statistic=0.8226496979649287, pvalue=0.3670323439212969)"
      ]
     },
     "execution_count": 165,
     "metadata": {},
     "output_type": "execute_result"
    }
   ],
   "source": [
    "stats.levene(Authoritative.dropna()['z'],Indulgent.dropna()['z']) ##f-test\n"
   ]
  },
  {
   "cell_type": "code",
   "execution_count": 166,
   "metadata": {},
   "outputs": [
    {
     "data": {
      "text/plain": [
       "Ttest_indResult(statistic=-0.7261574057764743, pvalue=0.46978509504048915)"
      ]
     },
     "execution_count": 166,
     "metadata": {},
     "output_type": "execute_result"
    }
   ],
   "source": [
    "t6=stats.ttest_ind(Authoritative.dropna()['z'],Indulgent.dropna()['z'],equal_var=True) ##t-test\n",
    "t6"
   ]
  },
  {
   "cell_type": "code",
   "execution_count": 167,
   "metadata": {},
   "outputs": [
    {
     "data": {
      "text/plain": [
       "0.23489254752024458"
      ]
     },
     "execution_count": 167,
     "metadata": {},
     "output_type": "execute_result"
    }
   ],
   "source": [
    "t6.pvalue/2"
   ]
  },
  {
   "cell_type": "markdown",
   "metadata": {},
   "source": [
    "### 研究結果\n",
    "#### 在兩樣本變異數無顯著差異下：\n",
    "1. 權威民主教育下的學生科系滿意度＞專制教育下的學生科系滿意度\n",
    "2. 權威民主教育下的家長對子女科系滿意度＞專制教育下的家長對子女科系滿意度\n"
   ]
  },
  {
   "cell_type": "markdown",
   "metadata": {},
   "source": [
    "### 研究中遇到的問題\n",
    "*　樣本數太少\n",
    "* 資料分配不平均(可能跟問卷設計有關)\n"
   ]
  },
  {
   "cell_type": "code",
   "execution_count": null,
   "metadata": {},
   "outputs": [],
   "source": []
  }
 ],
 "metadata": {
  "kernelspec": {
   "display_name": "Python 3",
   "language": "python",
   "name": "python3"
  },
  "language_info": {
   "codemirror_mode": {
    "name": "ipython",
    "version": 3
   },
   "file_extension": ".py",
   "mimetype": "text/x-python",
   "name": "python",
   "nbconvert_exporter": "python",
   "pygments_lexer": "ipython3",
   "version": "3.7.3"
  }
 },
 "nbformat": 4,
 "nbformat_minor": 2
}
