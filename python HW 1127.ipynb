{
 "cells": [
  {
   "cell_type": "code",
   "execution_count": 2,
   "metadata": {},
   "outputs": [],
   "source": [
    "%matplotlib inline\n",
    "import numpy as np\n",
    "import matplotlib.pyplot as plt\n",
    "import pandas as pd\n"
   ]
  },
  {
   "cell_type": "markdown",
   "metadata": {},
   "source": [
    "## HW:跑線性迴歸(扶養比，老化指數)"
   ]
  },
  {
   "cell_type": "code",
   "execution_count": 3,
   "metadata": {},
   "outputs": [
    {
     "data": {
      "text/html": [
       "<div>\n",
       "<style scoped>\n",
       "    .dataframe tbody tr th:only-of-type {\n",
       "        vertical-align: middle;\n",
       "    }\n",
       "\n",
       "    .dataframe tbody tr th {\n",
       "        vertical-align: top;\n",
       "    }\n",
       "\n",
       "    .dataframe thead th {\n",
       "        text-align: right;\n",
       "    }\n",
       "</style>\n",
       "<table border=\"1\" class=\"dataframe\">\n",
       "  <thead>\n",
       "    <tr style=\"text-align: right;\">\n",
       "      <th></th>\n",
       "      <th>TOWN_ID</th>\n",
       "      <th>TOWN</th>\n",
       "      <th>COUNTY_ID</th>\n",
       "      <th>COUNTY</th>\n",
       "      <th>性比例</th>\n",
       "      <th>戶量</th>\n",
       "      <th>人口密度</th>\n",
       "      <th>扶養比</th>\n",
       "      <th>扶幼比</th>\n",
       "      <th>扶老比</th>\n",
       "      <th>老化指數</th>\n",
       "    </tr>\n",
       "  </thead>\n",
       "  <tbody>\n",
       "    <tr>\n",
       "      <th>0</th>\n",
       "      <td>9007010</td>\n",
       "      <td>南竿鄉</td>\n",
       "      <td>9007</td>\n",
       "      <td>連江縣</td>\n",
       "      <td>128.13</td>\n",
       "      <td>4.32</td>\n",
       "      <td>737.33</td>\n",
       "      <td>30.08</td>\n",
       "      <td>16.43</td>\n",
       "      <td>13.65</td>\n",
       "      <td>83.06</td>\n",
       "    </tr>\n",
       "    <tr>\n",
       "      <th>1</th>\n",
       "      <td>9007020</td>\n",
       "      <td>北竿鄉</td>\n",
       "      <td>9007</td>\n",
       "      <td>連江縣</td>\n",
       "      <td>126.21</td>\n",
       "      <td>3.75</td>\n",
       "      <td>351.08</td>\n",
       "      <td>31.79</td>\n",
       "      <td>13.91</td>\n",
       "      <td>17.88</td>\n",
       "      <td>128.52</td>\n",
       "    </tr>\n",
       "    <tr>\n",
       "      <th>2</th>\n",
       "      <td>9007030</td>\n",
       "      <td>莒光鄉</td>\n",
       "      <td>9007</td>\n",
       "      <td>連江縣</td>\n",
       "      <td>157.23</td>\n",
       "      <td>5.36</td>\n",
       "      <td>356.15</td>\n",
       "      <td>26.90</td>\n",
       "      <td>9.57</td>\n",
       "      <td>17.33</td>\n",
       "      <td>181.15</td>\n",
       "    </tr>\n",
       "    <tr>\n",
       "      <th>3</th>\n",
       "      <td>9007040</td>\n",
       "      <td>東引鄉</td>\n",
       "      <td>9007</td>\n",
       "      <td>連江縣</td>\n",
       "      <td>146.35</td>\n",
       "      <td>3.97</td>\n",
       "      <td>303.56</td>\n",
       "      <td>27.84</td>\n",
       "      <td>17.14</td>\n",
       "      <td>10.70</td>\n",
       "      <td>62.43</td>\n",
       "    </tr>\n",
       "    <tr>\n",
       "      <th>4</th>\n",
       "      <td>9020010</td>\n",
       "      <td>金城鎮</td>\n",
       "      <td>9020</td>\n",
       "      <td>金門縣</td>\n",
       "      <td>99.10</td>\n",
       "      <td>3.33</td>\n",
       "      <td>1923.98</td>\n",
       "      <td>30.45</td>\n",
       "      <td>13.42</td>\n",
       "      <td>17.03</td>\n",
       "      <td>126.88</td>\n",
       "    </tr>\n",
       "  </tbody>\n",
       "</table>\n",
       "</div>"
      ],
      "text/plain": [
       "   TOWN_ID TOWN  COUNTY_ID COUNTY     性比例    戶量     人口密度    扶養比    扶幼比    扶老比  \\\n",
       "0  9007010  南竿鄉       9007    連江縣  128.13  4.32   737.33  30.08  16.43  13.65   \n",
       "1  9007020  北竿鄉       9007    連江縣  126.21  3.75   351.08  31.79  13.91  17.88   \n",
       "2  9007030  莒光鄉       9007    連江縣  157.23  5.36   356.15  26.90   9.57  17.33   \n",
       "3  9007040  東引鄉       9007    連江縣  146.35  3.97   303.56  27.84  17.14  10.70   \n",
       "4  9020010  金城鎮       9020    金門縣   99.10  3.33  1923.98  30.45  13.42  17.03   \n",
       "\n",
       "     老化指數  \n",
       "0   83.06  \n",
       "1  128.52  \n",
       "2  181.15  \n",
       "3   62.43  \n",
       "4  126.88  "
      ]
     },
     "execution_count": 3,
     "metadata": {},
     "output_type": "execute_result"
    }
   ],
   "source": [
    "df= pd.read_excel(\"107年12月行政區人口指標_鄉鎮市區.xlsx\")\n",
    "df.head()\n",
    "\n"
   ]
  },
  {
   "cell_type": "code",
   "execution_count": 4,
   "metadata": {},
   "outputs": [
    {
     "name": "stdout",
     "output_type": "stream",
     "text": [
      "<class 'pandas.core.frame.DataFrame'>\n",
      "RangeIndex: 368 entries, 0 to 367\n",
      "Data columns (total 11 columns):\n",
      "TOWN_ID      368 non-null int64\n",
      "TOWN         368 non-null object\n",
      "COUNTY_ID    368 non-null int64\n",
      "COUNTY       368 non-null object\n",
      "性比例          368 non-null float64\n",
      "戶量           368 non-null float64\n",
      "人口密度         368 non-null float64\n",
      "扶養比          368 non-null float64\n",
      "扶幼比          368 non-null float64\n",
      "扶老比          368 non-null float64\n",
      "老化指數         368 non-null float64\n",
      "dtypes: float64(7), int64(2), object(2)\n",
      "memory usage: 31.7+ KB\n"
     ]
    }
   ],
   "source": [
    "df.info()"
   ]
  },
  {
   "cell_type": "code",
   "execution_count": 5,
   "metadata": {},
   "outputs": [
    {
     "data": {
      "text/html": [
       "<div>\n",
       "<style scoped>\n",
       "    .dataframe tbody tr th:only-of-type {\n",
       "        vertical-align: middle;\n",
       "    }\n",
       "\n",
       "    .dataframe tbody tr th {\n",
       "        vertical-align: top;\n",
       "    }\n",
       "\n",
       "    .dataframe thead th {\n",
       "        text-align: right;\n",
       "    }\n",
       "</style>\n",
       "<table border=\"1\" class=\"dataframe\">\n",
       "  <thead>\n",
       "    <tr style=\"text-align: right;\">\n",
       "      <th></th>\n",
       "      <th>TOWN</th>\n",
       "      <th>COUNTY</th>\n",
       "      <th>扶養比</th>\n",
       "      <th>老化指數</th>\n",
       "    </tr>\n",
       "  </thead>\n",
       "  <tbody>\n",
       "    <tr>\n",
       "      <th>0</th>\n",
       "      <td>南竿鄉</td>\n",
       "      <td>連江縣</td>\n",
       "      <td>30.08</td>\n",
       "      <td>83.06</td>\n",
       "    </tr>\n",
       "    <tr>\n",
       "      <th>1</th>\n",
       "      <td>北竿鄉</td>\n",
       "      <td>連江縣</td>\n",
       "      <td>31.79</td>\n",
       "      <td>128.52</td>\n",
       "    </tr>\n",
       "    <tr>\n",
       "      <th>2</th>\n",
       "      <td>莒光鄉</td>\n",
       "      <td>連江縣</td>\n",
       "      <td>26.90</td>\n",
       "      <td>181.15</td>\n",
       "    </tr>\n",
       "    <tr>\n",
       "      <th>3</th>\n",
       "      <td>東引鄉</td>\n",
       "      <td>連江縣</td>\n",
       "      <td>27.84</td>\n",
       "      <td>62.43</td>\n",
       "    </tr>\n",
       "    <tr>\n",
       "      <th>4</th>\n",
       "      <td>金城鎮</td>\n",
       "      <td>金門縣</td>\n",
       "      <td>30.45</td>\n",
       "      <td>126.88</td>\n",
       "    </tr>\n",
       "  </tbody>\n",
       "</table>\n",
       "</div>"
      ],
      "text/plain": [
       "  TOWN COUNTY    扶養比    老化指數\n",
       "0  南竿鄉    連江縣  30.08   83.06\n",
       "1  北竿鄉    連江縣  31.79  128.52\n",
       "2  莒光鄉    連江縣  26.90  181.15\n",
       "3  東引鄉    連江縣  27.84   62.43\n",
       "4  金城鎮    金門縣  30.45  126.88"
      ]
     },
     "execution_count": 5,
     "metadata": {},
     "output_type": "execute_result"
    }
   ],
   "source": [
    "df[['TOWN','COUNTY','扶養比','老化指數']].head()"
   ]
  },
  {
   "cell_type": "code",
   "execution_count": 6,
   "metadata": {},
   "outputs": [],
   "source": [
    "from sklearn.model_selection import train_test_split"
   ]
  },
  {
   "cell_type": "code",
   "execution_count": 7,
   "metadata": {},
   "outputs": [],
   "source": [
    "x = df.扶養比\n",
    "y =df.老化指數 \n",
    "x=x.values\n",
    "y=y.values\n",
    "\n",
    "import math\n",
    "\n",
    "y=np.sqrt(y)\n",
    "x=x.reshape(368,1)\n",
    "y=y.reshape(368,1)\n",
    "x_train,x_test,y_train,y_test=train_test_split(x,y,test_size=0.2,random_state=0) #random_state=set.seed()\n"
   ]
  },
  {
   "cell_type": "code",
   "execution_count": 8,
   "metadata": {},
   "outputs": [],
   "source": [
    "from sklearn.linear_model import LinearRegression\n",
    "\n",
    "model=LinearRegression()\n",
    "\n"
   ]
  },
  {
   "cell_type": "code",
   "execution_count": 9,
   "metadata": {},
   "outputs": [
    {
     "data": {
      "text/plain": [
       "LinearRegression(copy_X=True, fit_intercept=True, n_jobs=None, normalize=False)"
      ]
     },
     "execution_count": 9,
     "metadata": {},
     "output_type": "execute_result"
    }
   ],
   "source": [
    "model.fit(x_train,y_train)"
   ]
  },
  {
   "cell_type": "code",
   "execution_count": 10,
   "metadata": {},
   "outputs": [],
   "source": [
    "y_predict=model.predict(x_test)\n"
   ]
  },
  {
   "cell_type": "code",
   "execution_count": 11,
   "metadata": {},
   "outputs": [],
   "source": [
    "import seaborn as sns\n",
    "sns.set()"
   ]
  },
  {
   "cell_type": "code",
   "execution_count": 12,
   "metadata": {},
   "outputs": [
    {
     "data": {
      "text/plain": [
       "<matplotlib.collections.PathCollection at 0x1ee47f62b70>"
      ]
     },
     "execution_count": 12,
     "metadata": {},
     "output_type": "execute_result"
    },
    {
     "data": {
      "image/png": "[encoded data removed]",
      "text/plain": [
       "<Figure size 432x288 with 1 Axes>"
      ]
     },
     "metadata": {},
     "output_type": "display_data"
    }
   ],
   "source": [
    "plt.scatter(y_test,y_predict,c='Brown')\n"
   ]
  },
  {
   "cell_type": "code",
   "execution_count": 13,
   "metadata": {
    "scrolled": true
   },
   "outputs": [
    {
     "data": {
      "text/plain": [
       "[<matplotlib.lines.Line2D at 0x1ee48005f28>]"
      ]
     },
     "execution_count": 13,
     "metadata": {},
     "output_type": "execute_result"
    },
    {
     "data": {
      "image/png": "[encoded data removed]",
      "text/plain": [
       "<Figure size 432x288 with 1 Axes>"
      ]
     },
     "metadata": {},
     "output_type": "display_data"
    }
   ],
   "source": [
    "plt.xlim([8,20])\n",
    "plt.ylim([8,20])\n",
    "plt.scatter(y_test,y_predict,c='Brown')\n",
    "\n",
    "plt.plot([8,20],[8,20],'DarkGreen')"
   ]
  },
  {
   "cell_type": "markdown",
   "metadata": {},
   "source": [
    "## HW2:詞雲(社會學)"
   ]
  },
  {
   "cell_type": "code",
   "execution_count": 15,
   "metadata": {},
   "outputs": [],
   "source": [
    "from wordcloud import WordCloud\n",
    "import jieba\n",
    "sociology = open('Sociology .txt').read()\n"
   ]
  },
  {
   "cell_type": "code",
   "execution_count": 20,
   "metadata": {},
   "outputs": [
    {
     "data": {
      "image/png": "[encoded data removed]",
      "text/plain": [
       "<Figure size 432x288 with 1 Axes>"
      ]
     },
     "metadata": {},
     "output_type": "display_data"
    }
   ],
   "source": [
    "words = jieba.cut(sociology, cut_all = True)\n",
    "words_split = \" \".join(words)\n",
    "wordcloud = WordCloud(width=5000, height=2500,background_color='white').generate(words_split)\n",
    "max_font_size = 200\n",
    "\n",
    "random_state = 20\n",
    "plt.imshow(wordcloud)\n",
    "plt.axis(\"off\")\n",
    "plt.show()"
   ]
  },
  {
   "cell_type": "code",
   "execution_count": null,
   "metadata": {},
   "outputs": [],
   "source": []
  },
  {
   "cell_type": "code",
   "execution_count": null,
   "metadata": {},
   "outputs": [],
   "source": []
  },
  {
   "cell_type": "code",
   "execution_count": null,
   "metadata": {},
   "outputs": [],
   "source": []
  },
  {
   "cell_type": "code",
   "execution_count": null,
   "metadata": {},
   "outputs": [],
   "source": []
  },
  {
   "cell_type": "code",
   "execution_count": null,
   "metadata": {},
   "outputs": [],
   "source": []
  },
  {
   "cell_type": "code",
   "execution_count": null,
   "metadata": {},
   "outputs": [],
   "source": []
  },
  {
   "cell_type": "code",
   "execution_count": null,
   "metadata": {},
   "outputs": [],
   "source": []
  },
  {
   "cell_type": "code",
   "execution_count": null,
   "metadata": {},
   "outputs": [],
   "source": []
  },
  {
   "cell_type": "code",
   "execution_count": null,
   "metadata": {},
   "outputs": [],
   "source": []
  },
  {
   "cell_type": "code",
   "execution_count": null,
   "metadata": {},
   "outputs": [],
   "source": []
  },
  {
   "cell_type": "code",
   "execution_count": null,
   "metadata": {},
   "outputs": [],
   "source": []
  },
  {
   "cell_type": "code",
   "execution_count": null,
   "metadata": {},
   "outputs": [],
   "source": []
  }
 ],
 "metadata": {
  "kernelspec": {
   "display_name": "Python 3",
   "language": "python",
   "name": "python3"
  },
  "language_info": {
   "codemirror_mode": {
    "name": "ipython",
    "version": 3
   },
   "file_extension": ".py",
   "mimetype": "text/x-python",
   "name": "python",
   "nbconvert_exporter": "python",
   "pygments_lexer": "ipython3",
   "version": "3.7.3"
  }
 },
 "nbformat": 4,
 "nbformat_minor": 2
}
